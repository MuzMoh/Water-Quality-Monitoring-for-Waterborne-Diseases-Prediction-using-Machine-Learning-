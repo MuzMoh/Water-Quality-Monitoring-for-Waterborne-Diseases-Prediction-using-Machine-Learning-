{
  "nbformat": 4,
  "nbformat_minor": 0,
  "metadata": {
    "colab": {
      "provenance": [],
      "collapsed_sections": [],
      "include_colab_link": true
    },
    "kernelspec": {
      "display_name": "Python 3",
      "name": "python3"
    },
    "language_info": {
      "name": "python"
    }
  },
  "cells": [
    {
      "cell_type": "markdown",
      "metadata": {
        "id": "view-in-github",
        "colab_type": "text"
      },
      "source": [
        "<a href=\"https://colab.research.google.com/github/MuzMoh/Water-Quality-Monitoring-for-Waterborne-Diseases-Prediction-using-Machine-Learning-/blob/main/Water_Quality_Monitoring_for_Waterborne_Diseases_Prediction_using_Machine_Learning.ipynb\" target=\"_parent\"><img src=\"https://colab.research.google.com/assets/colab-badge.svg\" alt=\"Open In Colab\"/></a>"
      ]
    },
    {
      "cell_type": "code",
      "metadata": {
        "colab": {
          "base_uri": "https://localhost:8080/"
        },
        "id": "GmTCJmd6g8lq",
        "outputId": "2e194faf-7139-4bec-ea32-272e429784ce"
      },
      "source": [
        "from google.colab import drive\n",
        "drive.mount('/content/drive')"
      ],
      "execution_count": null,
      "outputs": [
        {
          "output_type": "stream",
          "name": "stdout",
          "text": [
            "Mounted at /content/drive\n"
          ]
        }
      ]
    },
    {
      "cell_type": "code",
      "metadata": {
        "id": "82gWmRcV6eh8"
      },
      "source": [
        "#Data Pre-processing and Visualisation\n",
        "import numpy as np\n",
        "import pandas as pd\n",
        "import seaborn as sns \n",
        "import matplotlib.pyplot as plt\n",
        "from scipy.stats import probplot\n",
        "from scipy.stats import zscore\n",
        "from sklearn.impute import SimpleImputer\n",
        "\n",
        "#Data Transformation\n",
        "from sklearn.preprocessing import MinMaxScaler\n",
        "from sklearn.model_selection import train_test_split\n",
        "\n",
        "#Data Modelling\n",
        "import keras\n",
        "import sklearn\n",
        "from sklearn import svm\n",
        "from sklearn.svm import SVC\n",
        "import tensorflow as tf\n",
        "from keras.models import Sequential\n",
        "from tensorflow.keras.models import Model\n",
        "from keras.layers import Dense, Embedding, LSTM, Dropout, Activation\n",
        "\n",
        "\n",
        "#Model Evaluation\n",
        "from scipy import stats\n",
        "from sklearn.metrics import accuracy_score\n",
        "from sklearn.metrics import classification_report "
      ],
      "execution_count": null,
      "outputs": []
    },
    {
      "cell_type": "code",
      "metadata": {
        "colab": {
          "base_uri": "https://localhost:8080/",
          "height": 35
        },
        "id": "zUUqnp4nxhKx",
        "outputId": "aa0d6acf-b7ac-4a98-dcea-25e864e19ed6"
      },
      "source": [
        "sklearn. __version__ "
      ],
      "execution_count": null,
      "outputs": [
        {
          "output_type": "execute_result",
          "data": {
            "application/vnd.google.colaboratory.intrinsic+json": {
              "type": "string"
            },
            "text/plain": [
              "'0.22.2.post1'"
            ]
          },
          "metadata": {},
          "execution_count": 3
        }
      ]
    },
    {
      "cell_type": "code",
      "metadata": {
        "colab": {
          "base_uri": "https://localhost:8080/",
          "height": 35
        },
        "id": "EFhiT4eBw7f7",
        "outputId": "18e655f2-b07c-401b-f569-e08e0f392ab9"
      },
      "source": [
        "tf. __version__"
      ],
      "execution_count": null,
      "outputs": [
        {
          "output_type": "execute_result",
          "data": {
            "application/vnd.google.colaboratory.intrinsic+json": {
              "type": "string"
            },
            "text/plain": [
              "'2.6.0'"
            ]
          },
          "metadata": {},
          "execution_count": 4
        }
      ]
    },
    {
      "cell_type": "code",
      "metadata": {
        "colab": {
          "base_uri": "https://localhost:8080/",
          "height": 35
        },
        "id": "UWRbZfR-0U8C",
        "outputId": "f4db82d7-3de4-497b-c679-f3b2ce113920"
      },
      "source": [
        "keras. __version__ "
      ],
      "execution_count": null,
      "outputs": [
        {
          "output_type": "execute_result",
          "data": {
            "application/vnd.google.colaboratory.intrinsic+json": {
              "type": "string"
            },
            "text/plain": [
              "'2.6.0'"
            ]
          },
          "metadata": {},
          "execution_count": 5
        }
      ]
    },
    {
      "cell_type": "markdown",
      "metadata": {
        "id": "RlgCoUzV52hw"
      },
      "source": [
        "# **Data Exploration**\n",
        "\n",
        "\n",
        "\n"
      ]
    },
    {
      "cell_type": "code",
      "metadata": {
        "colab": {
          "base_uri": "https://localhost:8080/"
        },
        "id": "xSmE-cyYlpfW",
        "outputId": "1bdcc586-cbb6-413a-9bd6-d22e9fa8f43c"
      },
      "source": [
        "# Importing the dataset\n",
        "df = pd.read_csv(\"/content/drive/MyDrive/FYP/water_dataX.csv\", encoding= 'unicode_escape')\n",
        "df.shape"
      ],
      "execution_count": null,
      "outputs": [
        {
          "output_type": "execute_result",
          "data": {
            "text/plain": [
              "(1988, 12)"
            ]
          },
          "metadata": {},
          "execution_count": 6
        }
      ]
    },
    {
      "cell_type": "code",
      "metadata": {
        "colab": {
          "base_uri": "https://localhost:8080/",
          "height": 255
        },
        "id": "SZgPgnnD7AdY",
        "outputId": "e45cf71b-ea7e-47fa-e16a-e86ff44b5328"
      },
      "source": [
        "df.head()"
      ],
      "execution_count": null,
      "outputs": [
        {
          "output_type": "execute_result",
          "data": {
            "text/html": [
              "<div>\n",
              "<style scoped>\n",
              "    .dataframe tbody tr th:only-of-type {\n",
              "        vertical-align: middle;\n",
              "    }\n",
              "\n",
              "    .dataframe tbody tr th {\n",
              "        vertical-align: top;\n",
              "    }\n",
              "\n",
              "    .dataframe thead th {\n",
              "        text-align: right;\n",
              "    }\n",
              "</style>\n",
              "<table border=\"1\" class=\"dataframe\">\n",
              "  <thead>\n",
              "    <tr style=\"text-align: right;\">\n",
              "      <th></th>\n",
              "      <th>STATION CODE</th>\n",
              "      <th>LOCATIONS</th>\n",
              "      <th>STATE</th>\n",
              "      <th>Temp</th>\n",
              "      <th>D.O. (mg/l)</th>\n",
              "      <th>PH</th>\n",
              "      <th>CONDUCTIVITY (µmhos/cm)</th>\n",
              "      <th>B.O.D. (mg/l)</th>\n",
              "      <th>NITRATENAN N+ NITRITENANN (mg/l)</th>\n",
              "      <th>FECAL COLIFORM (MPN/100ml)</th>\n",
              "      <th>TOTAL COLIFORM (MPN/100ml)Mean</th>\n",
              "      <th>year</th>\n",
              "    </tr>\n",
              "  </thead>\n",
              "  <tbody>\n",
              "    <tr>\n",
              "      <th>0</th>\n",
              "      <td>1393</td>\n",
              "      <td>DAMANGANGA AT D/S OF MADHUBAN, DAMAN</td>\n",
              "      <td>DAMAN &amp; DIU</td>\n",
              "      <td>30.6</td>\n",
              "      <td>6.7</td>\n",
              "      <td>7.5</td>\n",
              "      <td>203</td>\n",
              "      <td>NAN</td>\n",
              "      <td>0.1</td>\n",
              "      <td>11</td>\n",
              "      <td>27</td>\n",
              "      <td>2014</td>\n",
              "    </tr>\n",
              "    <tr>\n",
              "      <th>1</th>\n",
              "      <td>1399</td>\n",
              "      <td>ZUARI AT D/S OF PT. WHERE KUMBARJRIA CANAL JOI...</td>\n",
              "      <td>GOA</td>\n",
              "      <td>29.8</td>\n",
              "      <td>5.7</td>\n",
              "      <td>7.2</td>\n",
              "      <td>189</td>\n",
              "      <td>2</td>\n",
              "      <td>0.2</td>\n",
              "      <td>4953</td>\n",
              "      <td>8391</td>\n",
              "      <td>2014</td>\n",
              "    </tr>\n",
              "    <tr>\n",
              "      <th>2</th>\n",
              "      <td>1475</td>\n",
              "      <td>ZUARI AT PANCHAWADI</td>\n",
              "      <td>GOA</td>\n",
              "      <td>29.5</td>\n",
              "      <td>6.3</td>\n",
              "      <td>6.9</td>\n",
              "      <td>179</td>\n",
              "      <td>1.7</td>\n",
              "      <td>0.1</td>\n",
              "      <td>3243</td>\n",
              "      <td>5330</td>\n",
              "      <td>2014</td>\n",
              "    </tr>\n",
              "    <tr>\n",
              "      <th>3</th>\n",
              "      <td>3181</td>\n",
              "      <td>RIVER ZUARI AT BORIM BRIDGE</td>\n",
              "      <td>GOA</td>\n",
              "      <td>29.7</td>\n",
              "      <td>5.8</td>\n",
              "      <td>6.9</td>\n",
              "      <td>64</td>\n",
              "      <td>3.8</td>\n",
              "      <td>0.5</td>\n",
              "      <td>5382</td>\n",
              "      <td>8443</td>\n",
              "      <td>2014</td>\n",
              "    </tr>\n",
              "    <tr>\n",
              "      <th>4</th>\n",
              "      <td>3182</td>\n",
              "      <td>RIVER ZUARI AT MARCAIM JETTY</td>\n",
              "      <td>GOA</td>\n",
              "      <td>29.5</td>\n",
              "      <td>5.8</td>\n",
              "      <td>7.3</td>\n",
              "      <td>83</td>\n",
              "      <td>1.9</td>\n",
              "      <td>0.4</td>\n",
              "      <td>3428</td>\n",
              "      <td>5500</td>\n",
              "      <td>2014</td>\n",
              "    </tr>\n",
              "  </tbody>\n",
              "</table>\n",
              "</div>"
            ],
            "text/plain": [
              "  STATION CODE  ...  year\n",
              "0         1393  ...  2014\n",
              "1         1399  ...  2014\n",
              "2         1475  ...  2014\n",
              "3         3181  ...  2014\n",
              "4         3182  ...  2014\n",
              "\n",
              "[5 rows x 12 columns]"
            ]
          },
          "metadata": {},
          "execution_count": 7
        }
      ]
    },
    {
      "cell_type": "code",
      "metadata": {
        "colab": {
          "base_uri": "https://localhost:8080/"
        },
        "id": "lXBiEU4H6_Yz",
        "outputId": "a13de435-a629-47eb-b7a5-1cc672d1b7a9"
      },
      "source": [
        "# Checking for datatypes of the dataset\n",
        "df.dtypes"
      ],
      "execution_count": null,
      "outputs": [
        {
          "output_type": "execute_result",
          "data": {
            "text/plain": [
              "STATION CODE                        object\n",
              "LOCATIONS                           object\n",
              "STATE                               object\n",
              "Temp                                object\n",
              "D.O. (mg/l)                         object\n",
              "PH                                  object\n",
              "CONDUCTIVITY (µmhos/cm)             object\n",
              "B.O.D. (mg/l)                       object\n",
              "NITRATENAN N+ NITRITENANN (mg/l)    object\n",
              "FECAL COLIFORM (MPN/100ml)          object\n",
              "TOTAL COLIFORM (MPN/100ml)Mean      object\n",
              "year                                 int64\n",
              "dtype: object"
            ]
          },
          "metadata": {},
          "execution_count": 8
        }
      ]
    },
    {
      "cell_type": "code",
      "metadata": {
        "id": "cwskvwjl7CF_"
      },
      "source": [
        "# Changing column names\n",
        "df = df.rename(columns={\"LOCATIONS\": \"Address\", \"STATE\": \"Location\", \"D.O. (mg/l)\": \"DO\", \"CONDUCTIVITY (µmhos/cm)\": \"Conductivity\", \n",
        "                        \"B.O.D. (mg/l)\": \"BOD\", \"NITRATENAN N+ NITRITENANN (mg/l)\": \"NI\", \n",
        "                        \"FECAL COLIFORM (MPN/100ml)\": \"Fec_col\", \"TOTAL COLIFORM (MPN/100ml)Mean\": \"Tot_col\"})"
      ],
      "execution_count": null,
      "outputs": []
    },
    {
      "cell_type": "code",
      "metadata": {
        "colab": {
          "base_uri": "https://localhost:8080/",
          "height": 297
        },
        "id": "mTPZN6xTv6ck",
        "outputId": "09a4588d-88c1-48cb-cfc7-90f8941da4f2"
      },
      "source": [
        "df.describe()"
      ],
      "execution_count": null,
      "outputs": [
        {
          "output_type": "execute_result",
          "data": {
            "text/html": [
              "<div>\n",
              "<style scoped>\n",
              "    .dataframe tbody tr th:only-of-type {\n",
              "        vertical-align: middle;\n",
              "    }\n",
              "\n",
              "    .dataframe tbody tr th {\n",
              "        vertical-align: top;\n",
              "    }\n",
              "\n",
              "    .dataframe thead th {\n",
              "        text-align: right;\n",
              "    }\n",
              "</style>\n",
              "<table border=\"1\" class=\"dataframe\">\n",
              "  <thead>\n",
              "    <tr style=\"text-align: right;\">\n",
              "      <th></th>\n",
              "      <th>year</th>\n",
              "    </tr>\n",
              "  </thead>\n",
              "  <tbody>\n",
              "    <tr>\n",
              "      <th>count</th>\n",
              "      <td>1988.000000</td>\n",
              "    </tr>\n",
              "    <tr>\n",
              "      <th>mean</th>\n",
              "      <td>2010.038732</td>\n",
              "    </tr>\n",
              "    <tr>\n",
              "      <th>std</th>\n",
              "      <td>3.054118</td>\n",
              "    </tr>\n",
              "    <tr>\n",
              "      <th>min</th>\n",
              "      <td>2003.000000</td>\n",
              "    </tr>\n",
              "    <tr>\n",
              "      <th>25%</th>\n",
              "      <td>2008.000000</td>\n",
              "    </tr>\n",
              "    <tr>\n",
              "      <th>50%</th>\n",
              "      <td>2011.000000</td>\n",
              "    </tr>\n",
              "    <tr>\n",
              "      <th>75%</th>\n",
              "      <td>2013.000000</td>\n",
              "    </tr>\n",
              "    <tr>\n",
              "      <th>max</th>\n",
              "      <td>2014.000000</td>\n",
              "    </tr>\n",
              "  </tbody>\n",
              "</table>\n",
              "</div>"
            ],
            "text/plain": [
              "              year\n",
              "count  1988.000000\n",
              "mean   2010.038732\n",
              "std       3.054118\n",
              "min    2003.000000\n",
              "25%    2008.000000\n",
              "50%    2011.000000\n",
              "75%    2013.000000\n",
              "max    2014.000000"
            ]
          },
          "metadata": {},
          "execution_count": 10
        }
      ]
    },
    {
      "cell_type": "markdown",
      "metadata": {
        "id": "4w5Y2csj67Ot"
      },
      "source": [
        "# **Data Cleaning/Pre-processing**"
      ]
    },
    {
      "cell_type": "code",
      "metadata": {
        "colab": {
          "base_uri": "https://localhost:8080/"
        },
        "id": "6DcQKWu87HAf",
        "outputId": "ab395f46-1c1d-4f6b-c92e-d1f6f368b53c"
      },
      "source": [
        "# Converting object data type to numeric\n",
        "def convert_to_numeric(df):\n",
        "    num_col = df.shape[1]\n",
        "    # Start from index 3\n",
        "    for index in range(3, num_col):\n",
        "        col_name = df.iloc[:, index].name\n",
        "        df[col_name] = pd.to_numeric(df[col_name], errors=\"coerce\")\n",
        "    return df\n",
        "\n",
        "df = convert_to_numeric(df)\n",
        "df.dtypes"
      ],
      "execution_count": null,
      "outputs": [
        {
          "output_type": "execute_result",
          "data": {
            "text/plain": [
              "STATION CODE     object\n",
              "Address          object\n",
              "Location         object\n",
              "Temp            float64\n",
              "DO              float64\n",
              "PH              float64\n",
              "Conductivity    float64\n",
              "BOD             float64\n",
              "NI              float64\n",
              "Fec_col         float64\n",
              "Tot_col         float64\n",
              "year              int64\n",
              "dtype: object"
            ]
          },
          "metadata": {},
          "execution_count": 11
        }
      ]
    },
    {
      "cell_type": "code",
      "metadata": {
        "colab": {
          "base_uri": "https://localhost:8080/"
        },
        "id": "EDsPiethXUMB",
        "outputId": "d02e2f93-f9bf-42dd-eb21-d0223fc4123c"
      },
      "source": [
        "df.shape[1]"
      ],
      "execution_count": null,
      "outputs": [
        {
          "output_type": "execute_result",
          "data": {
            "text/plain": [
              "12"
            ]
          },
          "metadata": {},
          "execution_count": 12
        }
      ]
    },
    {
      "cell_type": "code",
      "metadata": {
        "colab": {
          "base_uri": "https://localhost:8080/"
        },
        "id": "_B7hYpkVSZW8",
        "outputId": "6babc6f6-4c67-4661-ba0f-43ec7a3e6b19"
      },
      "source": [
        "# Checking for missing values\n",
        "df.isnull().sum().sort_values()"
      ],
      "execution_count": null,
      "outputs": [
        {
          "output_type": "execute_result",
          "data": {
            "text/plain": [
              "STATION CODE      0\n",
              "Address           0\n",
              "Location          0\n",
              "year              0\n",
              "PH                5\n",
              "Conductivity     22\n",
              "DO               28\n",
              "BOD              40\n",
              "Temp             89\n",
              "Tot_col         129\n",
              "NI              222\n",
              "Fec_col         313\n",
              "dtype: int64"
            ]
          },
          "metadata": {},
          "execution_count": 13
        }
      ]
    },
    {
      "cell_type": "code",
      "metadata": {
        "id": "AH4vJmW5WpnR"
      },
      "source": [
        "# Replacing string NAN values with actual NAN value (np.nan)\n",
        "def convert_to_nan(df):\n",
        "    n_col = df.shape[1]\n",
        "    for index in range(n_col):\n",
        "        df.iloc[:, index]  = df.iloc[:, index].replace(\"NAN\", np.nan)\n",
        "    return df\n",
        "\n",
        "df = convert_to_nan(df)"
      ],
      "execution_count": null,
      "outputs": []
    },
    {
      "cell_type": "code",
      "metadata": {
        "colab": {
          "base_uri": "https://localhost:8080/"
        },
        "id": "lcb5_-VCWrAT",
        "outputId": "ad2f470a-16f0-4123-ef39-cbe05590ffa6"
      },
      "source": [
        "# Checking for missing values\n",
        "df.isnull().sum().sort_values()"
      ],
      "execution_count": null,
      "outputs": [
        {
          "output_type": "execute_result",
          "data": {
            "text/plain": [
              "year              0\n",
              "PH                5\n",
              "Conductivity     22\n",
              "DO               28\n",
              "BOD              40\n",
              "Temp             89\n",
              "STATION CODE    119\n",
              "Tot_col         129\n",
              "Address         181\n",
              "NI              222\n",
              "Fec_col         313\n",
              "Location        758\n",
              "dtype: int64"
            ]
          },
          "metadata": {},
          "execution_count": 15
        }
      ]
    },
    {
      "cell_type": "code",
      "metadata": {
        "id": "fYhVIbS8Ws89"
      },
      "source": [
        "# Replacing NULL values with median of column in numeric columns\n",
        "df_num = df.select_dtypes(exclude=\"object\")\n",
        "df_num_col = df_num.columns\n",
        "imputer = SimpleImputer(strategy=\"median\")\n",
        "\n",
        "df_num = imputer.fit_transform(df_num)\n",
        "df_num = pd.DataFrame(df_num, columns=df_num_col)"
      ],
      "execution_count": null,
      "outputs": []
    },
    {
      "cell_type": "code",
      "metadata": {
        "colab": {
          "base_uri": "https://localhost:8080/"
        },
        "id": "0Eq0SgLoWvJa",
        "outputId": "04903c3a-b8cb-45e4-a503-10259c64dcf7"
      },
      "source": [
        "# Checking for missing values in categorical columns\n",
        "df_cat = df.select_dtypes(include=\"object\")\n",
        "df_cat.isnull().sum()"
      ],
      "execution_count": null,
      "outputs": [
        {
          "output_type": "execute_result",
          "data": {
            "text/plain": [
              "STATION CODE    119\n",
              "Address         181\n",
              "Location        758\n",
              "dtype: int64"
            ]
          },
          "metadata": {},
          "execution_count": 17
        }
      ]
    },
    {
      "cell_type": "code",
      "metadata": {
        "colab": {
          "base_uri": "https://localhost:8080/",
          "height": 328
        },
        "id": "rtyXekWLWyBC",
        "outputId": "ea6f2cc6-a7fd-4d10-b383-f914f6185cb2"
      },
      "source": [
        "# Here we can fill these values by obeserving other attributes\n",
        "# Example - \n",
        "pd.set_option('mode.chained_assignment', None)\n",
        "df_cat_copy = df_cat.copy()\n",
        "\n",
        "# STATION CODE with value 1330 belong in LOCATION - TAMIL NADU\n",
        "df_cat_copy[df_cat_copy[\"STATION CODE\"] == \"1330\"]"
      ],
      "execution_count": null,
      "outputs": [
        {
          "output_type": "execute_result",
          "data": {
            "text/html": [
              "<div>\n",
              "<style scoped>\n",
              "    .dataframe tbody tr th:only-of-type {\n",
              "        vertical-align: middle;\n",
              "    }\n",
              "\n",
              "    .dataframe tbody tr th {\n",
              "        vertical-align: top;\n",
              "    }\n",
              "\n",
              "    .dataframe thead th {\n",
              "        text-align: right;\n",
              "    }\n",
              "</style>\n",
              "<table border=\"1\" class=\"dataframe\">\n",
              "  <thead>\n",
              "    <tr style=\"text-align: right;\">\n",
              "      <th></th>\n",
              "      <th>STATION CODE</th>\n",
              "      <th>Address</th>\n",
              "      <th>Location</th>\n",
              "    </tr>\n",
              "  </thead>\n",
              "  <tbody>\n",
              "    <tr>\n",
              "      <th>166</th>\n",
              "      <td>1330</td>\n",
              "      <td>TAMBIRAPARANI AT ARUMUGANERI, TAMILNADU</td>\n",
              "      <td>TAMILNADU</td>\n",
              "    </tr>\n",
              "    <tr>\n",
              "      <th>423</th>\n",
              "      <td>1330</td>\n",
              "      <td>TAMBIRAPARANI AT ARUMUGANERI, TAMILNADU</td>\n",
              "      <td>TAMILNADU</td>\n",
              "    </tr>\n",
              "    <tr>\n",
              "      <th>675</th>\n",
              "      <td>1330</td>\n",
              "      <td>TAMBIRAPARANI AT ARUMUGANERI</td>\n",
              "      <td>TAMILNADU</td>\n",
              "    </tr>\n",
              "    <tr>\n",
              "      <th>1166</th>\n",
              "      <td>1330</td>\n",
              "      <td>TAMBIRAPARANI AT ARUMUGANERI</td>\n",
              "      <td>NaN</td>\n",
              "    </tr>\n",
              "    <tr>\n",
              "      <th>1349</th>\n",
              "      <td>1330</td>\n",
              "      <td>NaN</td>\n",
              "      <td>TAMBIRAPARANI AT ARUMUGANERI, TAMILNADU</td>\n",
              "    </tr>\n",
              "    <tr>\n",
              "      <th>1511</th>\n",
              "      <td>1330</td>\n",
              "      <td>TAMBIRAPARANI AT ARUMUGANERI, TAMILNADU</td>\n",
              "      <td>NaN</td>\n",
              "    </tr>\n",
              "    <tr>\n",
              "      <th>1624</th>\n",
              "      <td>1330</td>\n",
              "      <td>TAMBIRAPARANI AT ARUMUGANERI, TAMILNADU</td>\n",
              "      <td>NaN</td>\n",
              "    </tr>\n",
              "    <tr>\n",
              "      <th>1743</th>\n",
              "      <td>1330</td>\n",
              "      <td>TAMBIRAPARANI AT ARUMUGANERI, TAMILNADU</td>\n",
              "      <td>NaN</td>\n",
              "    </tr>\n",
              "    <tr>\n",
              "      <th>1983</th>\n",
              "      <td>1330</td>\n",
              "      <td>TAMBIRAPARANI AT ARUMUGANERI, TAMILNADU</td>\n",
              "      <td>NaN</td>\n",
              "    </tr>\n",
              "  </tbody>\n",
              "</table>\n",
              "</div>"
            ],
            "text/plain": [
              "     STATION CODE  ...                                 Location\n",
              "166          1330  ...                                TAMILNADU\n",
              "423          1330  ...                                TAMILNADU\n",
              "675          1330  ...                                TAMILNADU\n",
              "1166         1330  ...                                      NaN\n",
              "1349         1330  ...  TAMBIRAPARANI AT ARUMUGANERI, TAMILNADU\n",
              "1511         1330  ...                                      NaN\n",
              "1624         1330  ...                                      NaN\n",
              "1743         1330  ...                                      NaN\n",
              "1983         1330  ...                                      NaN\n",
              "\n",
              "[9 rows x 3 columns]"
            ]
          },
          "metadata": {},
          "execution_count": 18
        }
      ]
    },
    {
      "cell_type": "code",
      "metadata": {
        "colab": {
          "base_uri": "https://localhost:8080/",
          "height": 328
        },
        "id": "7MNNIKQ8e154",
        "outputId": "b038266b-2566-47c9-a72a-f8cdb63e959d"
      },
      "source": [
        "# I can replace all the NAN occurences in LOCATION with TAMILNADU\n",
        "df_cat_copy[\"Location\"][df_cat_copy[\"STATION CODE\"] == \"1330\"] = df_cat_copy[\"Location\"][df_cat_copy[\"STATION CODE\"] == \"1330\"].fillna(\"TAMILNADU\")\n",
        "\n",
        "df_cat_copy[df_cat_copy[\"STATION CODE\"] == \"1330\"]"
      ],
      "execution_count": null,
      "outputs": [
        {
          "output_type": "execute_result",
          "data": {
            "text/html": [
              "<div>\n",
              "<style scoped>\n",
              "    .dataframe tbody tr th:only-of-type {\n",
              "        vertical-align: middle;\n",
              "    }\n",
              "\n",
              "    .dataframe tbody tr th {\n",
              "        vertical-align: top;\n",
              "    }\n",
              "\n",
              "    .dataframe thead th {\n",
              "        text-align: right;\n",
              "    }\n",
              "</style>\n",
              "<table border=\"1\" class=\"dataframe\">\n",
              "  <thead>\n",
              "    <tr style=\"text-align: right;\">\n",
              "      <th></th>\n",
              "      <th>STATION CODE</th>\n",
              "      <th>Address</th>\n",
              "      <th>Location</th>\n",
              "    </tr>\n",
              "  </thead>\n",
              "  <tbody>\n",
              "    <tr>\n",
              "      <th>166</th>\n",
              "      <td>1330</td>\n",
              "      <td>TAMBIRAPARANI AT ARUMUGANERI, TAMILNADU</td>\n",
              "      <td>TAMILNADU</td>\n",
              "    </tr>\n",
              "    <tr>\n",
              "      <th>423</th>\n",
              "      <td>1330</td>\n",
              "      <td>TAMBIRAPARANI AT ARUMUGANERI, TAMILNADU</td>\n",
              "      <td>TAMILNADU</td>\n",
              "    </tr>\n",
              "    <tr>\n",
              "      <th>675</th>\n",
              "      <td>1330</td>\n",
              "      <td>TAMBIRAPARANI AT ARUMUGANERI</td>\n",
              "      <td>TAMILNADU</td>\n",
              "    </tr>\n",
              "    <tr>\n",
              "      <th>1166</th>\n",
              "      <td>1330</td>\n",
              "      <td>TAMBIRAPARANI AT ARUMUGANERI</td>\n",
              "      <td>TAMILNADU</td>\n",
              "    </tr>\n",
              "    <tr>\n",
              "      <th>1349</th>\n",
              "      <td>1330</td>\n",
              "      <td>NaN</td>\n",
              "      <td>TAMBIRAPARANI AT ARUMUGANERI, TAMILNADU</td>\n",
              "    </tr>\n",
              "    <tr>\n",
              "      <th>1511</th>\n",
              "      <td>1330</td>\n",
              "      <td>TAMBIRAPARANI AT ARUMUGANERI, TAMILNADU</td>\n",
              "      <td>TAMILNADU</td>\n",
              "    </tr>\n",
              "    <tr>\n",
              "      <th>1624</th>\n",
              "      <td>1330</td>\n",
              "      <td>TAMBIRAPARANI AT ARUMUGANERI, TAMILNADU</td>\n",
              "      <td>TAMILNADU</td>\n",
              "    </tr>\n",
              "    <tr>\n",
              "      <th>1743</th>\n",
              "      <td>1330</td>\n",
              "      <td>TAMBIRAPARANI AT ARUMUGANERI, TAMILNADU</td>\n",
              "      <td>TAMILNADU</td>\n",
              "    </tr>\n",
              "    <tr>\n",
              "      <th>1983</th>\n",
              "      <td>1330</td>\n",
              "      <td>TAMBIRAPARANI AT ARUMUGANERI, TAMILNADU</td>\n",
              "      <td>TAMILNADU</td>\n",
              "    </tr>\n",
              "  </tbody>\n",
              "</table>\n",
              "</div>"
            ],
            "text/plain": [
              "     STATION CODE  ...                                 Location\n",
              "166          1330  ...                                TAMILNADU\n",
              "423          1330  ...                                TAMILNADU\n",
              "675          1330  ...                                TAMILNADU\n",
              "1166         1330  ...                                TAMILNADU\n",
              "1349         1330  ...  TAMBIRAPARANI AT ARUMUGANERI, TAMILNADU\n",
              "1511         1330  ...                                TAMILNADU\n",
              "1624         1330  ...                                TAMILNADU\n",
              "1743         1330  ...                                TAMILNADU\n",
              "1983         1330  ...                                TAMILNADU\n",
              "\n",
              "[9 rows x 3 columns]"
            ]
          },
          "metadata": {},
          "execution_count": 19
        }
      ]
    },
    {
      "cell_type": "code",
      "metadata": {
        "colab": {
          "base_uri": "https://localhost:8080/",
          "height": 328
        },
        "id": "iooetU6fWz8m",
        "outputId": "f40d56b4-f188-4eee-bf38-2a106d251f9e"
      },
      "source": [
        "# The NULL values in ADDRESS attribute are in LOCATION attribute (ex - above output)\n",
        "# So, I will fill the NULL values in ADDRESS attribute with the corresponding LOCATION value\n",
        "\n",
        "def fill_address(df_cat):\n",
        "    address_null = df_cat[df_cat[\"Address\"].isnull()]\n",
        "    address_null_indices = address_null.index\n",
        "    for index in address_null_indices:\n",
        "        location_value = address_null[\"Location\"][index]\n",
        "        address_null[\"Address\"][index] = location_value\n",
        "        address_null[\"Location\"][index] = np.nan\n",
        "    df_cat[df_cat[\"Address\"].isnull()] = address_null\n",
        "    return\n",
        "\n",
        "fill_address(df_cat_copy)\n",
        "df_cat_copy[df_cat_copy[\"STATION CODE\"] == \"1330\"]"
      ],
      "execution_count": null,
      "outputs": [
        {
          "output_type": "execute_result",
          "data": {
            "text/html": [
              "<div>\n",
              "<style scoped>\n",
              "    .dataframe tbody tr th:only-of-type {\n",
              "        vertical-align: middle;\n",
              "    }\n",
              "\n",
              "    .dataframe tbody tr th {\n",
              "        vertical-align: top;\n",
              "    }\n",
              "\n",
              "    .dataframe thead th {\n",
              "        text-align: right;\n",
              "    }\n",
              "</style>\n",
              "<table border=\"1\" class=\"dataframe\">\n",
              "  <thead>\n",
              "    <tr style=\"text-align: right;\">\n",
              "      <th></th>\n",
              "      <th>STATION CODE</th>\n",
              "      <th>Address</th>\n",
              "      <th>Location</th>\n",
              "    </tr>\n",
              "  </thead>\n",
              "  <tbody>\n",
              "    <tr>\n",
              "      <th>166</th>\n",
              "      <td>1330</td>\n",
              "      <td>TAMBIRAPARANI AT ARUMUGANERI, TAMILNADU</td>\n",
              "      <td>TAMILNADU</td>\n",
              "    </tr>\n",
              "    <tr>\n",
              "      <th>423</th>\n",
              "      <td>1330</td>\n",
              "      <td>TAMBIRAPARANI AT ARUMUGANERI, TAMILNADU</td>\n",
              "      <td>TAMILNADU</td>\n",
              "    </tr>\n",
              "    <tr>\n",
              "      <th>675</th>\n",
              "      <td>1330</td>\n",
              "      <td>TAMBIRAPARANI AT ARUMUGANERI</td>\n",
              "      <td>TAMILNADU</td>\n",
              "    </tr>\n",
              "    <tr>\n",
              "      <th>1166</th>\n",
              "      <td>1330</td>\n",
              "      <td>TAMBIRAPARANI AT ARUMUGANERI</td>\n",
              "      <td>TAMILNADU</td>\n",
              "    </tr>\n",
              "    <tr>\n",
              "      <th>1349</th>\n",
              "      <td>1330</td>\n",
              "      <td>TAMBIRAPARANI AT ARUMUGANERI, TAMILNADU</td>\n",
              "      <td>NaN</td>\n",
              "    </tr>\n",
              "    <tr>\n",
              "      <th>1511</th>\n",
              "      <td>1330</td>\n",
              "      <td>TAMBIRAPARANI AT ARUMUGANERI, TAMILNADU</td>\n",
              "      <td>TAMILNADU</td>\n",
              "    </tr>\n",
              "    <tr>\n",
              "      <th>1624</th>\n",
              "      <td>1330</td>\n",
              "      <td>TAMBIRAPARANI AT ARUMUGANERI, TAMILNADU</td>\n",
              "      <td>TAMILNADU</td>\n",
              "    </tr>\n",
              "    <tr>\n",
              "      <th>1743</th>\n",
              "      <td>1330</td>\n",
              "      <td>TAMBIRAPARANI AT ARUMUGANERI, TAMILNADU</td>\n",
              "      <td>TAMILNADU</td>\n",
              "    </tr>\n",
              "    <tr>\n",
              "      <th>1983</th>\n",
              "      <td>1330</td>\n",
              "      <td>TAMBIRAPARANI AT ARUMUGANERI, TAMILNADU</td>\n",
              "      <td>TAMILNADU</td>\n",
              "    </tr>\n",
              "  </tbody>\n",
              "</table>\n",
              "</div>"
            ],
            "text/plain": [
              "     STATION CODE                                  Address   Location\n",
              "166          1330  TAMBIRAPARANI AT ARUMUGANERI, TAMILNADU  TAMILNADU\n",
              "423          1330  TAMBIRAPARANI AT ARUMUGANERI, TAMILNADU  TAMILNADU\n",
              "675          1330             TAMBIRAPARANI AT ARUMUGANERI  TAMILNADU\n",
              "1166         1330             TAMBIRAPARANI AT ARUMUGANERI  TAMILNADU\n",
              "1349         1330  TAMBIRAPARANI AT ARUMUGANERI, TAMILNADU        NaN\n",
              "1511         1330  TAMBIRAPARANI AT ARUMUGANERI, TAMILNADU  TAMILNADU\n",
              "1624         1330  TAMBIRAPARANI AT ARUMUGANERI, TAMILNADU  TAMILNADU\n",
              "1743         1330  TAMBIRAPARANI AT ARUMUGANERI, TAMILNADU  TAMILNADU\n",
              "1983         1330  TAMBIRAPARANI AT ARUMUGANERI, TAMILNADU  TAMILNADU"
            ]
          },
          "metadata": {},
          "execution_count": 20
        }
      ]
    },
    {
      "cell_type": "code",
      "metadata": {
        "colab": {
          "base_uri": "https://localhost:8080/",
          "height": 359
        },
        "id": "i3heWssC9MVR",
        "outputId": "9fbb9f24-d864-4ebf-b515-81da31b62605"
      },
      "source": [
        "df_cat_copy[df_cat_copy[\"STATION CODE\"] == \"17\"]"
      ],
      "execution_count": null,
      "outputs": [
        {
          "output_type": "execute_result",
          "data": {
            "text/html": [
              "<div>\n",
              "<style scoped>\n",
              "    .dataframe tbody tr th:only-of-type {\n",
              "        vertical-align: middle;\n",
              "    }\n",
              "\n",
              "    .dataframe tbody tr th {\n",
              "        vertical-align: top;\n",
              "    }\n",
              "\n",
              "    .dataframe thead th {\n",
              "        text-align: right;\n",
              "    }\n",
              "</style>\n",
              "<table border=\"1\" class=\"dataframe\">\n",
              "  <thead>\n",
              "    <tr style=\"text-align: right;\">\n",
              "      <th></th>\n",
              "      <th>STATION CODE</th>\n",
              "      <th>Address</th>\n",
              "      <th>Location</th>\n",
              "    </tr>\n",
              "  </thead>\n",
              "  <tbody>\n",
              "    <tr>\n",
              "      <th>118</th>\n",
              "      <td>17</td>\n",
              "      <td>PERIYAR NEAR ALWAYENANELOOR, KERALA</td>\n",
              "      <td>KERALA</td>\n",
              "    </tr>\n",
              "    <tr>\n",
              "      <th>375</th>\n",
              "      <td>17</td>\n",
              "      <td>PERIYAR NEAR ALWAYENANELOOR, KERALA</td>\n",
              "      <td>KERALA</td>\n",
              "    </tr>\n",
              "    <tr>\n",
              "      <th>627</th>\n",
              "      <td>17</td>\n",
              "      <td>PERIYAR NEAR ALWAYENANELOOR</td>\n",
              "      <td>KERALA</td>\n",
              "    </tr>\n",
              "    <tr>\n",
              "      <th>915</th>\n",
              "      <td>17</td>\n",
              "      <td>PERIYAR NEAR ALWAYENANELOOR</td>\n",
              "      <td>KERALA</td>\n",
              "    </tr>\n",
              "    <tr>\n",
              "      <th>1095</th>\n",
              "      <td>17</td>\n",
              "      <td>PERIYAR NEAR ALWAYENANELOOR</td>\n",
              "      <td>NaN</td>\n",
              "    </tr>\n",
              "    <tr>\n",
              "      <th>1265</th>\n",
              "      <td>17</td>\n",
              "      <td>PERIYAR NEAR ALWAYENANELOOR, KERALA</td>\n",
              "      <td>NaN</td>\n",
              "    </tr>\n",
              "    <tr>\n",
              "      <th>1439</th>\n",
              "      <td>17</td>\n",
              "      <td>PERIYAR NEAR ALWAYENANELOOR, KERALA</td>\n",
              "      <td>NaN</td>\n",
              "    </tr>\n",
              "    <tr>\n",
              "      <th>1584</th>\n",
              "      <td>17</td>\n",
              "      <td>PERIYAR NEAR ALWAYENANELOOR, KERALA</td>\n",
              "      <td>NaN</td>\n",
              "    </tr>\n",
              "    <tr>\n",
              "      <th>1705</th>\n",
              "      <td>17</td>\n",
              "      <td>PERIYAR NEAR ALWAYENANELOOR, KERALA</td>\n",
              "      <td>NaN</td>\n",
              "    </tr>\n",
              "    <tr>\n",
              "      <th>1923</th>\n",
              "      <td>17</td>\n",
              "      <td>PERIYAR AT ALWAYE, KERALA</td>\n",
              "      <td>NaN</td>\n",
              "    </tr>\n",
              "  </tbody>\n",
              "</table>\n",
              "</div>"
            ],
            "text/plain": [
              "     STATION CODE                              Address Location\n",
              "118            17  PERIYAR NEAR ALWAYENANELOOR, KERALA   KERALA\n",
              "375            17  PERIYAR NEAR ALWAYENANELOOR, KERALA   KERALA\n",
              "627            17          PERIYAR NEAR ALWAYENANELOOR   KERALA\n",
              "915            17          PERIYAR NEAR ALWAYENANELOOR   KERALA\n",
              "1095           17          PERIYAR NEAR ALWAYENANELOOR      NaN\n",
              "1265           17  PERIYAR NEAR ALWAYENANELOOR, KERALA      NaN\n",
              "1439           17  PERIYAR NEAR ALWAYENANELOOR, KERALA      NaN\n",
              "1584           17  PERIYAR NEAR ALWAYENANELOOR, KERALA      NaN\n",
              "1705           17  PERIYAR NEAR ALWAYENANELOOR, KERALA      NaN\n",
              "1923           17            PERIYAR AT ALWAYE, KERALA      NaN"
            ]
          },
          "metadata": {},
          "execution_count": 21
        }
      ]
    },
    {
      "cell_type": "code",
      "metadata": {
        "colab": {
          "base_uri": "https://localhost:8080/",
          "height": 297
        },
        "id": "Zxdg65YbW2BW",
        "outputId": "25fba0de-9469-4d1d-faf5-2af3e70b39bd"
      },
      "source": [
        "df_cat_copy[df_cat_copy[\"Address\"] == \"TAMBIRAPARANI AT ARUMUGANERI, TAMILNADU\"]"
      ],
      "execution_count": null,
      "outputs": [
        {
          "output_type": "execute_result",
          "data": {
            "text/html": [
              "<div>\n",
              "<style scoped>\n",
              "    .dataframe tbody tr th:only-of-type {\n",
              "        vertical-align: middle;\n",
              "    }\n",
              "\n",
              "    .dataframe tbody tr th {\n",
              "        vertical-align: top;\n",
              "    }\n",
              "\n",
              "    .dataframe thead th {\n",
              "        text-align: right;\n",
              "    }\n",
              "</style>\n",
              "<table border=\"1\" class=\"dataframe\">\n",
              "  <thead>\n",
              "    <tr style=\"text-align: right;\">\n",
              "      <th></th>\n",
              "      <th>STATION CODE</th>\n",
              "      <th>Address</th>\n",
              "      <th>Location</th>\n",
              "    </tr>\n",
              "  </thead>\n",
              "  <tbody>\n",
              "    <tr>\n",
              "      <th>166</th>\n",
              "      <td>1330</td>\n",
              "      <td>TAMBIRAPARANI AT ARUMUGANERI, TAMILNADU</td>\n",
              "      <td>TAMILNADU</td>\n",
              "    </tr>\n",
              "    <tr>\n",
              "      <th>423</th>\n",
              "      <td>1330</td>\n",
              "      <td>TAMBIRAPARANI AT ARUMUGANERI, TAMILNADU</td>\n",
              "      <td>TAMILNADU</td>\n",
              "    </tr>\n",
              "    <tr>\n",
              "      <th>1349</th>\n",
              "      <td>1330</td>\n",
              "      <td>TAMBIRAPARANI AT ARUMUGANERI, TAMILNADU</td>\n",
              "      <td>NaN</td>\n",
              "    </tr>\n",
              "    <tr>\n",
              "      <th>1511</th>\n",
              "      <td>1330</td>\n",
              "      <td>TAMBIRAPARANI AT ARUMUGANERI, TAMILNADU</td>\n",
              "      <td>TAMILNADU</td>\n",
              "    </tr>\n",
              "    <tr>\n",
              "      <th>1624</th>\n",
              "      <td>1330</td>\n",
              "      <td>TAMBIRAPARANI AT ARUMUGANERI, TAMILNADU</td>\n",
              "      <td>TAMILNADU</td>\n",
              "    </tr>\n",
              "    <tr>\n",
              "      <th>1743</th>\n",
              "      <td>1330</td>\n",
              "      <td>TAMBIRAPARANI AT ARUMUGANERI, TAMILNADU</td>\n",
              "      <td>TAMILNADU</td>\n",
              "    </tr>\n",
              "    <tr>\n",
              "      <th>1894</th>\n",
              "      <td>NaN</td>\n",
              "      <td>TAMBIRAPARANI AT ARUMUGANERI, TAMILNADU</td>\n",
              "      <td>NaN</td>\n",
              "    </tr>\n",
              "    <tr>\n",
              "      <th>1983</th>\n",
              "      <td>1330</td>\n",
              "      <td>TAMBIRAPARANI AT ARUMUGANERI, TAMILNADU</td>\n",
              "      <td>TAMILNADU</td>\n",
              "    </tr>\n",
              "  </tbody>\n",
              "</table>\n",
              "</div>"
            ],
            "text/plain": [
              "     STATION CODE                                  Address   Location\n",
              "166          1330  TAMBIRAPARANI AT ARUMUGANERI, TAMILNADU  TAMILNADU\n",
              "423          1330  TAMBIRAPARANI AT ARUMUGANERI, TAMILNADU  TAMILNADU\n",
              "1349         1330  TAMBIRAPARANI AT ARUMUGANERI, TAMILNADU        NaN\n",
              "1511         1330  TAMBIRAPARANI AT ARUMUGANERI, TAMILNADU  TAMILNADU\n",
              "1624         1330  TAMBIRAPARANI AT ARUMUGANERI, TAMILNADU  TAMILNADU\n",
              "1743         1330  TAMBIRAPARANI AT ARUMUGANERI, TAMILNADU  TAMILNADU\n",
              "1894          NaN  TAMBIRAPARANI AT ARUMUGANERI, TAMILNADU        NaN\n",
              "1983         1330  TAMBIRAPARANI AT ARUMUGANERI, TAMILNADU  TAMILNADU"
            ]
          },
          "metadata": {},
          "execution_count": 22
        }
      ]
    },
    {
      "cell_type": "code",
      "metadata": {
        "colab": {
          "base_uri": "https://localhost:8080/",
          "height": 297
        },
        "id": "e1mR9bqkW4Xo",
        "outputId": "9e31182e-10d7-4358-b128-611e183664f1"
      },
      "source": [
        "# Now I can fill NULL values of STATION CODE with corresponding ADDRESS value(ex - above dataframe)\n",
        "# I will match the corresponding similar ADDRESS values to fill in the STATION CODE \n",
        "\n",
        "def fill_code(df_cat):\n",
        "    station_null = df_cat[df_cat[\"STATION CODE\"].isnull()]\n",
        "    station_null_indices = station_null.index\n",
        "    for index in station_null_indices:\n",
        "        stat_code = np.nan\n",
        "        address_index = station_null[\"Address\"][index]\n",
        "        code_at_address = df_cat[\"STATION CODE\"][df_cat[\"Address\"] == address_index]\n",
        "        for index_code in code_at_address.index:\n",
        "            if (code_at_address[index_code] != np.nan):\n",
        "                stat_code = code_at_address[index_code]\n",
        "                break\n",
        "        station_null[\"STATION CODE\"][index] = stat_code\n",
        "    df_cat[df_cat[\"STATION CODE\"].isnull()] = station_null\n",
        "    return\n",
        "\n",
        "fill_code(df_cat_copy)\n",
        "df_cat_copy[df_cat_copy[\"Address\"] == \"TAMBIRAPARANI AT ARUMUGANERI, TAMILNADU\"]"
      ],
      "execution_count": null,
      "outputs": [
        {
          "output_type": "execute_result",
          "data": {
            "text/html": [
              "<div>\n",
              "<style scoped>\n",
              "    .dataframe tbody tr th:only-of-type {\n",
              "        vertical-align: middle;\n",
              "    }\n",
              "\n",
              "    .dataframe tbody tr th {\n",
              "        vertical-align: top;\n",
              "    }\n",
              "\n",
              "    .dataframe thead th {\n",
              "        text-align: right;\n",
              "    }\n",
              "</style>\n",
              "<table border=\"1\" class=\"dataframe\">\n",
              "  <thead>\n",
              "    <tr style=\"text-align: right;\">\n",
              "      <th></th>\n",
              "      <th>STATION CODE</th>\n",
              "      <th>Address</th>\n",
              "      <th>Location</th>\n",
              "    </tr>\n",
              "  </thead>\n",
              "  <tbody>\n",
              "    <tr>\n",
              "      <th>166</th>\n",
              "      <td>1330</td>\n",
              "      <td>TAMBIRAPARANI AT ARUMUGANERI, TAMILNADU</td>\n",
              "      <td>TAMILNADU</td>\n",
              "    </tr>\n",
              "    <tr>\n",
              "      <th>423</th>\n",
              "      <td>1330</td>\n",
              "      <td>TAMBIRAPARANI AT ARUMUGANERI, TAMILNADU</td>\n",
              "      <td>TAMILNADU</td>\n",
              "    </tr>\n",
              "    <tr>\n",
              "      <th>1349</th>\n",
              "      <td>1330</td>\n",
              "      <td>TAMBIRAPARANI AT ARUMUGANERI, TAMILNADU</td>\n",
              "      <td>NaN</td>\n",
              "    </tr>\n",
              "    <tr>\n",
              "      <th>1511</th>\n",
              "      <td>1330</td>\n",
              "      <td>TAMBIRAPARANI AT ARUMUGANERI, TAMILNADU</td>\n",
              "      <td>TAMILNADU</td>\n",
              "    </tr>\n",
              "    <tr>\n",
              "      <th>1624</th>\n",
              "      <td>1330</td>\n",
              "      <td>TAMBIRAPARANI AT ARUMUGANERI, TAMILNADU</td>\n",
              "      <td>TAMILNADU</td>\n",
              "    </tr>\n",
              "    <tr>\n",
              "      <th>1743</th>\n",
              "      <td>1330</td>\n",
              "      <td>TAMBIRAPARANI AT ARUMUGANERI, TAMILNADU</td>\n",
              "      <td>TAMILNADU</td>\n",
              "    </tr>\n",
              "    <tr>\n",
              "      <th>1894</th>\n",
              "      <td>1330</td>\n",
              "      <td>TAMBIRAPARANI AT ARUMUGANERI, TAMILNADU</td>\n",
              "      <td>NaN</td>\n",
              "    </tr>\n",
              "    <tr>\n",
              "      <th>1983</th>\n",
              "      <td>1330</td>\n",
              "      <td>TAMBIRAPARANI AT ARUMUGANERI, TAMILNADU</td>\n",
              "      <td>TAMILNADU</td>\n",
              "    </tr>\n",
              "  </tbody>\n",
              "</table>\n",
              "</div>"
            ],
            "text/plain": [
              "     STATION CODE                                  Address   Location\n",
              "166          1330  TAMBIRAPARANI AT ARUMUGANERI, TAMILNADU  TAMILNADU\n",
              "423          1330  TAMBIRAPARANI AT ARUMUGANERI, TAMILNADU  TAMILNADU\n",
              "1349         1330  TAMBIRAPARANI AT ARUMUGANERI, TAMILNADU        NaN\n",
              "1511         1330  TAMBIRAPARANI AT ARUMUGANERI, TAMILNADU  TAMILNADU\n",
              "1624         1330  TAMBIRAPARANI AT ARUMUGANERI, TAMILNADU  TAMILNADU\n",
              "1743         1330  TAMBIRAPARANI AT ARUMUGANERI, TAMILNADU  TAMILNADU\n",
              "1894         1330  TAMBIRAPARANI AT ARUMUGANERI, TAMILNADU        NaN\n",
              "1983         1330  TAMBIRAPARANI AT ARUMUGANERI, TAMILNADU  TAMILNADU"
            ]
          },
          "metadata": {},
          "execution_count": 23
        }
      ]
    },
    {
      "cell_type": "code",
      "metadata": {
        "colab": {
          "base_uri": "https://localhost:8080/",
          "height": 390
        },
        "id": "Vk9gsg5c9Nhi",
        "outputId": "2699a68e-6409-4365-e02b-3471e4daed0b"
      },
      "source": [
        "df_cat_copy[df_cat_copy[\"STATION CODE\"] == \"17\"]"
      ],
      "execution_count": null,
      "outputs": [
        {
          "output_type": "execute_result",
          "data": {
            "text/html": [
              "<div>\n",
              "<style scoped>\n",
              "    .dataframe tbody tr th:only-of-type {\n",
              "        vertical-align: middle;\n",
              "    }\n",
              "\n",
              "    .dataframe tbody tr th {\n",
              "        vertical-align: top;\n",
              "    }\n",
              "\n",
              "    .dataframe thead th {\n",
              "        text-align: right;\n",
              "    }\n",
              "</style>\n",
              "<table border=\"1\" class=\"dataframe\">\n",
              "  <thead>\n",
              "    <tr style=\"text-align: right;\">\n",
              "      <th></th>\n",
              "      <th>STATION CODE</th>\n",
              "      <th>Address</th>\n",
              "      <th>Location</th>\n",
              "    </tr>\n",
              "  </thead>\n",
              "  <tbody>\n",
              "    <tr>\n",
              "      <th>118</th>\n",
              "      <td>17</td>\n",
              "      <td>PERIYAR NEAR ALWAYENANELOOR, KERALA</td>\n",
              "      <td>KERALA</td>\n",
              "    </tr>\n",
              "    <tr>\n",
              "      <th>375</th>\n",
              "      <td>17</td>\n",
              "      <td>PERIYAR NEAR ALWAYENANELOOR, KERALA</td>\n",
              "      <td>KERALA</td>\n",
              "    </tr>\n",
              "    <tr>\n",
              "      <th>627</th>\n",
              "      <td>17</td>\n",
              "      <td>PERIYAR NEAR ALWAYENANELOOR</td>\n",
              "      <td>KERALA</td>\n",
              "    </tr>\n",
              "    <tr>\n",
              "      <th>915</th>\n",
              "      <td>17</td>\n",
              "      <td>PERIYAR NEAR ALWAYENANELOOR</td>\n",
              "      <td>KERALA</td>\n",
              "    </tr>\n",
              "    <tr>\n",
              "      <th>1095</th>\n",
              "      <td>17</td>\n",
              "      <td>PERIYAR NEAR ALWAYENANELOOR</td>\n",
              "      <td>NaN</td>\n",
              "    </tr>\n",
              "    <tr>\n",
              "      <th>1265</th>\n",
              "      <td>17</td>\n",
              "      <td>PERIYAR NEAR ALWAYENANELOOR, KERALA</td>\n",
              "      <td>NaN</td>\n",
              "    </tr>\n",
              "    <tr>\n",
              "      <th>1439</th>\n",
              "      <td>17</td>\n",
              "      <td>PERIYAR NEAR ALWAYENANELOOR, KERALA</td>\n",
              "      <td>NaN</td>\n",
              "    </tr>\n",
              "    <tr>\n",
              "      <th>1584</th>\n",
              "      <td>17</td>\n",
              "      <td>PERIYAR NEAR ALWAYENANELOOR, KERALA</td>\n",
              "      <td>NaN</td>\n",
              "    </tr>\n",
              "    <tr>\n",
              "      <th>1705</th>\n",
              "      <td>17</td>\n",
              "      <td>PERIYAR NEAR ALWAYENANELOOR, KERALA</td>\n",
              "      <td>NaN</td>\n",
              "    </tr>\n",
              "    <tr>\n",
              "      <th>1811</th>\n",
              "      <td>17</td>\n",
              "      <td>PERIYAR NEAR ALWAYENANELOOR, KERALA</td>\n",
              "      <td>NaN</td>\n",
              "    </tr>\n",
              "    <tr>\n",
              "      <th>1923</th>\n",
              "      <td>17</td>\n",
              "      <td>PERIYAR AT ALWAYE, KERALA</td>\n",
              "      <td>NaN</td>\n",
              "    </tr>\n",
              "  </tbody>\n",
              "</table>\n",
              "</div>"
            ],
            "text/plain": [
              "     STATION CODE                              Address Location\n",
              "118            17  PERIYAR NEAR ALWAYENANELOOR, KERALA   KERALA\n",
              "375            17  PERIYAR NEAR ALWAYENANELOOR, KERALA   KERALA\n",
              "627            17          PERIYAR NEAR ALWAYENANELOOR   KERALA\n",
              "915            17          PERIYAR NEAR ALWAYENANELOOR   KERALA\n",
              "1095           17          PERIYAR NEAR ALWAYENANELOOR      NaN\n",
              "1265           17  PERIYAR NEAR ALWAYENANELOOR, KERALA      NaN\n",
              "1439           17  PERIYAR NEAR ALWAYENANELOOR, KERALA      NaN\n",
              "1584           17  PERIYAR NEAR ALWAYENANELOOR, KERALA      NaN\n",
              "1705           17  PERIYAR NEAR ALWAYENANELOOR, KERALA      NaN\n",
              "1811           17  PERIYAR NEAR ALWAYENANELOOR, KERALA      NaN\n",
              "1923           17            PERIYAR AT ALWAYE, KERALA      NaN"
            ]
          },
          "metadata": {},
          "execution_count": 24
        }
      ]
    },
    {
      "cell_type": "code",
      "metadata": {
        "colab": {
          "base_uri": "https://localhost:8080/",
          "height": 359
        },
        "id": "7DX5qzPLW6gV",
        "outputId": "0ebc4f56-14c1-4969-9d57-a49a8ad6712e"
      },
      "source": [
        "# Filling all LOCATION NAN values which have corresponding STATION CODE values\n",
        "def fill_location(df_cat):\n",
        "    station_code = df_cat[\"STATION CODE\"].unique()\n",
        "    for index in range(station_code.shape[0]):\n",
        "        if (station_code[index] != np.nan):\n",
        "            df_location = df_cat[\"Location\"][df_cat[\"STATION CODE\"] == station_code[index]] \n",
        "            location_values = df_cat[\"Location\"][df_cat[\"STATION CODE\"] == station_code[index]]\n",
        "            location = np.nan\n",
        "            for index_location in range(location_values.shape[0]):\n",
        "                if (location_values.iloc[index_location] != np.nan):\n",
        "                    location = location_values.iloc[index_location]\n",
        "                    break\n",
        "            df_location_fill = df_location.fillna(location) \n",
        "            df_cat[\"Location\"][df_cat[\"STATION CODE\"] == station_code[index]] = df_location_fill\n",
        "    return\n",
        "\n",
        "    \n",
        "fill_location(df_cat_copy)\n",
        "df_cat_copy[df_cat_copy[\"STATION CODE\"] == \"1330\"]"
      ],
      "execution_count": null,
      "outputs": [
        {
          "output_type": "execute_result",
          "data": {
            "text/html": [
              "<div>\n",
              "<style scoped>\n",
              "    .dataframe tbody tr th:only-of-type {\n",
              "        vertical-align: middle;\n",
              "    }\n",
              "\n",
              "    .dataframe tbody tr th {\n",
              "        vertical-align: top;\n",
              "    }\n",
              "\n",
              "    .dataframe thead th {\n",
              "        text-align: right;\n",
              "    }\n",
              "</style>\n",
              "<table border=\"1\" class=\"dataframe\">\n",
              "  <thead>\n",
              "    <tr style=\"text-align: right;\">\n",
              "      <th></th>\n",
              "      <th>STATION CODE</th>\n",
              "      <th>Address</th>\n",
              "      <th>Location</th>\n",
              "    </tr>\n",
              "  </thead>\n",
              "  <tbody>\n",
              "    <tr>\n",
              "      <th>166</th>\n",
              "      <td>1330</td>\n",
              "      <td>TAMBIRAPARANI AT ARUMUGANERI, TAMILNADU</td>\n",
              "      <td>TAMILNADU</td>\n",
              "    </tr>\n",
              "    <tr>\n",
              "      <th>423</th>\n",
              "      <td>1330</td>\n",
              "      <td>TAMBIRAPARANI AT ARUMUGANERI, TAMILNADU</td>\n",
              "      <td>TAMILNADU</td>\n",
              "    </tr>\n",
              "    <tr>\n",
              "      <th>675</th>\n",
              "      <td>1330</td>\n",
              "      <td>TAMBIRAPARANI AT ARUMUGANERI</td>\n",
              "      <td>TAMILNADU</td>\n",
              "    </tr>\n",
              "    <tr>\n",
              "      <th>1166</th>\n",
              "      <td>1330</td>\n",
              "      <td>TAMBIRAPARANI AT ARUMUGANERI</td>\n",
              "      <td>TAMILNADU</td>\n",
              "    </tr>\n",
              "    <tr>\n",
              "      <th>1349</th>\n",
              "      <td>1330</td>\n",
              "      <td>TAMBIRAPARANI AT ARUMUGANERI, TAMILNADU</td>\n",
              "      <td>TAMILNADU</td>\n",
              "    </tr>\n",
              "    <tr>\n",
              "      <th>1511</th>\n",
              "      <td>1330</td>\n",
              "      <td>TAMBIRAPARANI AT ARUMUGANERI, TAMILNADU</td>\n",
              "      <td>TAMILNADU</td>\n",
              "    </tr>\n",
              "    <tr>\n",
              "      <th>1624</th>\n",
              "      <td>1330</td>\n",
              "      <td>TAMBIRAPARANI AT ARUMUGANERI, TAMILNADU</td>\n",
              "      <td>TAMILNADU</td>\n",
              "    </tr>\n",
              "    <tr>\n",
              "      <th>1743</th>\n",
              "      <td>1330</td>\n",
              "      <td>TAMBIRAPARANI AT ARUMUGANERI, TAMILNADU</td>\n",
              "      <td>TAMILNADU</td>\n",
              "    </tr>\n",
              "    <tr>\n",
              "      <th>1894</th>\n",
              "      <td>1330</td>\n",
              "      <td>TAMBIRAPARANI AT ARUMUGANERI, TAMILNADU</td>\n",
              "      <td>TAMILNADU</td>\n",
              "    </tr>\n",
              "    <tr>\n",
              "      <th>1983</th>\n",
              "      <td>1330</td>\n",
              "      <td>TAMBIRAPARANI AT ARUMUGANERI, TAMILNADU</td>\n",
              "      <td>TAMILNADU</td>\n",
              "    </tr>\n",
              "  </tbody>\n",
              "</table>\n",
              "</div>"
            ],
            "text/plain": [
              "     STATION CODE                                  Address   Location\n",
              "166          1330  TAMBIRAPARANI AT ARUMUGANERI, TAMILNADU  TAMILNADU\n",
              "423          1330  TAMBIRAPARANI AT ARUMUGANERI, TAMILNADU  TAMILNADU\n",
              "675          1330             TAMBIRAPARANI AT ARUMUGANERI  TAMILNADU\n",
              "1166         1330             TAMBIRAPARANI AT ARUMUGANERI  TAMILNADU\n",
              "1349         1330  TAMBIRAPARANI AT ARUMUGANERI, TAMILNADU  TAMILNADU\n",
              "1511         1330  TAMBIRAPARANI AT ARUMUGANERI, TAMILNADU  TAMILNADU\n",
              "1624         1330  TAMBIRAPARANI AT ARUMUGANERI, TAMILNADU  TAMILNADU\n",
              "1743         1330  TAMBIRAPARANI AT ARUMUGANERI, TAMILNADU  TAMILNADU\n",
              "1894         1330  TAMBIRAPARANI AT ARUMUGANERI, TAMILNADU  TAMILNADU\n",
              "1983         1330  TAMBIRAPARANI AT ARUMUGANERI, TAMILNADU  TAMILNADU"
            ]
          },
          "metadata": {},
          "execution_count": 25
        }
      ]
    },
    {
      "cell_type": "code",
      "metadata": {
        "colab": {
          "base_uri": "https://localhost:8080/",
          "height": 390
        },
        "id": "OEtFl7zRbayh",
        "outputId": "76e8a69d-9a0a-4f75-f9ea-ef1ccf3f6084"
      },
      "source": [
        "# Checking to see if other previously NULL values were also filled up\n",
        "df_cat_copy[df_cat_copy[\"STATION CODE\"] == \"17\"]"
      ],
      "execution_count": null,
      "outputs": [
        {
          "output_type": "execute_result",
          "data": {
            "text/html": [
              "<div>\n",
              "<style scoped>\n",
              "    .dataframe tbody tr th:only-of-type {\n",
              "        vertical-align: middle;\n",
              "    }\n",
              "\n",
              "    .dataframe tbody tr th {\n",
              "        vertical-align: top;\n",
              "    }\n",
              "\n",
              "    .dataframe thead th {\n",
              "        text-align: right;\n",
              "    }\n",
              "</style>\n",
              "<table border=\"1\" class=\"dataframe\">\n",
              "  <thead>\n",
              "    <tr style=\"text-align: right;\">\n",
              "      <th></th>\n",
              "      <th>STATION CODE</th>\n",
              "      <th>Address</th>\n",
              "      <th>Location</th>\n",
              "    </tr>\n",
              "  </thead>\n",
              "  <tbody>\n",
              "    <tr>\n",
              "      <th>118</th>\n",
              "      <td>17</td>\n",
              "      <td>PERIYAR NEAR ALWAYENANELOOR, KERALA</td>\n",
              "      <td>KERALA</td>\n",
              "    </tr>\n",
              "    <tr>\n",
              "      <th>375</th>\n",
              "      <td>17</td>\n",
              "      <td>PERIYAR NEAR ALWAYENANELOOR, KERALA</td>\n",
              "      <td>KERALA</td>\n",
              "    </tr>\n",
              "    <tr>\n",
              "      <th>627</th>\n",
              "      <td>17</td>\n",
              "      <td>PERIYAR NEAR ALWAYENANELOOR</td>\n",
              "      <td>KERALA</td>\n",
              "    </tr>\n",
              "    <tr>\n",
              "      <th>915</th>\n",
              "      <td>17</td>\n",
              "      <td>PERIYAR NEAR ALWAYENANELOOR</td>\n",
              "      <td>KERALA</td>\n",
              "    </tr>\n",
              "    <tr>\n",
              "      <th>1095</th>\n",
              "      <td>17</td>\n",
              "      <td>PERIYAR NEAR ALWAYENANELOOR</td>\n",
              "      <td>KERALA</td>\n",
              "    </tr>\n",
              "    <tr>\n",
              "      <th>1265</th>\n",
              "      <td>17</td>\n",
              "      <td>PERIYAR NEAR ALWAYENANELOOR, KERALA</td>\n",
              "      <td>KERALA</td>\n",
              "    </tr>\n",
              "    <tr>\n",
              "      <th>1439</th>\n",
              "      <td>17</td>\n",
              "      <td>PERIYAR NEAR ALWAYENANELOOR, KERALA</td>\n",
              "      <td>KERALA</td>\n",
              "    </tr>\n",
              "    <tr>\n",
              "      <th>1584</th>\n",
              "      <td>17</td>\n",
              "      <td>PERIYAR NEAR ALWAYENANELOOR, KERALA</td>\n",
              "      <td>KERALA</td>\n",
              "    </tr>\n",
              "    <tr>\n",
              "      <th>1705</th>\n",
              "      <td>17</td>\n",
              "      <td>PERIYAR NEAR ALWAYENANELOOR, KERALA</td>\n",
              "      <td>KERALA</td>\n",
              "    </tr>\n",
              "    <tr>\n",
              "      <th>1811</th>\n",
              "      <td>17</td>\n",
              "      <td>PERIYAR NEAR ALWAYENANELOOR, KERALA</td>\n",
              "      <td>KERALA</td>\n",
              "    </tr>\n",
              "    <tr>\n",
              "      <th>1923</th>\n",
              "      <td>17</td>\n",
              "      <td>PERIYAR AT ALWAYE, KERALA</td>\n",
              "      <td>KERALA</td>\n",
              "    </tr>\n",
              "  </tbody>\n",
              "</table>\n",
              "</div>"
            ],
            "text/plain": [
              "     STATION CODE                              Address Location\n",
              "118            17  PERIYAR NEAR ALWAYENANELOOR, KERALA   KERALA\n",
              "375            17  PERIYAR NEAR ALWAYENANELOOR, KERALA   KERALA\n",
              "627            17          PERIYAR NEAR ALWAYENANELOOR   KERALA\n",
              "915            17          PERIYAR NEAR ALWAYENANELOOR   KERALA\n",
              "1095           17          PERIYAR NEAR ALWAYENANELOOR   KERALA\n",
              "1265           17  PERIYAR NEAR ALWAYENANELOOR, KERALA   KERALA\n",
              "1439           17  PERIYAR NEAR ALWAYENANELOOR, KERALA   KERALA\n",
              "1584           17  PERIYAR NEAR ALWAYENANELOOR, KERALA   KERALA\n",
              "1705           17  PERIYAR NEAR ALWAYENANELOOR, KERALA   KERALA\n",
              "1811           17  PERIYAR NEAR ALWAYENANELOOR, KERALA   KERALA\n",
              "1923           17            PERIYAR AT ALWAYE, KERALA   KERALA"
            ]
          },
          "metadata": {},
          "execution_count": 26
        }
      ]
    },
    {
      "cell_type": "code",
      "metadata": {
        "colab": {
          "base_uri": "https://localhost:8080/"
        },
        "id": "RKuA2s_8W7AQ",
        "outputId": "7759687e-6ae7-4355-c9ab-74dc85bccc85"
      },
      "source": [
        "# Checking NULL values after imputation\n",
        "df_cat_copy.isnull().sum()"
      ],
      "execution_count": null,
      "outputs": [
        {
          "output_type": "execute_result",
          "data": {
            "text/plain": [
              "STATION CODE     2\n",
              "Address          0\n",
              "Location        10\n",
              "dtype: int64"
            ]
          },
          "metadata": {},
          "execution_count": 27
        }
      ]
    },
    {
      "cell_type": "code",
      "metadata": {
        "colab": {
          "base_uri": "https://localhost:8080/",
          "height": 359
        },
        "id": "OK_sJwLcW8QV",
        "outputId": "1bdd917a-b0c7-4772-eaf3-46ae9ff16bb1"
      },
      "source": [
        "df_cat_copy[df_cat_copy[\"Location\"].isnull()]"
      ],
      "execution_count": null,
      "outputs": [
        {
          "output_type": "execute_result",
          "data": {
            "text/html": [
              "<div>\n",
              "<style scoped>\n",
              "    .dataframe tbody tr th:only-of-type {\n",
              "        vertical-align: middle;\n",
              "    }\n",
              "\n",
              "    .dataframe tbody tr th {\n",
              "        vertical-align: top;\n",
              "    }\n",
              "\n",
              "    .dataframe thead th {\n",
              "        text-align: right;\n",
              "    }\n",
              "</style>\n",
              "<table border=\"1\" class=\"dataframe\">\n",
              "  <thead>\n",
              "    <tr style=\"text-align: right;\">\n",
              "      <th></th>\n",
              "      <th>STATION CODE</th>\n",
              "      <th>Address</th>\n",
              "      <th>Location</th>\n",
              "    </tr>\n",
              "  </thead>\n",
              "  <tbody>\n",
              "    <tr>\n",
              "      <th>1104</th>\n",
              "      <td>1207</td>\n",
              "      <td>KABBANI AT MUTHANKARA</td>\n",
              "      <td>NaN</td>\n",
              "    </tr>\n",
              "    <tr>\n",
              "      <th>1105</th>\n",
              "      <td>1208</td>\n",
              "      <td>BHAVANI AT ELACHIVAZHY</td>\n",
              "      <td>NaN</td>\n",
              "    </tr>\n",
              "    <tr>\n",
              "      <th>1648</th>\n",
              "      <td>2047</td>\n",
              "      <td>NNANCHOE (ATTAWA CHOE), CHANDIGARH</td>\n",
              "      <td>NaN</td>\n",
              "    </tr>\n",
              "    <tr>\n",
              "      <th>1649</th>\n",
              "      <td>2048</td>\n",
              "      <td>PATIALA KI RAO, CHANDIGARH</td>\n",
              "      <td>NaN</td>\n",
              "    </tr>\n",
              "    <tr>\n",
              "      <th>1650</th>\n",
              "      <td>2049</td>\n",
              "      <td>SUKHNA CHOE, CHANDIGARH</td>\n",
              "      <td>NaN</td>\n",
              "    </tr>\n",
              "    <tr>\n",
              "      <th>1768</th>\n",
              "      <td>2047</td>\n",
              "      <td>NNANCHOE (ATTAWA CHOE)</td>\n",
              "      <td>NaN</td>\n",
              "    </tr>\n",
              "    <tr>\n",
              "      <th>1769</th>\n",
              "      <td>2048</td>\n",
              "      <td>PATIALA KI RAO</td>\n",
              "      <td>NaN</td>\n",
              "    </tr>\n",
              "    <tr>\n",
              "      <th>1770</th>\n",
              "      <td>2049</td>\n",
              "      <td>SUKHNA CHOE</td>\n",
              "      <td>NaN</td>\n",
              "    </tr>\n",
              "    <tr>\n",
              "      <th>1782</th>\n",
              "      <td>NaN</td>\n",
              "      <td>DAMANGANGA  AFTER CONFL. OF PIPARIA DRAIN, DAMAN</td>\n",
              "      <td>NaN</td>\n",
              "    </tr>\n",
              "    <tr>\n",
              "      <th>1783</th>\n",
              "      <td>NaN</td>\n",
              "      <td>DAMANGANGA AT CIRCUIT HOUSE, SILVASA, DADRA AN...</td>\n",
              "      <td>NaN</td>\n",
              "    </tr>\n",
              "  </tbody>\n",
              "</table>\n",
              "</div>"
            ],
            "text/plain": [
              "     STATION CODE                                            Address Location\n",
              "1104         1207                              KABBANI AT MUTHANKARA      NaN\n",
              "1105         1208                             BHAVANI AT ELACHIVAZHY      NaN\n",
              "1648         2047                 NNANCHOE (ATTAWA CHOE), CHANDIGARH      NaN\n",
              "1649         2048                         PATIALA KI RAO, CHANDIGARH      NaN\n",
              "1650         2049                            SUKHNA CHOE, CHANDIGARH      NaN\n",
              "1768         2047                             NNANCHOE (ATTAWA CHOE)      NaN\n",
              "1769         2048                                     PATIALA KI RAO      NaN\n",
              "1770         2049                                        SUKHNA CHOE      NaN\n",
              "1782          NaN   DAMANGANGA  AFTER CONFL. OF PIPARIA DRAIN, DAMAN      NaN\n",
              "1783          NaN  DAMANGANGA AT CIRCUIT HOUSE, SILVASA, DADRA AN...      NaN"
            ]
          },
          "metadata": {},
          "execution_count": 28
        }
      ]
    },
    {
      "cell_type": "code",
      "metadata": {
        "colab": {
          "base_uri": "https://localhost:8080/",
          "height": 80
        },
        "id": "t71CGYSOAfKD",
        "outputId": "a3b63803-aed5-403c-ea14-46ec27df8eed"
      },
      "source": [
        "df_cat_copy[df_cat_copy[\"STATION CODE\"] == \"1207\"]"
      ],
      "execution_count": null,
      "outputs": [
        {
          "output_type": "execute_result",
          "data": {
            "text/html": [
              "<div>\n",
              "<style scoped>\n",
              "    .dataframe tbody tr th:only-of-type {\n",
              "        vertical-align: middle;\n",
              "    }\n",
              "\n",
              "    .dataframe tbody tr th {\n",
              "        vertical-align: top;\n",
              "    }\n",
              "\n",
              "    .dataframe thead th {\n",
              "        text-align: right;\n",
              "    }\n",
              "</style>\n",
              "<table border=\"1\" class=\"dataframe\">\n",
              "  <thead>\n",
              "    <tr style=\"text-align: right;\">\n",
              "      <th></th>\n",
              "      <th>STATION CODE</th>\n",
              "      <th>Address</th>\n",
              "      <th>Location</th>\n",
              "    </tr>\n",
              "  </thead>\n",
              "  <tbody>\n",
              "    <tr>\n",
              "      <th>1104</th>\n",
              "      <td>1207</td>\n",
              "      <td>KABBANI AT MUTHANKARA</td>\n",
              "      <td>NaN</td>\n",
              "    </tr>\n",
              "  </tbody>\n",
              "</table>\n",
              "</div>"
            ],
            "text/plain": [
              "     STATION CODE                Address Location\n",
              "1104         1207  KABBANI AT MUTHANKARA      NaN"
            ]
          },
          "metadata": {},
          "execution_count": 29
        }
      ]
    },
    {
      "cell_type": "code",
      "metadata": {
        "colab": {
          "base_uri": "https://localhost:8080/",
          "height": 80
        },
        "id": "D8EgvO3ZAfof",
        "outputId": "c72f6e1d-35d2-4001-82c8-71d587e296d4"
      },
      "source": [
        "df_cat_copy[df_cat_copy[\"STATION CODE\"] == \"1208\"]"
      ],
      "execution_count": null,
      "outputs": [
        {
          "output_type": "execute_result",
          "data": {
            "text/html": [
              "<div>\n",
              "<style scoped>\n",
              "    .dataframe tbody tr th:only-of-type {\n",
              "        vertical-align: middle;\n",
              "    }\n",
              "\n",
              "    .dataframe tbody tr th {\n",
              "        vertical-align: top;\n",
              "    }\n",
              "\n",
              "    .dataframe thead th {\n",
              "        text-align: right;\n",
              "    }\n",
              "</style>\n",
              "<table border=\"1\" class=\"dataframe\">\n",
              "  <thead>\n",
              "    <tr style=\"text-align: right;\">\n",
              "      <th></th>\n",
              "      <th>STATION CODE</th>\n",
              "      <th>Address</th>\n",
              "      <th>Location</th>\n",
              "    </tr>\n",
              "  </thead>\n",
              "  <tbody>\n",
              "    <tr>\n",
              "      <th>1105</th>\n",
              "      <td>1208</td>\n",
              "      <td>BHAVANI AT ELACHIVAZHY</td>\n",
              "      <td>NaN</td>\n",
              "    </tr>\n",
              "  </tbody>\n",
              "</table>\n",
              "</div>"
            ],
            "text/plain": [
              "     STATION CODE                 Address Location\n",
              "1105         1208  BHAVANI AT ELACHIVAZHY      NaN"
            ]
          },
          "metadata": {},
          "execution_count": 30
        }
      ]
    },
    {
      "cell_type": "code",
      "metadata": {
        "colab": {
          "base_uri": "https://localhost:8080/",
          "height": 111
        },
        "id": "ft0haJgRAhLq",
        "outputId": "12ca7e71-594b-4d72-fd8e-e8b2f061663d"
      },
      "source": [
        "df_cat_copy[df_cat_copy[\"STATION CODE\"] == \"2047\"]"
      ],
      "execution_count": null,
      "outputs": [
        {
          "output_type": "execute_result",
          "data": {
            "text/html": [
              "<div>\n",
              "<style scoped>\n",
              "    .dataframe tbody tr th:only-of-type {\n",
              "        vertical-align: middle;\n",
              "    }\n",
              "\n",
              "    .dataframe tbody tr th {\n",
              "        vertical-align: top;\n",
              "    }\n",
              "\n",
              "    .dataframe thead th {\n",
              "        text-align: right;\n",
              "    }\n",
              "</style>\n",
              "<table border=\"1\" class=\"dataframe\">\n",
              "  <thead>\n",
              "    <tr style=\"text-align: right;\">\n",
              "      <th></th>\n",
              "      <th>STATION CODE</th>\n",
              "      <th>Address</th>\n",
              "      <th>Location</th>\n",
              "    </tr>\n",
              "  </thead>\n",
              "  <tbody>\n",
              "    <tr>\n",
              "      <th>1648</th>\n",
              "      <td>2047</td>\n",
              "      <td>NNANCHOE (ATTAWA CHOE), CHANDIGARH</td>\n",
              "      <td>NaN</td>\n",
              "    </tr>\n",
              "    <tr>\n",
              "      <th>1768</th>\n",
              "      <td>2047</td>\n",
              "      <td>NNANCHOE (ATTAWA CHOE)</td>\n",
              "      <td>NaN</td>\n",
              "    </tr>\n",
              "  </tbody>\n",
              "</table>\n",
              "</div>"
            ],
            "text/plain": [
              "     STATION CODE                             Address Location\n",
              "1648         2047  NNANCHOE (ATTAWA CHOE), CHANDIGARH      NaN\n",
              "1768         2047              NNANCHOE (ATTAWA CHOE)      NaN"
            ]
          },
          "metadata": {},
          "execution_count": 31
        }
      ]
    },
    {
      "cell_type": "code",
      "metadata": {
        "colab": {
          "base_uri": "https://localhost:8080/",
          "height": 111
        },
        "id": "N35AjuyTAiRJ",
        "outputId": "685ff5bc-654a-4f9b-8df2-0e094ff5f1a3"
      },
      "source": [
        "df_cat_copy[df_cat_copy[\"STATION CODE\"] == \"2048\"]"
      ],
      "execution_count": null,
      "outputs": [
        {
          "output_type": "execute_result",
          "data": {
            "text/html": [
              "<div>\n",
              "<style scoped>\n",
              "    .dataframe tbody tr th:only-of-type {\n",
              "        vertical-align: middle;\n",
              "    }\n",
              "\n",
              "    .dataframe tbody tr th {\n",
              "        vertical-align: top;\n",
              "    }\n",
              "\n",
              "    .dataframe thead th {\n",
              "        text-align: right;\n",
              "    }\n",
              "</style>\n",
              "<table border=\"1\" class=\"dataframe\">\n",
              "  <thead>\n",
              "    <tr style=\"text-align: right;\">\n",
              "      <th></th>\n",
              "      <th>STATION CODE</th>\n",
              "      <th>Address</th>\n",
              "      <th>Location</th>\n",
              "    </tr>\n",
              "  </thead>\n",
              "  <tbody>\n",
              "    <tr>\n",
              "      <th>1649</th>\n",
              "      <td>2048</td>\n",
              "      <td>PATIALA KI RAO, CHANDIGARH</td>\n",
              "      <td>NaN</td>\n",
              "    </tr>\n",
              "    <tr>\n",
              "      <th>1769</th>\n",
              "      <td>2048</td>\n",
              "      <td>PATIALA KI RAO</td>\n",
              "      <td>NaN</td>\n",
              "    </tr>\n",
              "  </tbody>\n",
              "</table>\n",
              "</div>"
            ],
            "text/plain": [
              "     STATION CODE                     Address Location\n",
              "1649         2048  PATIALA KI RAO, CHANDIGARH      NaN\n",
              "1769         2048              PATIALA KI RAO      NaN"
            ]
          },
          "metadata": {},
          "execution_count": 32
        }
      ]
    },
    {
      "cell_type": "code",
      "metadata": {
        "colab": {
          "base_uri": "https://localhost:8080/",
          "height": 111
        },
        "id": "bIvgCkEcAjY4",
        "outputId": "feec6064-4fbb-49c6-b1c6-d773f3e8e38a"
      },
      "source": [
        "df_cat_copy[df_cat_copy[\"STATION CODE\"] == \"2049\"]"
      ],
      "execution_count": null,
      "outputs": [
        {
          "output_type": "execute_result",
          "data": {
            "text/html": [
              "<div>\n",
              "<style scoped>\n",
              "    .dataframe tbody tr th:only-of-type {\n",
              "        vertical-align: middle;\n",
              "    }\n",
              "\n",
              "    .dataframe tbody tr th {\n",
              "        vertical-align: top;\n",
              "    }\n",
              "\n",
              "    .dataframe thead th {\n",
              "        text-align: right;\n",
              "    }\n",
              "</style>\n",
              "<table border=\"1\" class=\"dataframe\">\n",
              "  <thead>\n",
              "    <tr style=\"text-align: right;\">\n",
              "      <th></th>\n",
              "      <th>STATION CODE</th>\n",
              "      <th>Address</th>\n",
              "      <th>Location</th>\n",
              "    </tr>\n",
              "  </thead>\n",
              "  <tbody>\n",
              "    <tr>\n",
              "      <th>1650</th>\n",
              "      <td>2049</td>\n",
              "      <td>SUKHNA CHOE, CHANDIGARH</td>\n",
              "      <td>NaN</td>\n",
              "    </tr>\n",
              "    <tr>\n",
              "      <th>1770</th>\n",
              "      <td>2049</td>\n",
              "      <td>SUKHNA CHOE</td>\n",
              "      <td>NaN</td>\n",
              "    </tr>\n",
              "  </tbody>\n",
              "</table>\n",
              "</div>"
            ],
            "text/plain": [
              "     STATION CODE                  Address Location\n",
              "1650         2049  SUKHNA CHOE, CHANDIGARH      NaN\n",
              "1770         2049              SUKHNA CHOE      NaN"
            ]
          },
          "metadata": {},
          "execution_count": 33
        }
      ]
    },
    {
      "cell_type": "code",
      "metadata": {
        "id": "4DSGrphtW-Li"
      },
      "source": [
        "# Filling up LOCATION based on ADDRESS\n",
        "df_cat_copy[\"Location\"][1649] = \"CHANDIGARH\"\n",
        "df_cat_copy[\"Location\"][1650] = \"CHANDIGARH\"\n",
        "df_cat_copy[\"Location\"][1769] = \"CHANDIGARH\"\n",
        "df_cat_copy[\"Location\"][1770] = \"CHANDIGARH\"\n",
        "df_cat_copy[\"Location\"][2047] = \"CHANDIGARH\""
      ],
      "execution_count": null,
      "outputs": []
    },
    {
      "cell_type": "code",
      "metadata": {
        "colab": {
          "base_uri": "https://localhost:8080/"
        },
        "id": "V2ruWntFXARk",
        "outputId": "94cf8e9f-65cc-4169-885d-5dcf6c2293c2"
      },
      "source": [
        "# Re-checking NULL values\n",
        "df_cat = df_cat_copy\n",
        "df_cat.isnull().sum()"
      ],
      "execution_count": null,
      "outputs": [
        {
          "output_type": "execute_result",
          "data": {
            "text/plain": [
              "STATION CODE    2\n",
              "Address         0\n",
              "Location        6\n",
              "dtype: int64"
            ]
          },
          "metadata": {},
          "execution_count": 35
        }
      ]
    },
    {
      "cell_type": "code",
      "metadata": {
        "colab": {
          "base_uri": "https://localhost:8080/",
          "height": 235
        },
        "id": "0AuLdN-7b0WR",
        "outputId": "eacf9ee7-2fc5-4c24-bea6-b66e6ac480a4"
      },
      "source": [
        "df_cat_copy[df_cat_copy[\"Location\"].isnull()]"
      ],
      "execution_count": null,
      "outputs": [
        {
          "output_type": "execute_result",
          "data": {
            "text/html": [
              "<div>\n",
              "<style scoped>\n",
              "    .dataframe tbody tr th:only-of-type {\n",
              "        vertical-align: middle;\n",
              "    }\n",
              "\n",
              "    .dataframe tbody tr th {\n",
              "        vertical-align: top;\n",
              "    }\n",
              "\n",
              "    .dataframe thead th {\n",
              "        text-align: right;\n",
              "    }\n",
              "</style>\n",
              "<table border=\"1\" class=\"dataframe\">\n",
              "  <thead>\n",
              "    <tr style=\"text-align: right;\">\n",
              "      <th></th>\n",
              "      <th>STATION CODE</th>\n",
              "      <th>Address</th>\n",
              "      <th>Location</th>\n",
              "    </tr>\n",
              "  </thead>\n",
              "  <tbody>\n",
              "    <tr>\n",
              "      <th>1104</th>\n",
              "      <td>1207</td>\n",
              "      <td>KABBANI AT MUTHANKARA</td>\n",
              "      <td>NaN</td>\n",
              "    </tr>\n",
              "    <tr>\n",
              "      <th>1105</th>\n",
              "      <td>1208</td>\n",
              "      <td>BHAVANI AT ELACHIVAZHY</td>\n",
              "      <td>NaN</td>\n",
              "    </tr>\n",
              "    <tr>\n",
              "      <th>1648</th>\n",
              "      <td>2047</td>\n",
              "      <td>NNANCHOE (ATTAWA CHOE), CHANDIGARH</td>\n",
              "      <td>NaN</td>\n",
              "    </tr>\n",
              "    <tr>\n",
              "      <th>1768</th>\n",
              "      <td>2047</td>\n",
              "      <td>NNANCHOE (ATTAWA CHOE)</td>\n",
              "      <td>NaN</td>\n",
              "    </tr>\n",
              "    <tr>\n",
              "      <th>1782</th>\n",
              "      <td>NaN</td>\n",
              "      <td>DAMANGANGA  AFTER CONFL. OF PIPARIA DRAIN, DAMAN</td>\n",
              "      <td>NaN</td>\n",
              "    </tr>\n",
              "    <tr>\n",
              "      <th>1783</th>\n",
              "      <td>NaN</td>\n",
              "      <td>DAMANGANGA AT CIRCUIT HOUSE, SILVASA, DADRA AN...</td>\n",
              "      <td>NaN</td>\n",
              "    </tr>\n",
              "  </tbody>\n",
              "</table>\n",
              "</div>"
            ],
            "text/plain": [
              "     STATION CODE                                            Address Location\n",
              "1104         1207                              KABBANI AT MUTHANKARA      NaN\n",
              "1105         1208                             BHAVANI AT ELACHIVAZHY      NaN\n",
              "1648         2047                 NNANCHOE (ATTAWA CHOE), CHANDIGARH      NaN\n",
              "1768         2047                             NNANCHOE (ATTAWA CHOE)      NaN\n",
              "1782          NaN   DAMANGANGA  AFTER CONFL. OF PIPARIA DRAIN, DAMAN      NaN\n",
              "1783          NaN  DAMANGANGA AT CIRCUIT HOUSE, SILVASA, DADRA AN...      NaN"
            ]
          },
          "metadata": {},
          "execution_count": 36
        }
      ]
    },
    {
      "cell_type": "code",
      "metadata": {
        "colab": {
          "base_uri": "https://localhost:8080/"
        },
        "id": "T3IGXO0wXCsL",
        "outputId": "08d54f5d-5305-4f52-ebe2-90469688dfe8"
      },
      "source": [
        "df_num.isnull().sum()"
      ],
      "execution_count": null,
      "outputs": [
        {
          "output_type": "execute_result",
          "data": {
            "text/plain": [
              "Temp            0\n",
              "DO              0\n",
              "PH              0\n",
              "Conductivity    0\n",
              "BOD             0\n",
              "NI              0\n",
              "Fec_col         0\n",
              "Tot_col         0\n",
              "year            0\n",
              "dtype: int64"
            ]
          },
          "metadata": {},
          "execution_count": 37
        }
      ]
    },
    {
      "cell_type": "code",
      "metadata": {
        "colab": {
          "base_uri": "https://localhost:8080/"
        },
        "id": "v3Fq84GgXDF0",
        "outputId": "ce2d24a3-51a0-44bb-9cce-497c6d194d08"
      },
      "source": [
        "# Combining categorical and numerical dataframes into one after pre-processing and checking for NULL total\n",
        "df_final = pd.concat([df_cat, df_num], axis=1)\n",
        "df_final.isnull().sum()"
      ],
      "execution_count": null,
      "outputs": [
        {
          "output_type": "execute_result",
          "data": {
            "text/plain": [
              "STATION CODE    2\n",
              "Address         0\n",
              "Location        6\n",
              "Temp            0\n",
              "DO              0\n",
              "PH              0\n",
              "Conductivity    0\n",
              "BOD             0\n",
              "NI              0\n",
              "Fec_col         0\n",
              "Tot_col         0\n",
              "year            0\n",
              "dtype: int64"
            ]
          },
          "metadata": {},
          "execution_count": 38
        }
      ]
    },
    {
      "cell_type": "code",
      "metadata": {
        "colab": {
          "base_uri": "https://localhost:8080/",
          "height": 235
        },
        "id": "LGGRvZs3XEQC",
        "outputId": "df910af8-7dd5-4e59-dd85-7560798616dc"
      },
      "source": [
        "# These are the samples which don't contain any attribute that I can use to fill in the NULL values\n",
        "# So it is best to remove them\n",
        "\n",
        "df_null = df_final[(df_final[\"STATION CODE\"].isnull()) | (df_final[\"Location\"].isnull())]\n",
        "df_null_indices = df_null.index\n",
        "df_final.drop(df_null_indices, axis=0, inplace=True)\n",
        "df_null"
      ],
      "execution_count": null,
      "outputs": [
        {
          "output_type": "execute_result",
          "data": {
            "text/html": [
              "<div>\n",
              "<style scoped>\n",
              "    .dataframe tbody tr th:only-of-type {\n",
              "        vertical-align: middle;\n",
              "    }\n",
              "\n",
              "    .dataframe tbody tr th {\n",
              "        vertical-align: top;\n",
              "    }\n",
              "\n",
              "    .dataframe thead th {\n",
              "        text-align: right;\n",
              "    }\n",
              "</style>\n",
              "<table border=\"1\" class=\"dataframe\">\n",
              "  <thead>\n",
              "    <tr style=\"text-align: right;\">\n",
              "      <th></th>\n",
              "      <th>STATION CODE</th>\n",
              "      <th>Address</th>\n",
              "      <th>Location</th>\n",
              "      <th>Temp</th>\n",
              "      <th>DO</th>\n",
              "      <th>PH</th>\n",
              "      <th>Conductivity</th>\n",
              "      <th>BOD</th>\n",
              "      <th>NI</th>\n",
              "      <th>Fec_col</th>\n",
              "      <th>Tot_col</th>\n",
              "      <th>year</th>\n",
              "    </tr>\n",
              "  </thead>\n",
              "  <tbody>\n",
              "    <tr>\n",
              "      <th>1104</th>\n",
              "      <td>1207</td>\n",
              "      <td>KABBANI AT MUTHANKARA</td>\n",
              "      <td>NaN</td>\n",
              "      <td>24.3</td>\n",
              "      <td>6.8</td>\n",
              "      <td>7.3</td>\n",
              "      <td>67.0</td>\n",
              "      <td>0.6</td>\n",
              "      <td>0.40</td>\n",
              "      <td>598.0</td>\n",
              "      <td>935.0</td>\n",
              "      <td>2010.0</td>\n",
              "    </tr>\n",
              "    <tr>\n",
              "      <th>1105</th>\n",
              "      <td>1208</td>\n",
              "      <td>BHAVANI AT ELACHIVAZHY</td>\n",
              "      <td>NaN</td>\n",
              "      <td>25.8</td>\n",
              "      <td>7.3</td>\n",
              "      <td>7.4</td>\n",
              "      <td>104.0</td>\n",
              "      <td>0.6</td>\n",
              "      <td>0.44</td>\n",
              "      <td>245.0</td>\n",
              "      <td>430.0</td>\n",
              "      <td>2010.0</td>\n",
              "    </tr>\n",
              "    <tr>\n",
              "      <th>1648</th>\n",
              "      <td>2047</td>\n",
              "      <td>NNANCHOE (ATTAWA CHOE), CHANDIGARH</td>\n",
              "      <td>NaN</td>\n",
              "      <td>29.0</td>\n",
              "      <td>6.7</td>\n",
              "      <td>7.2</td>\n",
              "      <td>183.0</td>\n",
              "      <td>50.0</td>\n",
              "      <td>0.27</td>\n",
              "      <td>221.0</td>\n",
              "      <td>468.0</td>\n",
              "      <td>2007.0</td>\n",
              "    </tr>\n",
              "    <tr>\n",
              "      <th>1768</th>\n",
              "      <td>2047</td>\n",
              "      <td>NNANCHOE (ATTAWA CHOE)</td>\n",
              "      <td>NaN</td>\n",
              "      <td>26.0</td>\n",
              "      <td>0.6</td>\n",
              "      <td>7.3</td>\n",
              "      <td>646.0</td>\n",
              "      <td>87.0</td>\n",
              "      <td>6.80</td>\n",
              "      <td>221.0</td>\n",
              "      <td>468.0</td>\n",
              "      <td>2006.0</td>\n",
              "    </tr>\n",
              "    <tr>\n",
              "      <th>1782</th>\n",
              "      <td>NaN</td>\n",
              "      <td>DAMANGANGA  AFTER CONFL. OF PIPARIA DRAIN, DAMAN</td>\n",
              "      <td>NaN</td>\n",
              "      <td>27.0</td>\n",
              "      <td>6.7</td>\n",
              "      <td>7.3</td>\n",
              "      <td>183.0</td>\n",
              "      <td>1.0</td>\n",
              "      <td>1.01</td>\n",
              "      <td>1200.0</td>\n",
              "      <td>37000.0</td>\n",
              "      <td>2005.0</td>\n",
              "    </tr>\n",
              "    <tr>\n",
              "      <th>1783</th>\n",
              "      <td>NaN</td>\n",
              "      <td>DAMANGANGA AT CIRCUIT HOUSE, SILVASA, DADRA AN...</td>\n",
              "      <td>NaN</td>\n",
              "      <td>27.0</td>\n",
              "      <td>6.7</td>\n",
              "      <td>7.3</td>\n",
              "      <td>183.0</td>\n",
              "      <td>112.0</td>\n",
              "      <td>5.50</td>\n",
              "      <td>1200000.0</td>\n",
              "      <td>6400000.0</td>\n",
              "      <td>2005.0</td>\n",
              "    </tr>\n",
              "  </tbody>\n",
              "</table>\n",
              "</div>"
            ],
            "text/plain": [
              "     STATION CODE  ...    year\n",
              "1104         1207  ...  2010.0\n",
              "1105         1208  ...  2010.0\n",
              "1648         2047  ...  2007.0\n",
              "1768         2047  ...  2006.0\n",
              "1782          NaN  ...  2005.0\n",
              "1783          NaN  ...  2005.0\n",
              "\n",
              "[6 rows x 12 columns]"
            ]
          },
          "metadata": {},
          "execution_count": 39
        }
      ]
    },
    {
      "cell_type": "code",
      "metadata": {
        "colab": {
          "base_uri": "https://localhost:8080/"
        },
        "id": "4R6pNnpyXNqO",
        "outputId": "b743722e-ad3d-46fc-f566-185bf380d556"
      },
      "source": [
        "# Final checking of NULL values\n",
        "df_final.isnull().sum()"
      ],
      "execution_count": null,
      "outputs": [
        {
          "output_type": "execute_result",
          "data": {
            "text/plain": [
              "STATION CODE    0\n",
              "Address         0\n",
              "Location        0\n",
              "Temp            0\n",
              "DO              0\n",
              "PH              0\n",
              "Conductivity    0\n",
              "BOD             0\n",
              "NI              0\n",
              "Fec_col         0\n",
              "Tot_col         0\n",
              "year            0\n",
              "dtype: int64"
            ]
          },
          "metadata": {},
          "execution_count": 40
        }
      ]
    },
    {
      "cell_type": "code",
      "metadata": {
        "colab": {
          "base_uri": "https://localhost:8080/"
        },
        "id": "hOLK8FNnXPhW",
        "outputId": "e67852d9-80f2-49de-9845-2c36a1e2ea3e"
      },
      "source": [
        "# Checking dataframe shape after removing NULL values\n",
        "df_final.shape"
      ],
      "execution_count": null,
      "outputs": [
        {
          "output_type": "execute_result",
          "data": {
            "text/plain": [
              "(1982, 12)"
            ]
          },
          "metadata": {},
          "execution_count": 41
        }
      ]
    },
    {
      "cell_type": "code",
      "metadata": {
        "colab": {
          "base_uri": "https://localhost:8080/",
          "height": 297
        },
        "id": "Wi_ZsuRsunEK",
        "outputId": "42190b3c-e9ba-4ebd-97fa-a7fb06348ca9"
      },
      "source": [
        "df_final.describe()"
      ],
      "execution_count": null,
      "outputs": [
        {
          "output_type": "execute_result",
          "data": {
            "text/html": [
              "<div>\n",
              "<style scoped>\n",
              "    .dataframe tbody tr th:only-of-type {\n",
              "        vertical-align: middle;\n",
              "    }\n",
              "\n",
              "    .dataframe tbody tr th {\n",
              "        vertical-align: top;\n",
              "    }\n",
              "\n",
              "    .dataframe thead th {\n",
              "        text-align: right;\n",
              "    }\n",
              "</style>\n",
              "<table border=\"1\" class=\"dataframe\">\n",
              "  <thead>\n",
              "    <tr style=\"text-align: right;\">\n",
              "      <th></th>\n",
              "      <th>Temp</th>\n",
              "      <th>DO</th>\n",
              "      <th>PH</th>\n",
              "      <th>Conductivity</th>\n",
              "      <th>BOD</th>\n",
              "      <th>NI</th>\n",
              "      <th>Fec_col</th>\n",
              "      <th>Tot_col</th>\n",
              "      <th>year</th>\n",
              "    </tr>\n",
              "  </thead>\n",
              "  <tbody>\n",
              "    <tr>\n",
              "      <th>count</th>\n",
              "      <td>1982.000000</td>\n",
              "      <td>1982.000000</td>\n",
              "      <td>1982.000000</td>\n",
              "      <td>1982.000000</td>\n",
              "      <td>1982.000000</td>\n",
              "      <td>1982.000000</td>\n",
              "      <td>1.982000e+03</td>\n",
              "      <td>1.982000e+03</td>\n",
              "      <td>1982.000000</td>\n",
              "    </tr>\n",
              "    <tr>\n",
              "      <th>mean</th>\n",
              "      <td>26.244368</td>\n",
              "      <td>6.398773</td>\n",
              "      <td>112.143545</td>\n",
              "      <td>1773.386948</td>\n",
              "      <td>6.732530</td>\n",
              "      <td>1.496715</td>\n",
              "      <td>3.058039e+05</td>\n",
              "      <td>4.973489e+05</td>\n",
              "      <td>2010.047427</td>\n",
              "    </tr>\n",
              "    <tr>\n",
              "      <th>std</th>\n",
              "      <td>3.298198</td>\n",
              "      <td>1.319359</td>\n",
              "      <td>1879.403418</td>\n",
              "      <td>5531.699048</td>\n",
              "      <td>28.986124</td>\n",
              "      <td>3.873670</td>\n",
              "      <td>8.058092e+06</td>\n",
              "      <td>1.378527e+07</td>\n",
              "      <td>3.052423</td>\n",
              "    </tr>\n",
              "    <tr>\n",
              "      <th>min</th>\n",
              "      <td>10.000000</td>\n",
              "      <td>0.000000</td>\n",
              "      <td>0.000000</td>\n",
              "      <td>0.400000</td>\n",
              "      <td>0.100000</td>\n",
              "      <td>0.000000</td>\n",
              "      <td>0.000000e+00</td>\n",
              "      <td>0.000000e+00</td>\n",
              "      <td>2003.000000</td>\n",
              "    </tr>\n",
              "    <tr>\n",
              "      <th>25%</th>\n",
              "      <td>25.000000</td>\n",
              "      <td>5.900000</td>\n",
              "      <td>6.900000</td>\n",
              "      <td>79.000000</td>\n",
              "      <td>1.200000</td>\n",
              "      <td>0.278500</td>\n",
              "      <td>4.100000e+01</td>\n",
              "      <td>1.162500e+02</td>\n",
              "      <td>2008.000000</td>\n",
              "    </tr>\n",
              "    <tr>\n",
              "      <th>50%</th>\n",
              "      <td>27.000000</td>\n",
              "      <td>6.700000</td>\n",
              "      <td>7.300000</td>\n",
              "      <td>183.000000</td>\n",
              "      <td>1.896500</td>\n",
              "      <td>0.516000</td>\n",
              "      <td>2.210000e+02</td>\n",
              "      <td>4.680000e+02</td>\n",
              "      <td>2011.000000</td>\n",
              "    </tr>\n",
              "    <tr>\n",
              "      <th>75%</th>\n",
              "      <td>28.300000</td>\n",
              "      <td>7.200000</td>\n",
              "      <td>7.700000</td>\n",
              "      <td>570.875000</td>\n",
              "      <td>3.600000</td>\n",
              "      <td>1.200000</td>\n",
              "      <td>6.292500e+02</td>\n",
              "      <td>1.698250e+03</td>\n",
              "      <td>2013.000000</td>\n",
              "    </tr>\n",
              "    <tr>\n",
              "      <th>max</th>\n",
              "      <td>35.000000</td>\n",
              "      <td>11.400000</td>\n",
              "      <td>67115.000000</td>\n",
              "      <td>65700.000000</td>\n",
              "      <td>534.500000</td>\n",
              "      <td>108.700000</td>\n",
              "      <td>2.725216e+08</td>\n",
              "      <td>5.110909e+08</td>\n",
              "      <td>2014.000000</td>\n",
              "    </tr>\n",
              "  </tbody>\n",
              "</table>\n",
              "</div>"
            ],
            "text/plain": [
              "              Temp           DO  ...       Tot_col         year\n",
              "count  1982.000000  1982.000000  ...  1.982000e+03  1982.000000\n",
              "mean     26.244368     6.398773  ...  4.973489e+05  2010.047427\n",
              "std       3.298198     1.319359  ...  1.378527e+07     3.052423\n",
              "min      10.000000     0.000000  ...  0.000000e+00  2003.000000\n",
              "25%      25.000000     5.900000  ...  1.162500e+02  2008.000000\n",
              "50%      27.000000     6.700000  ...  4.680000e+02  2011.000000\n",
              "75%      28.300000     7.200000  ...  1.698250e+03  2013.000000\n",
              "max      35.000000    11.400000  ...  5.110909e+08  2014.000000\n",
              "\n",
              "[8 rows x 9 columns]"
            ]
          },
          "metadata": {},
          "execution_count": 42
        }
      ]
    },
    {
      "cell_type": "code",
      "metadata": {
        "colab": {
          "base_uri": "https://localhost:8080/",
          "height": 1000
        },
        "id": "apeq3LhTXQ0M",
        "outputId": "6a2f4514-d253-4852-ced8-1693ebd87a4d"
      },
      "source": [
        "# PLotting   the numeric attributes in the dataset\n",
        "\n",
        "df_num_final = df_final.select_dtypes(exclude=\"object\")\n",
        "\n",
        "def plot_kde(df):\n",
        "    n_col = df.shape[1]\n",
        "    for index in range(n_col):\n",
        "        col_index = df.iloc[:, index]\n",
        "        fig, ax = plt.subplots(1,1, figsize=(7, 5))\n",
        "        sns.kdeplot(data=df, x=col_index.name)\n",
        "        \n",
        "plot_kde(df_num_final)"
      ],
      "execution_count": null,
      "outputs": [
        {
          "output_type": "display_data",
          "data": {
            "image/png": "[encoded data removed]",
            "text/plain": [
              "<Figure size 504x360 with 1 Axes>"
            ]
          },
          "metadata": {
            "needs_background": "light"
          }
        },
        {
          "output_type": "display_data",
          "data": {
            "image/png": "[encoded data removed]",
            "text/plain": [
              "<Figure size 504x360 with 1 Axes>"
            ]
          },
          "metadata": {
            "needs_background": "light"
          }
        },
        {
          "output_type": "display_data",
          "data": {
            "image/png": "[encoded data removed]",
            "text/plain": [
              "<Figure size 504x360 with 1 Axes>"
            ]
          },
          "metadata": {
            "needs_background": "light"
          }
        },
        {
          "output_type": "display_data",
          "data": {
            "image/png": "[encoded data removed]",
            "text/plain": [
              "<Figure size 504x360 with 1 Axes>"
            ]
          },
          "metadata": {
            "needs_background": "light"
          }
        },
        {
          "output_type": "display_data",
          "data": {
            "image/png": "[encoded data removed]",
            "text/plain": [
              "<Figure size 504x360 with 1 Axes>"
            ]
          },
          "metadata": {
            "needs_background": "light"
          }
        },
        {
          "output_type": "display_data",
          "data": {
            "image/png": "[encoded data removed]",
            "text/plain": [
              "<Figure size 504x360 with 1 Axes>"
            ]
          },
          "metadata": {
            "needs_background": "light"
          }
        },
        {
          "output_type": "display_data",
          "data": {
            "image/png": "[encoded data removed]",
            "text/plain": [
              "<Figure size 504x360 with 1 Axes>"
            ]
          },
          "metadata": {
            "needs_background": "light"
          }
        },
        {
          "output_type": "display_data",
          "data": {
            "image/png": "[encoded data removed]",
            "text/plain": [
              "<Figure size 504x360 with 1 Axes>"
            ]
          },
          "metadata": {
            "needs_background": "light"
          }
        },
        {
          "output_type": "display_data",
          "data": {
            "image/png": "[encoded data removed]",
            "text/plain": [
              "<Figure size 504x360 with 1 Axes>"
            ]
          },
          "metadata": {
            "needs_background": "light"
          }
        }
      ]
    },
    {
      "cell_type": "code",
      "metadata": {
        "colab": {
          "base_uri": "https://localhost:8080/"
        },
        "id": "x7WjzXhsqmfu",
        "outputId": "9ff4a4bc-3617-4dcd-9f12-686fa8e2609b"
      },
      "source": [
        "# Removing outliers using z-score\n",
        "z = np.abs(zscore(df_num_final))\n",
        "print(z)"
      ],
      "execution_count": null,
      "outputs": [
        {
          "output_type": "stream",
          "name": "stdout",
          "text": [
            "[[1.32094315e+00 2.28370782e-01 5.56931805e-02 ... 3.79581309e-02\n",
            "  3.60854368e-02 1.29522378e+00]\n",
            " [1.07832521e+00 5.29764276e-01 5.58528459e-02 ... 3.73446796e-02\n",
            "  3.54785490e-02 1.29522378e+00]\n",
            " [9.87343477e-01 7.48832413e-02 5.60125113e-02 ... 3.75569422e-02\n",
            "  3.57006537e-02 1.29522378e+00]\n",
            " ...\n",
            " [5.32434836e-01 9.10692335e-01 7.52744973e-03 ... 3.79320636e-02\n",
            "  3.60460370e-02 2.30938037e+00]\n",
            " [5.32434836e-01 9.86505841e-01 1.12529759e-02 ... 3.79320636e-02\n",
            "  3.60466175e-02 2.30938037e+00]\n",
            " [8.35707263e-01 9.10692335e-01 1.14083349e-03 ... 3.79320636e-02\n",
            "  3.60477784e-02 2.30938037e+00]]\n"
          ]
        }
      ]
    },
    {
      "cell_type": "code",
      "metadata": {
        "id": "vHmLbYj-2Rbl"
      },
      "source": [
        "# Adding the z_score for each row into the dataframe\n",
        "df_final['z_score'] = z.tolist()"
      ],
      "execution_count": null,
      "outputs": []
    },
    {
      "cell_type": "code",
      "metadata": {
        "colab": {
          "base_uri": "https://localhost:8080/",
          "height": 419
        },
        "id": "RpwaUQaA2Y08",
        "outputId": "91455ad8-68b8-49d0-a771-76ef3e880396"
      },
      "source": [
        "df_final"
      ],
      "execution_count": null,
      "outputs": [
        {
          "output_type": "execute_result",
          "data": {
            "text/html": [
              "<div>\n",
              "<style scoped>\n",
              "    .dataframe tbody tr th:only-of-type {\n",
              "        vertical-align: middle;\n",
              "    }\n",
              "\n",
              "    .dataframe tbody tr th {\n",
              "        vertical-align: top;\n",
              "    }\n",
              "\n",
              "    .dataframe thead th {\n",
              "        text-align: right;\n",
              "    }\n",
              "</style>\n",
              "<table border=\"1\" class=\"dataframe\">\n",
              "  <thead>\n",
              "    <tr style=\"text-align: right;\">\n",
              "      <th></th>\n",
              "      <th>STATION CODE</th>\n",
              "      <th>Address</th>\n",
              "      <th>Location</th>\n",
              "      <th>Temp</th>\n",
              "      <th>DO</th>\n",
              "      <th>PH</th>\n",
              "      <th>Conductivity</th>\n",
              "      <th>BOD</th>\n",
              "      <th>NI</th>\n",
              "      <th>Fec_col</th>\n",
              "      <th>Tot_col</th>\n",
              "      <th>year</th>\n",
              "      <th>z_score</th>\n",
              "    </tr>\n",
              "  </thead>\n",
              "  <tbody>\n",
              "    <tr>\n",
              "      <th>0</th>\n",
              "      <td>1393</td>\n",
              "      <td>DAMANGANGA AT D/S OF MADHUBAN, DAMAN</td>\n",
              "      <td>DAMAN &amp; DIU</td>\n",
              "      <td>30.6</td>\n",
              "      <td>6.7</td>\n",
              "      <td>7.5</td>\n",
              "      <td>203.0</td>\n",
              "      <td>1.8965</td>\n",
              "      <td>0.100</td>\n",
              "      <td>11.000</td>\n",
              "      <td>27.0</td>\n",
              "      <td>2014.0</td>\n",
              "      <td>[1.3209431470362394, 0.2283707822320747, 0.055...</td>\n",
              "    </tr>\n",
              "    <tr>\n",
              "      <th>1</th>\n",
              "      <td>1399</td>\n",
              "      <td>ZUARI AT D/S OF PT. WHERE KUMBARJRIA CANAL JOI...</td>\n",
              "      <td>GOA</td>\n",
              "      <td>29.8</td>\n",
              "      <td>5.7</td>\n",
              "      <td>7.2</td>\n",
              "      <td>189.0</td>\n",
              "      <td>2.0000</td>\n",
              "      <td>0.200</td>\n",
              "      <td>4953.000</td>\n",
              "      <td>8391.0</td>\n",
              "      <td>2014.0</td>\n",
              "      <td>[1.0783252051158518, 0.5297642764983976, 0.055...</td>\n",
              "    </tr>\n",
              "    <tr>\n",
              "      <th>2</th>\n",
              "      <td>1475</td>\n",
              "      <td>ZUARI AT PANCHAWADI</td>\n",
              "      <td>GOA</td>\n",
              "      <td>29.5</td>\n",
              "      <td>6.3</td>\n",
              "      <td>6.9</td>\n",
              "      <td>179.0</td>\n",
              "      <td>1.7000</td>\n",
              "      <td>0.100</td>\n",
              "      <td>3243.000</td>\n",
              "      <td>5330.0</td>\n",
              "      <td>2014.0</td>\n",
              "      <td>[0.9873434768957065, 0.0748832412601145, 0.056...</td>\n",
              "    </tr>\n",
              "    <tr>\n",
              "      <th>3</th>\n",
              "      <td>3181</td>\n",
              "      <td>RIVER ZUARI AT BORIM BRIDGE</td>\n",
              "      <td>GOA</td>\n",
              "      <td>29.7</td>\n",
              "      <td>5.8</td>\n",
              "      <td>6.9</td>\n",
              "      <td>64.0</td>\n",
              "      <td>3.8000</td>\n",
              "      <td>0.500</td>\n",
              "      <td>5382.000</td>\n",
              "      <td>8443.0</td>\n",
              "      <td>2014.0</td>\n",
              "      <td>[1.0479979623758031, 0.4539507706253506, 0.056...</td>\n",
              "    </tr>\n",
              "    <tr>\n",
              "      <th>4</th>\n",
              "      <td>3182</td>\n",
              "      <td>RIVER ZUARI AT MARCAIM JETTY</td>\n",
              "      <td>GOA</td>\n",
              "      <td>29.5</td>\n",
              "      <td>5.8</td>\n",
              "      <td>7.3</td>\n",
              "      <td>83.0</td>\n",
              "      <td>1.9000</td>\n",
              "      <td>0.400</td>\n",
              "      <td>3428.000</td>\n",
              "      <td>5500.0</td>\n",
              "      <td>2014.0</td>\n",
              "      <td>[0.9873434768957065, 0.4539507706253506, 0.055...</td>\n",
              "    </tr>\n",
              "    <tr>\n",
              "      <th>...</th>\n",
              "      <td>...</td>\n",
              "      <td>...</td>\n",
              "      <td>...</td>\n",
              "      <td>...</td>\n",
              "      <td>...</td>\n",
              "      <td>...</td>\n",
              "      <td>...</td>\n",
              "      <td>...</td>\n",
              "      <td>...</td>\n",
              "      <td>...</td>\n",
              "      <td>...</td>\n",
              "      <td>...</td>\n",
              "      <td>...</td>\n",
              "    </tr>\n",
              "    <tr>\n",
              "      <th>1983</th>\n",
              "      <td>1330</td>\n",
              "      <td>TAMBIRAPARANI AT ARUMUGANERI, TAMILNADU</td>\n",
              "      <td>TAMILNADU</td>\n",
              "      <td>27.0</td>\n",
              "      <td>7.9</td>\n",
              "      <td>738.0</td>\n",
              "      <td>7.2</td>\n",
              "      <td>2.7000</td>\n",
              "      <td>0.518</td>\n",
              "      <td>0.518</td>\n",
              "      <td>202.0</td>\n",
              "      <td>2003.0</td>\n",
              "      <td>[0.22916240839449617, 1.1381328527086416, 0.33...</td>\n",
              "    </tr>\n",
              "    <tr>\n",
              "      <th>1984</th>\n",
              "      <td>1450</td>\n",
              "      <td>PALAR AT VANIYAMBADI WATER SUPPLY HEAD WORK, T...</td>\n",
              "      <td>TAMILNADU</td>\n",
              "      <td>29.0</td>\n",
              "      <td>7.5</td>\n",
              "      <td>585.0</td>\n",
              "      <td>6.3</td>\n",
              "      <td>2.6000</td>\n",
              "      <td>0.155</td>\n",
              "      <td>0.155</td>\n",
              "      <td>315.0</td>\n",
              "      <td>2003.0</td>\n",
              "      <td>[0.8357072631954644, 0.8348788292164524, 0.251...</td>\n",
              "    </tr>\n",
              "    <tr>\n",
              "      <th>1985</th>\n",
              "      <td>1403</td>\n",
              "      <td>GUMTI AT U/S SOUTH TRIPURA,TRIPURA</td>\n",
              "      <td>TRIPURA</td>\n",
              "      <td>28.0</td>\n",
              "      <td>7.6</td>\n",
              "      <td>98.0</td>\n",
              "      <td>6.2</td>\n",
              "      <td>1.2000</td>\n",
              "      <td>0.516</td>\n",
              "      <td>221.000</td>\n",
              "      <td>570.0</td>\n",
              "      <td>2003.0</td>\n",
              "      <td>[0.5324348357949803, 0.9106923350894993, 0.007...</td>\n",
              "    </tr>\n",
              "    <tr>\n",
              "      <th>1986</th>\n",
              "      <td>1404</td>\n",
              "      <td>GUMTI AT D/S SOUTH TRIPURA, TRIPURA</td>\n",
              "      <td>TRIPURA</td>\n",
              "      <td>28.0</td>\n",
              "      <td>7.7</td>\n",
              "      <td>91.0</td>\n",
              "      <td>6.5</td>\n",
              "      <td>1.3000</td>\n",
              "      <td>0.516</td>\n",
              "      <td>221.000</td>\n",
              "      <td>562.0</td>\n",
              "      <td>2003.0</td>\n",
              "      <td>[0.5324348357949803, 0.9865058409625469, 0.011...</td>\n",
              "    </tr>\n",
              "    <tr>\n",
              "      <th>1987</th>\n",
              "      <td>1726</td>\n",
              "      <td>CHANDRAPUR, AGARTALA D/S OF HAORA RIVER, TRIPURA</td>\n",
              "      <td>TRIPURA</td>\n",
              "      <td>29.0</td>\n",
              "      <td>7.6</td>\n",
              "      <td>110.0</td>\n",
              "      <td>5.7</td>\n",
              "      <td>1.1000</td>\n",
              "      <td>0.516</td>\n",
              "      <td>221.000</td>\n",
              "      <td>546.0</td>\n",
              "      <td>2003.0</td>\n",
              "      <td>[0.8357072631954644, 0.9106923350894993, 0.001...</td>\n",
              "    </tr>\n",
              "  </tbody>\n",
              "</table>\n",
              "<p>1982 rows × 13 columns</p>\n",
              "</div>"
            ],
            "text/plain": [
              "     STATION CODE  ...                                            z_score\n",
              "0            1393  ...  [1.3209431470362394, 0.2283707822320747, 0.055...\n",
              "1            1399  ...  [1.0783252051158518, 0.5297642764983976, 0.055...\n",
              "2            1475  ...  [0.9873434768957065, 0.0748832412601145, 0.056...\n",
              "3            3181  ...  [1.0479979623758031, 0.4539507706253506, 0.056...\n",
              "4            3182  ...  [0.9873434768957065, 0.4539507706253506, 0.055...\n",
              "...           ...  ...                                                ...\n",
              "1983         1330  ...  [0.22916240839449617, 1.1381328527086416, 0.33...\n",
              "1984         1450  ...  [0.8357072631954644, 0.8348788292164524, 0.251...\n",
              "1985         1403  ...  [0.5324348357949803, 0.9106923350894993, 0.007...\n",
              "1986         1404  ...  [0.5324348357949803, 0.9865058409625469, 0.011...\n",
              "1987         1726  ...  [0.8357072631954644, 0.9106923350894993, 0.001...\n",
              "\n",
              "[1982 rows x 13 columns]"
            ]
          },
          "metadata": {},
          "execution_count": 46
        }
      ]
    },
    {
      "cell_type": "code",
      "metadata": {
        "id": "inwhE_Liq6Ad"
      },
      "source": [
        "df_num_final_o = df_final[(z < 3).all(axis=1)]"
      ],
      "execution_count": null,
      "outputs": []
    },
    {
      "cell_type": "code",
      "metadata": {
        "id": "XcQqrhkI2vy1"
      },
      "source": [
        "df_num_final_o.drop(['z_score'], axis=1, inplace=True)"
      ],
      "execution_count": null,
      "outputs": []
    },
    {
      "cell_type": "code",
      "metadata": {
        "colab": {
          "base_uri": "https://localhost:8080/"
        },
        "id": "uRSsAysVsTh6",
        "outputId": "5480376b-a701-49b7-cd68-00a9c364ae22"
      },
      "source": [
        "df_num_final_o.shape"
      ],
      "execution_count": null,
      "outputs": [
        {
          "output_type": "execute_result",
          "data": {
            "text/plain": [
              "(1811, 12)"
            ]
          },
          "metadata": {},
          "execution_count": 49
        }
      ]
    },
    {
      "cell_type": "code",
      "metadata": {
        "id": "lOFuyUMY4iWY"
      },
      "source": [
        "df_final = df_num_final_o"
      ],
      "execution_count": null,
      "outputs": []
    },
    {
      "cell_type": "code",
      "metadata": {
        "colab": {
          "base_uri": "https://localhost:8080/"
        },
        "id": "hypf7xHW5gXo",
        "outputId": "d4db000b-4ca7-4812-aa48-5b1471f81fe1"
      },
      "source": [
        "df_final.shape"
      ],
      "execution_count": null,
      "outputs": [
        {
          "output_type": "execute_result",
          "data": {
            "text/plain": [
              "(1811, 12)"
            ]
          },
          "metadata": {},
          "execution_count": 51
        }
      ]
    },
    {
      "cell_type": "code",
      "metadata": {
        "colab": {
          "base_uri": "https://localhost:8080/",
          "height": 1000
        },
        "id": "ThiRmMuAXc1h",
        "outputId": "e4187cc7-2a40-4a49-fe09-e77af0c41d37"
      },
      "source": [
        "# KDE plots after removal of outliers\n",
        "plot_kde(df_final.select_dtypes(exclude=\"object\"))"
      ],
      "execution_count": null,
      "outputs": [
        {
          "output_type": "display_data",
          "data": {
            "image/png": "[encoded data removed]",
            "text/plain": [
              "<Figure size 504x360 with 1 Axes>"
            ]
          },
          "metadata": {
            "needs_background": "light"
          }
        },
        {
          "output_type": "display_data",
          "data": {
            "image/png": "[encoded data removed]",
            "text/plain": [
              "<Figure size 504x360 with 1 Axes>"
            ]
          },
          "metadata": {
            "needs_background": "light"
          }
        },
        {
          "output_type": "display_data",
          "data": {
            "image/png": "[encoded data removed]",
            "text/plain": [
              "<Figure size 504x360 with 1 Axes>"
            ]
          },
          "metadata": {
            "needs_background": "light"
          }
        },
        {
          "output_type": "display_data",
          "data": {
            "image/png": "[encoded data removed]",
            "text/plain": [
              "<Figure size 504x360 with 1 Axes>"
            ]
          },
          "metadata": {
            "needs_background": "light"
          }
        },
        {
          "output_type": "display_data",
          "data": {
            "image/png": "[encoded data removed]",
            "text/plain": [
              "<Figure size 504x360 with 1 Axes>"
            ]
          },
          "metadata": {
            "needs_background": "light"
          }
        },
        {
          "output_type": "display_data",
          "data": {
            "image/png": "[encoded data removed]",
            "text/plain": [
              "<Figure size 504x360 with 1 Axes>"
            ]
          },
          "metadata": {
            "needs_background": "light"
          }
        },
        {
          "output_type": "display_data",
          "data": {
            "image/png": "[encoded data removed]",
            "text/plain": [
              "<Figure size 504x360 with 1 Axes>"
            ]
          },
          "metadata": {
            "needs_background": "light"
          }
        },
        {
          "output_type": "display_data",
          "data": {
            "image/png": "[encoded data removed]",
            "text/plain": [
              "<Figure size 504x360 with 1 Axes>"
            ]
          },
          "metadata": {
            "needs_background": "light"
          }
        },
        {
          "output_type": "display_data",
          "data": {
            "image/png": "[encoded data removed]",
            "text/plain": [
              "<Figure size 504x360 with 1 Axes>"
            ]
          },
          "metadata": {
            "needs_background": "light"
          }
        }
      ]
    },
    {
      "cell_type": "markdown",
      "metadata": {
        "id": "BVjascFzGWce"
      },
      "source": [
        "# **Water Quality Index Calculation**"
      ]
    },
    {
      "cell_type": "markdown",
      "metadata": {
        "id": "opgrpjubGaL2"
      },
      "source": [
        "I will be using \"Weighted Arithmetic Water Quality Index Method\" to calculate WQI of each water sample. The formula to calculate WQI is -\n",
        "\n",
        "> *WQI = ∑ qi × wi*"
      ]
    },
    {
      "cell_type": "markdown",
      "metadata": {
        "id": "3-U2JXQsH47f"
      },
      "source": [
        "qi - Quality estimate scale of each parameter, it is calculated with the formula - \n",
        "> *qi = 100 × ( Vi / Si)*\n",
        "\n"
      ]
    },
    {
      "cell_type": "markdown",
      "metadata": {
        "id": "XD2H0oEzH53I"
      },
      "source": [
        "wi is calculated by the formula -\n",
        "> *wi = K / Si*\n",
        "\n",
        "\n",
        "Here K is proportionality constant which is -\n",
        "> *K = 1 / ∑ (1/Si)*\n",
        "\n"
      ]
    },
    {
      "cell_type": "markdown",
      "metadata": {
        "id": "gAUHsBl_IuZy"
      },
      "source": [
        "### **Unit weights for each parameter (wi) -**\n",
        "Dissolved Oxygen =  0.2213\n",
        "\n",
        "pH = 0.2604\n",
        "\n",
        "Conductivity = 0.0022\n",
        "\n",
        "Biological Oxygen Demand = 0.4426\n",
        "\n",
        "Nitrate = 0.0492\n",
        "\n",
        "Fecal Coliform = 0.0221\n",
        "\n",
        "Total Coliform = 0.0022"
      ]
    },
    {
      "cell_type": "markdown",
      "metadata": {
        "id": "tUOJf-D4I6h7"
      },
      "source": [
        "### **Standard value recommended for each parameter (Si) -**\n",
        "Dissolved oxygen(mg/L) = 10\n",
        "\n",
        "pH = 8.5\n",
        "\n",
        "Conductivity (µS/cm) = 1000\n",
        "\n",
        "Biological oxygen demand (mg/L) = 5\n",
        "\n",
        "Nitrate (mg/L) = 45\n",
        "\n",
        "Fecal coliform/100 mL = 100\n",
        "\n",
        "Total coliform/100 mL = 1000"
      ]
    },
    {
      "cell_type": "markdown",
      "metadata": {
        "id": "BJdAjkUZJM0m"
      },
      "source": [
        "### **Ideal value of each parameters (Videal) -**\n",
        "Dissolved Oxygen = 14.6\n",
        "\n",
        "pH = 7.0\n",
        "\n",
        "Conductivity = 0\n",
        "\n",
        "Biological Oxygen Demand = 0\n",
        "\n",
        "Nitrate = 0\n",
        "\n",
        "Fecal Coliform = 0\n",
        "\n",
        "Total Coliform = 0"
      ]
    },
    {
      "cell_type": "code",
      "metadata": {
        "id": "z2FznpBBXhkK"
      },
      "source": [
        "# Calculating Water Quality Index of each sample\n",
        "df_num_final = df_final.select_dtypes(exclude=\"object\")\n",
        "# Dropping year and Temp attribute because they are not used for computing WQI\n",
        "df_num_final.drop([\"year\", \"Temp\"], axis=1, inplace=True)\n",
        "\n",
        "# Weight Vector(wi)\n",
        "wi = np.array([0.2213, 0.2604, 0.0022, 0.4426, 0.0492, 0.0221, 0.0022])\n",
        "\n",
        "# Standard values of parameters(si)\n",
        "si = np.array([10, 8.5, 1000, 5, 45, 100, 1000])\n",
        "\n",
        "# Ideal values of paramters(vIdeal)\n",
        "vIdeal = np.array([14.6, 7, 0, 0, 0, 0, 0])\n",
        "\n",
        "def calc_wqi(sample):\n",
        "    wqi_sample = 0\n",
        "    num_col = 7\n",
        "    for index in range(num_col):\n",
        "        v_index = sample[index] # Obeserved value of sample at index\n",
        "        v_index_ideal = vIdeal[index] # Ideal value of obeserved value\n",
        "        w_index = wi[index] # weight of corresponding parameter of obeserved value\n",
        "        std_index = si[index] # Standard value recommended for obeserved value\n",
        "        q_index = (v_index) / (std_index)\n",
        "        q_index = q_index * 100 # Final qi value of obeserved value\n",
        "        wqi_sample += q_index*w_index\n",
        "    return wqi_sample"
      ],
      "execution_count": null,
      "outputs": []
    },
    {
      "cell_type": "code",
      "metadata": {
        "id": "KUFIYLC6Xjl9"
      },
      "source": [
        "# Computing WQI for the whole dataset\n",
        "def calc_wqi_for_df(df):\n",
        "    wqi_arr = []\n",
        "    for index in range(df.shape[0]):\n",
        "        index_row = df.iloc[index, :]\n",
        "        wqi_row = calc_wqi(index_row)\n",
        "        wqi_arr.append(wqi_row)\n",
        "    return wqi_arr"
      ],
      "execution_count": null,
      "outputs": []
    },
    {
      "cell_type": "code",
      "metadata": {
        "id": "FYKDprPGXkq5"
      },
      "source": [
        "wqi_arr = calc_wqi_for_df(df_num_final)\n",
        "\n",
        "# Converting ordinary array to numpy array\n",
        "wqi_arr = np.array(wqi_arr)\n",
        "wqi_arr = np.reshape(wqi_arr, (-1, 1))\n",
        "\n",
        "# Resetting index values of the dataframes\n",
        "wqi_arr_df = pd.DataFrame(wqi_arr, columns=[\"WQI\"]).reset_index()\n",
        "df_final = df_final.reset_index()"
      ],
      "execution_count": null,
      "outputs": []
    },
    {
      "cell_type": "code",
      "metadata": {
        "colab": {
          "base_uri": "https://localhost:8080/"
        },
        "id": "jXz5dmEOXl4W",
        "outputId": "fb07eb24-689e-43a0-ef45-642441bdb2d0"
      },
      "source": [
        "# Combining dataframe of WQI and dataframe of attributes \n",
        "df_wqi = pd.concat([df_final, pd.DataFrame(wqi_arr, columns=[\"WQI\"])], axis=1)\n",
        "df_wqi.drop(\"index\", axis=1, inplace=True)\n",
        "df_wqi.shape"
      ],
      "execution_count": null,
      "outputs": [
        {
          "output_type": "execute_result",
          "data": {
            "text/plain": [
              "(1811, 13)"
            ]
          },
          "metadata": {},
          "execution_count": 56
        }
      ]
    },
    {
      "cell_type": "code",
      "metadata": {
        "colab": {
          "base_uri": "https://localhost:8080/",
          "height": 49
        },
        "id": "bw_yVCwyXqQ8",
        "outputId": "00489470-d0f5-437a-cc75-6b684c12ba61"
      },
      "source": [
        "# These are samples with negative WQI\n",
        "df_wqi[(df_wqi[\"WQI\"] < 0)]"
      ],
      "execution_count": null,
      "outputs": [
        {
          "output_type": "execute_result",
          "data": {
            "text/html": [
              "<div>\n",
              "<style scoped>\n",
              "    .dataframe tbody tr th:only-of-type {\n",
              "        vertical-align: middle;\n",
              "    }\n",
              "\n",
              "    .dataframe tbody tr th {\n",
              "        vertical-align: top;\n",
              "    }\n",
              "\n",
              "    .dataframe thead th {\n",
              "        text-align: right;\n",
              "    }\n",
              "</style>\n",
              "<table border=\"1\" class=\"dataframe\">\n",
              "  <thead>\n",
              "    <tr style=\"text-align: right;\">\n",
              "      <th></th>\n",
              "      <th>STATION CODE</th>\n",
              "      <th>Address</th>\n",
              "      <th>Location</th>\n",
              "      <th>Temp</th>\n",
              "      <th>DO</th>\n",
              "      <th>PH</th>\n",
              "      <th>Conductivity</th>\n",
              "      <th>BOD</th>\n",
              "      <th>NI</th>\n",
              "      <th>Fec_col</th>\n",
              "      <th>Tot_col</th>\n",
              "      <th>year</th>\n",
              "      <th>WQI</th>\n",
              "    </tr>\n",
              "  </thead>\n",
              "  <tbody>\n",
              "  </tbody>\n",
              "</table>\n",
              "</div>"
            ],
            "text/plain": [
              "Empty DataFrame\n",
              "Columns: [STATION CODE, Address, Location, Temp, DO, PH, Conductivity, BOD, NI, Fec_col, Tot_col, year, WQI]\n",
              "Index: []"
            ]
          },
          "metadata": {},
          "execution_count": 57
        }
      ]
    },
    {
      "cell_type": "code",
      "metadata": {
        "colab": {
          "base_uri": "https://localhost:8080/",
          "height": 419
        },
        "id": "k7eJhM92AqZy",
        "outputId": "189d53ac-134c-4325-bb8e-3d4303dcbbb5"
      },
      "source": [
        "# These are samples with WQI over 100\n",
        "df_wqi[(df_wqi[\"WQI\"] > 100)]"
      ],
      "execution_count": null,
      "outputs": [
        {
          "output_type": "execute_result",
          "data": {
            "text/html": [
              "<div>\n",
              "<style scoped>\n",
              "    .dataframe tbody tr th:only-of-type {\n",
              "        vertical-align: middle;\n",
              "    }\n",
              "\n",
              "    .dataframe tbody tr th {\n",
              "        vertical-align: top;\n",
              "    }\n",
              "\n",
              "    .dataframe thead th {\n",
              "        text-align: right;\n",
              "    }\n",
              "</style>\n",
              "<table border=\"1\" class=\"dataframe\">\n",
              "  <thead>\n",
              "    <tr style=\"text-align: right;\">\n",
              "      <th></th>\n",
              "      <th>STATION CODE</th>\n",
              "      <th>Address</th>\n",
              "      <th>Location</th>\n",
              "      <th>Temp</th>\n",
              "      <th>DO</th>\n",
              "      <th>PH</th>\n",
              "      <th>Conductivity</th>\n",
              "      <th>BOD</th>\n",
              "      <th>NI</th>\n",
              "      <th>Fec_col</th>\n",
              "      <th>Tot_col</th>\n",
              "      <th>year</th>\n",
              "      <th>WQI</th>\n",
              "    </tr>\n",
              "  </thead>\n",
              "  <tbody>\n",
              "    <tr>\n",
              "      <th>1</th>\n",
              "      <td>1399</td>\n",
              "      <td>ZUARI AT D/S OF PT. WHERE KUMBARJRIA CANAL JOI...</td>\n",
              "      <td>GOA</td>\n",
              "      <td>29.8</td>\n",
              "      <td>5.7</td>\n",
              "      <td>7.2</td>\n",
              "      <td>189.0</td>\n",
              "      <td>2.0</td>\n",
              "      <td>0.200</td>\n",
              "      <td>4953.000</td>\n",
              "      <td>8391.0</td>\n",
              "      <td>2014.0</td>\n",
              "      <td>163.746278</td>\n",
              "    </tr>\n",
              "    <tr>\n",
              "      <th>2</th>\n",
              "      <td>1475</td>\n",
              "      <td>ZUARI AT PANCHAWADI</td>\n",
              "      <td>GOA</td>\n",
              "      <td>29.5</td>\n",
              "      <td>6.3</td>\n",
              "      <td>6.9</td>\n",
              "      <td>179.0</td>\n",
              "      <td>1.7</td>\n",
              "      <td>0.100</td>\n",
              "      <td>3243.000</td>\n",
              "      <td>5330.0</td>\n",
              "      <td>2014.0</td>\n",
              "      <td>123.021866</td>\n",
              "    </tr>\n",
              "    <tr>\n",
              "      <th>3</th>\n",
              "      <td>3181</td>\n",
              "      <td>RIVER ZUARI AT BORIM BRIDGE</td>\n",
              "      <td>GOA</td>\n",
              "      <td>29.7</td>\n",
              "      <td>5.8</td>\n",
              "      <td>6.9</td>\n",
              "      <td>64.0</td>\n",
              "      <td>3.8</td>\n",
              "      <td>0.500</td>\n",
              "      <td>5382.000</td>\n",
              "      <td>8443.0</td>\n",
              "      <td>2014.0</td>\n",
              "      <td>188.479760</td>\n",
              "    </tr>\n",
              "    <tr>\n",
              "      <th>4</th>\n",
              "      <td>3182</td>\n",
              "      <td>RIVER ZUARI AT MARCAIM JETTY</td>\n",
              "      <td>GOA</td>\n",
              "      <td>29.5</td>\n",
              "      <td>5.8</td>\n",
              "      <td>7.3</td>\n",
              "      <td>83.0</td>\n",
              "      <td>1.9</td>\n",
              "      <td>0.400</td>\n",
              "      <td>3428.000</td>\n",
              "      <td>5500.0</td>\n",
              "      <td>2014.0</td>\n",
              "      <td>129.048758</td>\n",
              "    </tr>\n",
              "    <tr>\n",
              "      <th>5</th>\n",
              "      <td>1400</td>\n",
              "      <td>MANDOVI AT NEGHBOURHOOD OF PANAJI, GOA</td>\n",
              "      <td>GOA</td>\n",
              "      <td>30.0</td>\n",
              "      <td>5.5</td>\n",
              "      <td>7.4</td>\n",
              "      <td>81.0</td>\n",
              "      <td>1.5</td>\n",
              "      <td>0.100</td>\n",
              "      <td>2853.000</td>\n",
              "      <td>4049.0</td>\n",
              "      <td>2014.0</td>\n",
              "      <td>112.090451</td>\n",
              "    </tr>\n",
              "    <tr>\n",
              "      <th>...</th>\n",
              "      <td>...</td>\n",
              "      <td>...</td>\n",
              "      <td>...</td>\n",
              "      <td>...</td>\n",
              "      <td>...</td>\n",
              "      <td>...</td>\n",
              "      <td>...</td>\n",
              "      <td>...</td>\n",
              "      <td>...</td>\n",
              "      <td>...</td>\n",
              "      <td>...</td>\n",
              "      <td>...</td>\n",
              "      <td>...</td>\n",
              "    </tr>\n",
              "    <tr>\n",
              "      <th>1806</th>\n",
              "      <td>1330</td>\n",
              "      <td>TAMBIRAPARANI AT ARUMUGANERI, TAMILNADU</td>\n",
              "      <td>TAMILNADU</td>\n",
              "      <td>27.0</td>\n",
              "      <td>7.9</td>\n",
              "      <td>738.0</td>\n",
              "      <td>7.2</td>\n",
              "      <td>2.7</td>\n",
              "      <td>0.518</td>\n",
              "      <td>0.518</td>\n",
              "      <td>202.0</td>\n",
              "      <td>2003.0</td>\n",
              "      <td>2302.381912</td>\n",
              "    </tr>\n",
              "    <tr>\n",
              "      <th>1807</th>\n",
              "      <td>1450</td>\n",
              "      <td>PALAR AT VANIYAMBADI WATER SUPPLY HEAD WORK, T...</td>\n",
              "      <td>TAMILNADU</td>\n",
              "      <td>29.0</td>\n",
              "      <td>7.5</td>\n",
              "      <td>585.0</td>\n",
              "      <td>6.3</td>\n",
              "      <td>2.6</td>\n",
              "      <td>0.155</td>\n",
              "      <td>0.155</td>\n",
              "      <td>315.0</td>\n",
              "      <td>2003.0</td>\n",
              "      <td>1831.868464</td>\n",
              "    </tr>\n",
              "    <tr>\n",
              "      <th>1808</th>\n",
              "      <td>1403</td>\n",
              "      <td>GUMTI AT U/S SOUTH TRIPURA,TRIPURA</td>\n",
              "      <td>TRIPURA</td>\n",
              "      <td>28.0</td>\n",
              "      <td>7.6</td>\n",
              "      <td>98.0</td>\n",
              "      <td>6.2</td>\n",
              "      <td>1.2</td>\n",
              "      <td>0.516</td>\n",
              "      <td>221.000</td>\n",
              "      <td>570.0</td>\n",
              "      <td>2003.0</td>\n",
              "      <td>332.734362</td>\n",
              "    </tr>\n",
              "    <tr>\n",
              "      <th>1809</th>\n",
              "      <td>1404</td>\n",
              "      <td>GUMTI AT D/S SOUTH TRIPURA, TRIPURA</td>\n",
              "      <td>TRIPURA</td>\n",
              "      <td>28.0</td>\n",
              "      <td>7.7</td>\n",
              "      <td>91.0</td>\n",
              "      <td>6.5</td>\n",
              "      <td>1.3</td>\n",
              "      <td>0.516</td>\n",
              "      <td>221.000</td>\n",
              "      <td>562.0</td>\n",
              "      <td>2003.0</td>\n",
              "      <td>312.394462</td>\n",
              "    </tr>\n",
              "    <tr>\n",
              "      <th>1810</th>\n",
              "      <td>1726</td>\n",
              "      <td>CHANDRAPUR, AGARTALA D/S OF HAORA RIVER, TRIPURA</td>\n",
              "      <td>TRIPURA</td>\n",
              "      <td>29.0</td>\n",
              "      <td>7.6</td>\n",
              "      <td>110.0</td>\n",
              "      <td>5.7</td>\n",
              "      <td>1.1</td>\n",
              "      <td>0.516</td>\n",
              "      <td>221.000</td>\n",
              "      <td>546.0</td>\n",
              "      <td>2003.0</td>\n",
              "      <td>368.606125</td>\n",
              "    </tr>\n",
              "  </tbody>\n",
              "</table>\n",
              "<p>403 rows × 13 columns</p>\n",
              "</div>"
            ],
            "text/plain": [
              "     STATION CODE  ...          WQI\n",
              "1            1399  ...   163.746278\n",
              "2            1475  ...   123.021866\n",
              "3            3181  ...   188.479760\n",
              "4            3182  ...   129.048758\n",
              "5            1400  ...   112.090451\n",
              "...           ...  ...          ...\n",
              "1806         1330  ...  2302.381912\n",
              "1807         1450  ...  1831.868464\n",
              "1808         1403  ...   332.734362\n",
              "1809         1404  ...   312.394462\n",
              "1810         1726  ...   368.606125\n",
              "\n",
              "[403 rows x 13 columns]"
            ]
          },
          "metadata": {},
          "execution_count": 58
        }
      ]
    },
    {
      "cell_type": "code",
      "metadata": {
        "id": "g795NF8VeIvl"
      },
      "source": [
        "# Removing the samples with negative WQI\n",
        "df_pol_indices = df_wqi[(df_wqi[\"WQI\"] > 100)].index\n",
        "df_wqi.drop(df_pol_indices, axis=0, inplace=True)"
      ],
      "execution_count": null,
      "outputs": []
    },
    {
      "cell_type": "markdown",
      "metadata": {
        "id": "baE8zYnqXtpE"
      },
      "source": [
        "      WQI Range                   Classification\n",
        "\n",
        "     Less than 25                  Very Poor(0)\n",
        "        26–50                         Poor(1)\n",
        "        51-75                         Good(2)\n",
        "    Greater than 75                 Excellent(3)\n",
        "\n",
        "    https://www.omicsonline.org/open-access/assessment-of-water-quality-index-wqi-of-groundwater-in-rajkotdistrict-gujarat-india-2157-7617-1000341.php?aid=71110#:~:text=Based%20on%20the%20status%20of,is%20presented%20in%20Table%202."
      ]
    },
    {
      "cell_type": "code",
      "metadata": {
        "id": "OjiHa9u5XrrM"
      },
      "source": [
        "df_wqi[\"WQI clf\"] = df_wqi[\"WQI\"].apply(lambda x: (0 if (x <= 25)  \n",
        "                                        else(1 if (26<=x<=50) \n",
        "                                        else(2 if (51<=x<=75) \n",
        "                                        else 3))))"
      ],
      "execution_count": null,
      "outputs": []
    },
    {
      "cell_type": "code",
      "metadata": {
        "colab": {
          "base_uri": "https://localhost:8080/",
          "height": 204
        },
        "id": "WbupoguYXxE2",
        "outputId": "3c6a02b3-b8fc-484d-cd9c-fac559865239"
      },
      "source": [
        "df_wqi.tail()"
      ],
      "execution_count": null,
      "outputs": [
        {
          "output_type": "execute_result",
          "data": {
            "text/html": [
              "<div>\n",
              "<style scoped>\n",
              "    .dataframe tbody tr th:only-of-type {\n",
              "        vertical-align: middle;\n",
              "    }\n",
              "\n",
              "    .dataframe tbody tr th {\n",
              "        vertical-align: top;\n",
              "    }\n",
              "\n",
              "    .dataframe thead th {\n",
              "        text-align: right;\n",
              "    }\n",
              "</style>\n",
              "<table border=\"1\" class=\"dataframe\">\n",
              "  <thead>\n",
              "    <tr style=\"text-align: right;\">\n",
              "      <th></th>\n",
              "      <th>STATION CODE</th>\n",
              "      <th>Address</th>\n",
              "      <th>Location</th>\n",
              "      <th>Temp</th>\n",
              "      <th>DO</th>\n",
              "      <th>PH</th>\n",
              "      <th>Conductivity</th>\n",
              "      <th>BOD</th>\n",
              "      <th>NI</th>\n",
              "      <th>Fec_col</th>\n",
              "      <th>Tot_col</th>\n",
              "      <th>year</th>\n",
              "      <th>WQI</th>\n",
              "      <th>WQI clf</th>\n",
              "    </tr>\n",
              "  </thead>\n",
              "  <tbody>\n",
              "    <tr>\n",
              "      <th>1725</th>\n",
              "      <td>1330</td>\n",
              "      <td>TAMBIRAPARANI AT ARUMUGANERI, TAMILNADU</td>\n",
              "      <td>TAMILNADU</td>\n",
              "      <td>27.0</td>\n",
              "      <td>6.6</td>\n",
              "      <td>7.81</td>\n",
              "      <td>603.2</td>\n",
              "      <td>2.675</td>\n",
              "      <td>0.263</td>\n",
              "      <td>40.0</td>\n",
              "      <td>191.0</td>\n",
              "      <td>2005.0</td>\n",
              "      <td>63.298543</td>\n",
              "      <td>2</td>\n",
              "    </tr>\n",
              "    <tr>\n",
              "      <th>1726</th>\n",
              "      <td>1450</td>\n",
              "      <td>PALAR AT VANIYAMBADI WATER SUPPLY HEAD WORK, T...</td>\n",
              "      <td>TAMILNADU</td>\n",
              "      <td>28.0</td>\n",
              "      <td>6.6</td>\n",
              "      <td>7.49</td>\n",
              "      <td>571.5</td>\n",
              "      <td>2.091</td>\n",
              "      <td>0.256</td>\n",
              "      <td>151.0</td>\n",
              "      <td>273.0</td>\n",
              "      <td>2005.0</td>\n",
              "      <td>59.612047</td>\n",
              "      <td>2</td>\n",
              "    </tr>\n",
              "    <tr>\n",
              "      <th>1727</th>\n",
              "      <td>1403</td>\n",
              "      <td>GUMTI AT U/S SOUTH TRIPURA,TRIPURA</td>\n",
              "      <td>TRIPURA</td>\n",
              "      <td>28.0</td>\n",
              "      <td>5.4</td>\n",
              "      <td>7.16</td>\n",
              "      <td>75.8</td>\n",
              "      <td>2.092</td>\n",
              "      <td>0.516</td>\n",
              "      <td>404.0</td>\n",
              "      <td>513.0</td>\n",
              "      <td>2005.0</td>\n",
              "      <td>61.517807</td>\n",
              "      <td>2</td>\n",
              "    </tr>\n",
              "    <tr>\n",
              "      <th>1728</th>\n",
              "      <td>1404</td>\n",
              "      <td>GUMTI AT D/S SOUTH TRIPURA, TRIPURA</td>\n",
              "      <td>TRIPURA</td>\n",
              "      <td>30.0</td>\n",
              "      <td>5.4</td>\n",
              "      <td>7.37</td>\n",
              "      <td>104.8</td>\n",
              "      <td>1.802</td>\n",
              "      <td>0.215</td>\n",
              "      <td>456.0</td>\n",
              "      <td>557.0</td>\n",
              "      <td>2005.0</td>\n",
              "      <td>60.726418</td>\n",
              "      <td>2</td>\n",
              "    </tr>\n",
              "    <tr>\n",
              "      <th>1729</th>\n",
              "      <td>1726</td>\n",
              "      <td>CHANDRAPUR, AGARTALA D/S OF HAORA RIVER, TRIPURA</td>\n",
              "      <td>TRIPURA</td>\n",
              "      <td>29.0</td>\n",
              "      <td>5.3</td>\n",
              "      <td>7.37</td>\n",
              "      <td>102.2</td>\n",
              "      <td>2.552</td>\n",
              "      <td>0.202</td>\n",
              "      <td>526.0</td>\n",
              "      <td>583.0</td>\n",
              "      <td>2005.0</td>\n",
              "      <td>68.694845</td>\n",
              "      <td>2</td>\n",
              "    </tr>\n",
              "  </tbody>\n",
              "</table>\n",
              "</div>"
            ],
            "text/plain": [
              "     STATION CODE  ... WQI clf\n",
              "1725         1330  ...       2\n",
              "1726         1450  ...       2\n",
              "1727         1403  ...       2\n",
              "1728         1404  ...       2\n",
              "1729         1726  ...       2\n",
              "\n",
              "[5 rows x 14 columns]"
            ]
          },
          "metadata": {},
          "execution_count": 61
        }
      ]
    },
    {
      "cell_type": "code",
      "metadata": {
        "colab": {
          "base_uri": "https://localhost:8080/",
          "height": 297
        },
        "id": "ehfqrCebXzA2",
        "outputId": "e9cd84ce-e6f3-4d60-d91c-0ca424a84644"
      },
      "source": [
        "df_wqi.describe()"
      ],
      "execution_count": null,
      "outputs": [
        {
          "output_type": "execute_result",
          "data": {
            "text/html": [
              "<div>\n",
              "<style scoped>\n",
              "    .dataframe tbody tr th:only-of-type {\n",
              "        vertical-align: middle;\n",
              "    }\n",
              "\n",
              "    .dataframe tbody tr th {\n",
              "        vertical-align: top;\n",
              "    }\n",
              "\n",
              "    .dataframe thead th {\n",
              "        text-align: right;\n",
              "    }\n",
              "</style>\n",
              "<table border=\"1\" class=\"dataframe\">\n",
              "  <thead>\n",
              "    <tr style=\"text-align: right;\">\n",
              "      <th></th>\n",
              "      <th>Temp</th>\n",
              "      <th>DO</th>\n",
              "      <th>PH</th>\n",
              "      <th>Conductivity</th>\n",
              "      <th>BOD</th>\n",
              "      <th>NI</th>\n",
              "      <th>Fec_col</th>\n",
              "      <th>Tot_col</th>\n",
              "      <th>year</th>\n",
              "      <th>WQI</th>\n",
              "      <th>WQI clf</th>\n",
              "    </tr>\n",
              "  </thead>\n",
              "  <tbody>\n",
              "    <tr>\n",
              "      <th>count</th>\n",
              "      <td>1408.000000</td>\n",
              "      <td>1408.000000</td>\n",
              "      <td>1408.000000</td>\n",
              "      <td>1408.000000</td>\n",
              "      <td>1408.000000</td>\n",
              "      <td>1408.000000</td>\n",
              "      <td>1408.000000</td>\n",
              "      <td>1408.000000</td>\n",
              "      <td>1408.00000</td>\n",
              "      <td>1408.000000</td>\n",
              "      <td>1408.000000</td>\n",
              "    </tr>\n",
              "    <tr>\n",
              "      <th>mean</th>\n",
              "      <td>26.570579</td>\n",
              "      <td>6.692784</td>\n",
              "      <td>7.170445</td>\n",
              "      <td>884.580398</td>\n",
              "      <td>1.922930</td>\n",
              "      <td>0.829538</td>\n",
              "      <td>300.950817</td>\n",
              "      <td>734.274858</td>\n",
              "      <td>2010.43750</td>\n",
              "      <td>60.897632</td>\n",
              "      <td>1.995028</td>\n",
              "    </tr>\n",
              "    <tr>\n",
              "      <th>std</th>\n",
              "      <td>2.810339</td>\n",
              "      <td>0.943856</td>\n",
              "      <td>0.686214</td>\n",
              "      <td>2628.375319</td>\n",
              "      <td>1.234823</td>\n",
              "      <td>1.134430</td>\n",
              "      <td>419.125502</td>\n",
              "      <td>2112.274087</td>\n",
              "      <td>2.62573</td>\n",
              "      <td>12.762681</td>\n",
              "      <td>0.634792</td>\n",
              "    </tr>\n",
              "    <tr>\n",
              "      <th>min</th>\n",
              "      <td>17.000000</td>\n",
              "      <td>2.500000</td>\n",
              "      <td>0.000000</td>\n",
              "      <td>11.000000</td>\n",
              "      <td>0.100000</td>\n",
              "      <td>0.000000</td>\n",
              "      <td>0.000000</td>\n",
              "      <td>0.000000</td>\n",
              "      <td>2005.00000</td>\n",
              "      <td>33.006778</td>\n",
              "      <td>1.000000</td>\n",
              "    </tr>\n",
              "    <tr>\n",
              "      <th>25%</th>\n",
              "      <td>25.300000</td>\n",
              "      <td>6.300000</td>\n",
              "      <td>6.873000</td>\n",
              "      <td>75.000000</td>\n",
              "      <td>1.000000</td>\n",
              "      <td>0.240000</td>\n",
              "      <td>28.000000</td>\n",
              "      <td>77.000000</td>\n",
              "      <td>2008.00000</td>\n",
              "      <td>51.208850</td>\n",
              "      <td>2.000000</td>\n",
              "    </tr>\n",
              "    <tr>\n",
              "      <th>50%</th>\n",
              "      <td>27.000000</td>\n",
              "      <td>6.800000</td>\n",
              "      <td>7.200000</td>\n",
              "      <td>143.000000</td>\n",
              "      <td>1.600000</td>\n",
              "      <td>0.500000</td>\n",
              "      <td>212.500000</td>\n",
              "      <td>336.000000</td>\n",
              "      <td>2011.00000</td>\n",
              "      <td>57.734314</td>\n",
              "      <td>2.000000</td>\n",
              "    </tr>\n",
              "    <tr>\n",
              "      <th>75%</th>\n",
              "      <td>28.200000</td>\n",
              "      <td>7.200000</td>\n",
              "      <td>7.600000</td>\n",
              "      <td>316.000000</td>\n",
              "      <td>2.400000</td>\n",
              "      <td>0.822500</td>\n",
              "      <td>303.000000</td>\n",
              "      <td>775.000000</td>\n",
              "      <td>2013.00000</td>\n",
              "      <td>69.420240</td>\n",
              "      <td>2.000000</td>\n",
              "    </tr>\n",
              "    <tr>\n",
              "      <th>max</th>\n",
              "      <td>35.000000</td>\n",
              "      <td>10.000000</td>\n",
              "      <td>9.010000</td>\n",
              "      <td>18291.000000</td>\n",
              "      <td>7.800000</td>\n",
              "      <td>11.000000</td>\n",
              "      <td>2367.000000</td>\n",
              "      <td>66382.000000</td>\n",
              "      <td>2014.00000</td>\n",
              "      <td>99.780975</td>\n",
              "      <td>3.000000</td>\n",
              "    </tr>\n",
              "  </tbody>\n",
              "</table>\n",
              "</div>"
            ],
            "text/plain": [
              "              Temp           DO  ...          WQI      WQI clf\n",
              "count  1408.000000  1408.000000  ...  1408.000000  1408.000000\n",
              "mean     26.570579     6.692784  ...    60.897632     1.995028\n",
              "std       2.810339     0.943856  ...    12.762681     0.634792\n",
              "min      17.000000     2.500000  ...    33.006778     1.000000\n",
              "25%      25.300000     6.300000  ...    51.208850     2.000000\n",
              "50%      27.000000     6.800000  ...    57.734314     2.000000\n",
              "75%      28.200000     7.200000  ...    69.420240     2.000000\n",
              "max      35.000000    10.000000  ...    99.780975     3.000000\n",
              "\n",
              "[8 rows x 11 columns]"
            ]
          },
          "metadata": {},
          "execution_count": 62
        }
      ]
    },
    {
      "cell_type": "code",
      "metadata": {
        "colab": {
          "base_uri": "https://localhost:8080/"
        },
        "id": "2qK7j48C53J9",
        "outputId": "4e5ff1ae-81e4-4885-ac47-aadeb7092ba2"
      },
      "source": [
        "#pd.set_option('display.max_columns', None)\n",
        "#pd.set_option('display.max_rows', None)\n",
        "df_wqi['WQI clf']"
      ],
      "execution_count": null,
      "outputs": [
        {
          "output_type": "execute_result",
          "data": {
            "text/plain": [
              "0       2\n",
              "11      3\n",
              "15      3\n",
              "16      3\n",
              "18      3\n",
              "       ..\n",
              "1725    2\n",
              "1726    2\n",
              "1727    2\n",
              "1728    2\n",
              "1729    2\n",
              "Name: WQI clf, Length: 1408, dtype: int64"
            ]
          },
          "metadata": {},
          "execution_count": 63
        }
      ]
    },
    {
      "cell_type": "code",
      "metadata": {
        "id": "loI28ZC97MmS"
      },
      "source": [
        "df_wqi[\"Is_Potable\"] = df_wqi[\"WQI clf\"].apply(lambda x: (1 if (x == 2 | x == 3)\n",
        "                                        else(0)))"
      ],
      "execution_count": null,
      "outputs": []
    },
    {
      "cell_type": "code",
      "metadata": {
        "colab": {
          "base_uri": "https://localhost:8080/",
          "height": 419
        },
        "id": "dDbSNJTl8-bG",
        "outputId": "fc305302-2afb-4b81-9f62-564e22a66a52"
      },
      "source": [
        "df_wqi"
      ],
      "execution_count": null,
      "outputs": [
        {
          "output_type": "execute_result",
          "data": {
            "text/html": [
              "<div>\n",
              "<style scoped>\n",
              "    .dataframe tbody tr th:only-of-type {\n",
              "        vertical-align: middle;\n",
              "    }\n",
              "\n",
              "    .dataframe tbody tr th {\n",
              "        vertical-align: top;\n",
              "    }\n",
              "\n",
              "    .dataframe thead th {\n",
              "        text-align: right;\n",
              "    }\n",
              "</style>\n",
              "<table border=\"1\" class=\"dataframe\">\n",
              "  <thead>\n",
              "    <tr style=\"text-align: right;\">\n",
              "      <th></th>\n",
              "      <th>STATION CODE</th>\n",
              "      <th>Address</th>\n",
              "      <th>Location</th>\n",
              "      <th>Temp</th>\n",
              "      <th>DO</th>\n",
              "      <th>PH</th>\n",
              "      <th>Conductivity</th>\n",
              "      <th>BOD</th>\n",
              "      <th>NI</th>\n",
              "      <th>Fec_col</th>\n",
              "      <th>Tot_col</th>\n",
              "      <th>year</th>\n",
              "      <th>WQI</th>\n",
              "      <th>WQI clf</th>\n",
              "      <th>Is_Potable</th>\n",
              "    </tr>\n",
              "  </thead>\n",
              "  <tbody>\n",
              "    <tr>\n",
              "      <th>0</th>\n",
              "      <td>1393</td>\n",
              "      <td>DAMANGANGA AT D/S OF MADHUBAN, DAMAN</td>\n",
              "      <td>DAMAN &amp; DIU</td>\n",
              "      <td>30.6</td>\n",
              "      <td>6.7</td>\n",
              "      <td>7.50</td>\n",
              "      <td>203.0</td>\n",
              "      <td>1.8965</td>\n",
              "      <td>0.100</td>\n",
              "      <td>11.0</td>\n",
              "      <td>27.0</td>\n",
              "      <td>2014.0</td>\n",
              "      <td>54.896022</td>\n",
              "      <td>2</td>\n",
              "      <td>0</td>\n",
              "    </tr>\n",
              "    <tr>\n",
              "      <th>11</th>\n",
              "      <td>1548</td>\n",
              "      <td>RIVER ASSONORA AT ASSONORA, GOA</td>\n",
              "      <td>GOA</td>\n",
              "      <td>27.9</td>\n",
              "      <td>6.7</td>\n",
              "      <td>6.40</td>\n",
              "      <td>93.0</td>\n",
              "      <td>1.4000</td>\n",
              "      <td>0.100</td>\n",
              "      <td>2147.0</td>\n",
              "      <td>3433.0</td>\n",
              "      <td>2014.0</td>\n",
              "      <td>95.061842</td>\n",
              "      <td>3</td>\n",
              "      <td>1</td>\n",
              "    </tr>\n",
              "    <tr>\n",
              "      <th>15</th>\n",
              "      <td>1546</td>\n",
              "      <td>RIVER KHANDEPAR AT OPA NAN PONDA, GOA</td>\n",
              "      <td>GOA</td>\n",
              "      <td>29.0</td>\n",
              "      <td>7.3</td>\n",
              "      <td>7.00</td>\n",
              "      <td>247.0</td>\n",
              "      <td>1.5000</td>\n",
              "      <td>0.200</td>\n",
              "      <td>1095.0</td>\n",
              "      <td>2453.0</td>\n",
              "      <td>2014.0</td>\n",
              "      <td>75.692973</td>\n",
              "      <td>3</td>\n",
              "      <td>1</td>\n",
              "    </tr>\n",
              "    <tr>\n",
              "      <th>16</th>\n",
              "      <td>2270</td>\n",
              "      <td>RIVER KHANDEPAR AT CODLI NEAR BRIDGE ,U/S OPA ...</td>\n",
              "      <td>GOA</td>\n",
              "      <td>29.1</td>\n",
              "      <td>7.3</td>\n",
              "      <td>7.00</td>\n",
              "      <td>188.0</td>\n",
              "      <td>1.0000</td>\n",
              "      <td>0.100</td>\n",
              "      <td>1286.0</td>\n",
              "      <td>3048.0</td>\n",
              "      <td>2014.0</td>\n",
              "      <td>75.595059</td>\n",
              "      <td>3</td>\n",
              "      <td>1</td>\n",
              "    </tr>\n",
              "    <tr>\n",
              "      <th>18</th>\n",
              "      <td>1545</td>\n",
              "      <td>RIVER MADAI AT DABOS NAN  VALPOI, GOA</td>\n",
              "      <td>GOA</td>\n",
              "      <td>28.7</td>\n",
              "      <td>7.3</td>\n",
              "      <td>6.70</td>\n",
              "      <td>144.0</td>\n",
              "      <td>1.5000</td>\n",
              "      <td>0.100</td>\n",
              "      <td>1940.0</td>\n",
              "      <td>3052.0</td>\n",
              "      <td>2014.0</td>\n",
              "      <td>93.546600</td>\n",
              "      <td>3</td>\n",
              "      <td>1</td>\n",
              "    </tr>\n",
              "    <tr>\n",
              "      <th>...</th>\n",
              "      <td>...</td>\n",
              "      <td>...</td>\n",
              "      <td>...</td>\n",
              "      <td>...</td>\n",
              "      <td>...</td>\n",
              "      <td>...</td>\n",
              "      <td>...</td>\n",
              "      <td>...</td>\n",
              "      <td>...</td>\n",
              "      <td>...</td>\n",
              "      <td>...</td>\n",
              "      <td>...</td>\n",
              "      <td>...</td>\n",
              "      <td>...</td>\n",
              "      <td>...</td>\n",
              "    </tr>\n",
              "    <tr>\n",
              "      <th>1725</th>\n",
              "      <td>1330</td>\n",
              "      <td>TAMBIRAPARANI AT ARUMUGANERI, TAMILNADU</td>\n",
              "      <td>TAMILNADU</td>\n",
              "      <td>27.0</td>\n",
              "      <td>6.6</td>\n",
              "      <td>7.81</td>\n",
              "      <td>603.2</td>\n",
              "      <td>2.6750</td>\n",
              "      <td>0.263</td>\n",
              "      <td>40.0</td>\n",
              "      <td>191.0</td>\n",
              "      <td>2005.0</td>\n",
              "      <td>63.298543</td>\n",
              "      <td>2</td>\n",
              "      <td>0</td>\n",
              "    </tr>\n",
              "    <tr>\n",
              "      <th>1726</th>\n",
              "      <td>1450</td>\n",
              "      <td>PALAR AT VANIYAMBADI WATER SUPPLY HEAD WORK, T...</td>\n",
              "      <td>TAMILNADU</td>\n",
              "      <td>28.0</td>\n",
              "      <td>6.6</td>\n",
              "      <td>7.49</td>\n",
              "      <td>571.5</td>\n",
              "      <td>2.0910</td>\n",
              "      <td>0.256</td>\n",
              "      <td>151.0</td>\n",
              "      <td>273.0</td>\n",
              "      <td>2005.0</td>\n",
              "      <td>59.612047</td>\n",
              "      <td>2</td>\n",
              "      <td>0</td>\n",
              "    </tr>\n",
              "    <tr>\n",
              "      <th>1727</th>\n",
              "      <td>1403</td>\n",
              "      <td>GUMTI AT U/S SOUTH TRIPURA,TRIPURA</td>\n",
              "      <td>TRIPURA</td>\n",
              "      <td>28.0</td>\n",
              "      <td>5.4</td>\n",
              "      <td>7.16</td>\n",
              "      <td>75.8</td>\n",
              "      <td>2.0920</td>\n",
              "      <td>0.516</td>\n",
              "      <td>404.0</td>\n",
              "      <td>513.0</td>\n",
              "      <td>2005.0</td>\n",
              "      <td>61.517807</td>\n",
              "      <td>2</td>\n",
              "      <td>0</td>\n",
              "    </tr>\n",
              "    <tr>\n",
              "      <th>1728</th>\n",
              "      <td>1404</td>\n",
              "      <td>GUMTI AT D/S SOUTH TRIPURA, TRIPURA</td>\n",
              "      <td>TRIPURA</td>\n",
              "      <td>30.0</td>\n",
              "      <td>5.4</td>\n",
              "      <td>7.37</td>\n",
              "      <td>104.8</td>\n",
              "      <td>1.8020</td>\n",
              "      <td>0.215</td>\n",
              "      <td>456.0</td>\n",
              "      <td>557.0</td>\n",
              "      <td>2005.0</td>\n",
              "      <td>60.726418</td>\n",
              "      <td>2</td>\n",
              "      <td>0</td>\n",
              "    </tr>\n",
              "    <tr>\n",
              "      <th>1729</th>\n",
              "      <td>1726</td>\n",
              "      <td>CHANDRAPUR, AGARTALA D/S OF HAORA RIVER, TRIPURA</td>\n",
              "      <td>TRIPURA</td>\n",
              "      <td>29.0</td>\n",
              "      <td>5.3</td>\n",
              "      <td>7.37</td>\n",
              "      <td>102.2</td>\n",
              "      <td>2.5520</td>\n",
              "      <td>0.202</td>\n",
              "      <td>526.0</td>\n",
              "      <td>583.0</td>\n",
              "      <td>2005.0</td>\n",
              "      <td>68.694845</td>\n",
              "      <td>2</td>\n",
              "      <td>0</td>\n",
              "    </tr>\n",
              "  </tbody>\n",
              "</table>\n",
              "<p>1408 rows × 15 columns</p>\n",
              "</div>"
            ],
            "text/plain": [
              "     STATION CODE  ... Is_Potable\n",
              "0            1393  ...          0\n",
              "11           1548  ...          1\n",
              "15           1546  ...          1\n",
              "16           2270  ...          1\n",
              "18           1545  ...          1\n",
              "...           ...  ...        ...\n",
              "1725         1330  ...          0\n",
              "1726         1450  ...          0\n",
              "1727         1403  ...          0\n",
              "1728         1404  ...          0\n",
              "1729         1726  ...          0\n",
              "\n",
              "[1408 rows x 15 columns]"
            ]
          },
          "metadata": {},
          "execution_count": 65
        }
      ]
    },
    {
      "cell_type": "code",
      "metadata": {
        "id": "Qn4cIsMlqh_4"
      },
      "source": [
        "#SAVING UPDATED DATAFRAME AS .csv FILE\n",
        "df_wqi.to_csv('cleaned_data.csv')"
      ],
      "execution_count": null,
      "outputs": []
    },
    {
      "cell_type": "code",
      "metadata": {
        "colab": {
          "base_uri": "https://localhost:8080/"
        },
        "id": "M36Q9tZVq4_N",
        "outputId": "bc195436-293f-4182-b73c-02ead6c101a6"
      },
      "source": [
        "df = pd.read_csv(\"/content/cleaned_data.csv\", encoding= 'unicode_escape')\n",
        "df.shape"
      ],
      "execution_count": null,
      "outputs": [
        {
          "output_type": "execute_result",
          "data": {
            "text/plain": [
              "(1408, 16)"
            ]
          },
          "metadata": {},
          "execution_count": 67
        }
      ]
    },
    {
      "cell_type": "code",
      "metadata": {
        "colab": {
          "base_uri": "https://localhost:8080/"
        },
        "id": "3l3PryOIrG7k",
        "outputId": "3584f5fd-acf4-41f8-f7af-6ffdac2b9df6"
      },
      "source": [
        "df.isnull().sum().sort_values()"
      ],
      "execution_count": null,
      "outputs": [
        {
          "output_type": "execute_result",
          "data": {
            "text/plain": [
              "Unnamed: 0      0\n",
              "STATION CODE    0\n",
              "Address         0\n",
              "Location        0\n",
              "Temp            0\n",
              "DO              0\n",
              "PH              0\n",
              "Conductivity    0\n",
              "BOD             0\n",
              "NI              0\n",
              "Fec_col         0\n",
              "Tot_col         0\n",
              "year            0\n",
              "WQI             0\n",
              "WQI clf         0\n",
              "Is_Potable      0\n",
              "dtype: int64"
            ]
          },
          "metadata": {},
          "execution_count": 68
        }
      ]
    },
    {
      "cell_type": "code",
      "metadata": {
        "colab": {
          "base_uri": "https://localhost:8080/",
          "height": 297
        },
        "id": "eO_zkxh66yX0",
        "outputId": "f88ea26f-8e00-4e81-e3be-4cf83248e9d2"
      },
      "source": [
        "df.describe()"
      ],
      "execution_count": null,
      "outputs": [
        {
          "output_type": "execute_result",
          "data": {
            "text/html": [
              "<div>\n",
              "<style scoped>\n",
              "    .dataframe tbody tr th:only-of-type {\n",
              "        vertical-align: middle;\n",
              "    }\n",
              "\n",
              "    .dataframe tbody tr th {\n",
              "        vertical-align: top;\n",
              "    }\n",
              "\n",
              "    .dataframe thead th {\n",
              "        text-align: right;\n",
              "    }\n",
              "</style>\n",
              "<table border=\"1\" class=\"dataframe\">\n",
              "  <thead>\n",
              "    <tr style=\"text-align: right;\">\n",
              "      <th></th>\n",
              "      <th>Unnamed: 0</th>\n",
              "      <th>STATION CODE</th>\n",
              "      <th>Temp</th>\n",
              "      <th>DO</th>\n",
              "      <th>PH</th>\n",
              "      <th>Conductivity</th>\n",
              "      <th>BOD</th>\n",
              "      <th>NI</th>\n",
              "      <th>Fec_col</th>\n",
              "      <th>Tot_col</th>\n",
              "      <th>year</th>\n",
              "      <th>WQI</th>\n",
              "      <th>WQI clf</th>\n",
              "      <th>Is_Potable</th>\n",
              "    </tr>\n",
              "  </thead>\n",
              "  <tbody>\n",
              "    <tr>\n",
              "      <th>count</th>\n",
              "      <td>1408.000000</td>\n",
              "      <td>1408.000000</td>\n",
              "      <td>1408.000000</td>\n",
              "      <td>1408.000000</td>\n",
              "      <td>1408.000000</td>\n",
              "      <td>1408.000000</td>\n",
              "      <td>1408.000000</td>\n",
              "      <td>1408.000000</td>\n",
              "      <td>1408.000000</td>\n",
              "      <td>1408.000000</td>\n",
              "      <td>1408.00000</td>\n",
              "      <td>1408.000000</td>\n",
              "      <td>1408.000000</td>\n",
              "      <td>1408.000000</td>\n",
              "    </tr>\n",
              "    <tr>\n",
              "      <th>mean</th>\n",
              "      <td>866.314631</td>\n",
              "      <td>1982.030540</td>\n",
              "      <td>26.570579</td>\n",
              "      <td>6.692784</td>\n",
              "      <td>7.170445</td>\n",
              "      <td>884.580398</td>\n",
              "      <td>1.922930</td>\n",
              "      <td>0.829538</td>\n",
              "      <td>300.950817</td>\n",
              "      <td>734.274858</td>\n",
              "      <td>2010.43750</td>\n",
              "      <td>60.897632</td>\n",
              "      <td>1.995028</td>\n",
              "      <td>0.198864</td>\n",
              "    </tr>\n",
              "    <tr>\n",
              "      <th>std</th>\n",
              "      <td>485.016233</td>\n",
              "      <td>776.796564</td>\n",
              "      <td>2.810339</td>\n",
              "      <td>0.943856</td>\n",
              "      <td>0.686214</td>\n",
              "      <td>2628.375319</td>\n",
              "      <td>1.234823</td>\n",
              "      <td>1.134430</td>\n",
              "      <td>419.125502</td>\n",
              "      <td>2112.274087</td>\n",
              "      <td>2.62573</td>\n",
              "      <td>12.762681</td>\n",
              "      <td>0.634792</td>\n",
              "      <td>0.399287</td>\n",
              "    </tr>\n",
              "    <tr>\n",
              "      <th>min</th>\n",
              "      <td>0.000000</td>\n",
              "      <td>2.000000</td>\n",
              "      <td>17.000000</td>\n",
              "      <td>2.500000</td>\n",
              "      <td>0.000000</td>\n",
              "      <td>11.000000</td>\n",
              "      <td>0.100000</td>\n",
              "      <td>0.000000</td>\n",
              "      <td>0.000000</td>\n",
              "      <td>0.000000</td>\n",
              "      <td>2005.00000</td>\n",
              "      <td>33.006778</td>\n",
              "      <td>1.000000</td>\n",
              "      <td>0.000000</td>\n",
              "    </tr>\n",
              "    <tr>\n",
              "      <th>25%</th>\n",
              "      <td>460.750000</td>\n",
              "      <td>1444.000000</td>\n",
              "      <td>25.300000</td>\n",
              "      <td>6.300000</td>\n",
              "      <td>6.873000</td>\n",
              "      <td>75.000000</td>\n",
              "      <td>1.000000</td>\n",
              "      <td>0.240000</td>\n",
              "      <td>28.000000</td>\n",
              "      <td>77.000000</td>\n",
              "      <td>2008.00000</td>\n",
              "      <td>51.208850</td>\n",
              "      <td>2.000000</td>\n",
              "      <td>0.000000</td>\n",
              "    </tr>\n",
              "    <tr>\n",
              "      <th>50%</th>\n",
              "      <td>857.500000</td>\n",
              "      <td>1925.000000</td>\n",
              "      <td>27.000000</td>\n",
              "      <td>6.800000</td>\n",
              "      <td>7.200000</td>\n",
              "      <td>143.000000</td>\n",
              "      <td>1.600000</td>\n",
              "      <td>0.500000</td>\n",
              "      <td>212.500000</td>\n",
              "      <td>336.000000</td>\n",
              "      <td>2011.00000</td>\n",
              "      <td>57.734314</td>\n",
              "      <td>2.000000</td>\n",
              "      <td>0.000000</td>\n",
              "    </tr>\n",
              "    <tr>\n",
              "      <th>75%</th>\n",
              "      <td>1282.750000</td>\n",
              "      <td>2445.000000</td>\n",
              "      <td>28.200000</td>\n",
              "      <td>7.200000</td>\n",
              "      <td>7.600000</td>\n",
              "      <td>316.000000</td>\n",
              "      <td>2.400000</td>\n",
              "      <td>0.822500</td>\n",
              "      <td>303.000000</td>\n",
              "      <td>775.000000</td>\n",
              "      <td>2013.00000</td>\n",
              "      <td>69.420240</td>\n",
              "      <td>2.000000</td>\n",
              "      <td>0.000000</td>\n",
              "    </tr>\n",
              "    <tr>\n",
              "      <th>max</th>\n",
              "      <td>1729.000000</td>\n",
              "      <td>3473.000000</td>\n",
              "      <td>35.000000</td>\n",
              "      <td>10.000000</td>\n",
              "      <td>9.010000</td>\n",
              "      <td>18291.000000</td>\n",
              "      <td>7.800000</td>\n",
              "      <td>11.000000</td>\n",
              "      <td>2367.000000</td>\n",
              "      <td>66382.000000</td>\n",
              "      <td>2014.00000</td>\n",
              "      <td>99.780975</td>\n",
              "      <td>3.000000</td>\n",
              "      <td>1.000000</td>\n",
              "    </tr>\n",
              "  </tbody>\n",
              "</table>\n",
              "</div>"
            ],
            "text/plain": [
              "        Unnamed: 0  STATION CODE  ...      WQI clf   Is_Potable\n",
              "count  1408.000000   1408.000000  ...  1408.000000  1408.000000\n",
              "mean    866.314631   1982.030540  ...     1.995028     0.198864\n",
              "std     485.016233    776.796564  ...     0.634792     0.399287\n",
              "min       0.000000      2.000000  ...     1.000000     0.000000\n",
              "25%     460.750000   1444.000000  ...     2.000000     0.000000\n",
              "50%     857.500000   1925.000000  ...     2.000000     0.000000\n",
              "75%    1282.750000   2445.000000  ...     2.000000     0.000000\n",
              "max    1729.000000   3473.000000  ...     3.000000     1.000000\n",
              "\n",
              "[8 rows x 14 columns]"
            ]
          },
          "metadata": {},
          "execution_count": 69
        }
      ]
    },
    {
      "cell_type": "code",
      "metadata": {
        "colab": {
          "base_uri": "https://localhost:8080/",
          "height": 266
        },
        "id": "lT82TQeH9PI6",
        "outputId": "d84be26b-4e76-4c9d-8f80-1064ac794e28"
      },
      "source": [
        "colors = ['#BC5090','#FFA600']\n",
        "plt.figure(figsize=(4,4))\n",
        "label = df_wqi['Is_Potable'].value_counts()\n",
        "plt.pie(label.values,colors = colors, labels=label.index, autopct= '%1.1f%%', startangle=90)\n",
        "plt.title('Is Potable?', fontsize=15)\n",
        "plt.show()"
      ],
      "execution_count": null,
      "outputs": [
        {
          "output_type": "display_data",
          "data": {
            "image/png": "[encoded data removed]",
            "text/plain": [
              "<Figure size 288x288 with 1 Axes>"
            ]
          },
          "metadata": {}
        }
      ]
    },
    {
      "cell_type": "code",
      "metadata": {
        "colab": {
          "base_uri": "https://localhost:8080/"
        },
        "id": "8ugNZzYLMoNi",
        "outputId": "16534d83-0ebf-4c3d-80a4-9742a9455fa7"
      },
      "source": [
        "df_wqi['Is_Potable'].value_counts()"
      ],
      "execution_count": null,
      "outputs": [
        {
          "output_type": "execute_result",
          "data": {
            "text/plain": [
              "0    1128\n",
              "1     280\n",
              "Name: Is_Potable, dtype: int64"
            ]
          },
          "metadata": {},
          "execution_count": 71
        }
      ]
    },
    {
      "cell_type": "code",
      "metadata": {
        "id": "1yRux4xmIO_f"
      },
      "source": [
        "sc_x = MinMaxScaler()\n",
        "X = pd.DataFrame(sc_x.fit_transform(df_wqi.drop([\"Temp\", \"Is_Potable\", \"STATION CODE\",\t\"Address\",\t\n",
        "                                                 \"Location\", \"WQI\",\t\"WQI clf\", \"year\"],axis = 1),), \n",
        "                 columns=['DO','PH','Conductivity','BOD','NI','Fec_col','Tot_col'])"
      ],
      "execution_count": null,
      "outputs": []
    },
    {
      "cell_type": "code",
      "metadata": {
        "colab": {
          "base_uri": "https://localhost:8080/",
          "height": 419
        },
        "id": "7tOWlox4VDMT",
        "outputId": "ec835749-8b9e-4344-c882-6622200f1300"
      },
      "source": [
        "X"
      ],
      "execution_count": null,
      "outputs": [
        {
          "output_type": "execute_result",
          "data": {
            "text/html": [
              "<div>\n",
              "<style scoped>\n",
              "    .dataframe tbody tr th:only-of-type {\n",
              "        vertical-align: middle;\n",
              "    }\n",
              "\n",
              "    .dataframe tbody tr th {\n",
              "        vertical-align: top;\n",
              "    }\n",
              "\n",
              "    .dataframe thead th {\n",
              "        text-align: right;\n",
              "    }\n",
              "</style>\n",
              "<table border=\"1\" class=\"dataframe\">\n",
              "  <thead>\n",
              "    <tr style=\"text-align: right;\">\n",
              "      <th></th>\n",
              "      <th>DO</th>\n",
              "      <th>PH</th>\n",
              "      <th>Conductivity</th>\n",
              "      <th>BOD</th>\n",
              "      <th>NI</th>\n",
              "      <th>Fec_col</th>\n",
              "      <th>Tot_col</th>\n",
              "    </tr>\n",
              "  </thead>\n",
              "  <tbody>\n",
              "    <tr>\n",
              "      <th>0</th>\n",
              "      <td>0.560000</td>\n",
              "      <td>0.832408</td>\n",
              "      <td>0.010503</td>\n",
              "      <td>0.233312</td>\n",
              "      <td>0.009091</td>\n",
              "      <td>0.004647</td>\n",
              "      <td>0.000407</td>\n",
              "    </tr>\n",
              "    <tr>\n",
              "      <th>1</th>\n",
              "      <td>0.560000</td>\n",
              "      <td>0.710322</td>\n",
              "      <td>0.004486</td>\n",
              "      <td>0.168831</td>\n",
              "      <td>0.009091</td>\n",
              "      <td>0.907055</td>\n",
              "      <td>0.051716</td>\n",
              "    </tr>\n",
              "    <tr>\n",
              "      <th>2</th>\n",
              "      <td>0.640000</td>\n",
              "      <td>0.776915</td>\n",
              "      <td>0.012910</td>\n",
              "      <td>0.181818</td>\n",
              "      <td>0.018182</td>\n",
              "      <td>0.462611</td>\n",
              "      <td>0.036953</td>\n",
              "    </tr>\n",
              "    <tr>\n",
              "      <th>3</th>\n",
              "      <td>0.640000</td>\n",
              "      <td>0.776915</td>\n",
              "      <td>0.009683</td>\n",
              "      <td>0.116883</td>\n",
              "      <td>0.009091</td>\n",
              "      <td>0.543304</td>\n",
              "      <td>0.045916</td>\n",
              "    </tr>\n",
              "    <tr>\n",
              "      <th>4</th>\n",
              "      <td>0.640000</td>\n",
              "      <td>0.743618</td>\n",
              "      <td>0.007276</td>\n",
              "      <td>0.181818</td>\n",
              "      <td>0.009091</td>\n",
              "      <td>0.819603</td>\n",
              "      <td>0.045976</td>\n",
              "    </tr>\n",
              "    <tr>\n",
              "      <th>...</th>\n",
              "      <td>...</td>\n",
              "      <td>...</td>\n",
              "      <td>...</td>\n",
              "      <td>...</td>\n",
              "      <td>...</td>\n",
              "      <td>...</td>\n",
              "      <td>...</td>\n",
              "    </tr>\n",
              "    <tr>\n",
              "      <th>1403</th>\n",
              "      <td>0.546667</td>\n",
              "      <td>0.866815</td>\n",
              "      <td>0.032396</td>\n",
              "      <td>0.334416</td>\n",
              "      <td>0.023909</td>\n",
              "      <td>0.016899</td>\n",
              "      <td>0.002877</td>\n",
              "    </tr>\n",
              "    <tr>\n",
              "      <th>1404</th>\n",
              "      <td>0.546667</td>\n",
              "      <td>0.831299</td>\n",
              "      <td>0.030662</td>\n",
              "      <td>0.258571</td>\n",
              "      <td>0.023273</td>\n",
              "      <td>0.063794</td>\n",
              "      <td>0.004113</td>\n",
              "    </tr>\n",
              "    <tr>\n",
              "      <th>1405</th>\n",
              "      <td>0.386667</td>\n",
              "      <td>0.794673</td>\n",
              "      <td>0.003545</td>\n",
              "      <td>0.258701</td>\n",
              "      <td>0.046909</td>\n",
              "      <td>0.170680</td>\n",
              "      <td>0.007728</td>\n",
              "    </tr>\n",
              "    <tr>\n",
              "      <th>1406</th>\n",
              "      <td>0.386667</td>\n",
              "      <td>0.817980</td>\n",
              "      <td>0.005131</td>\n",
              "      <td>0.221039</td>\n",
              "      <td>0.019545</td>\n",
              "      <td>0.192649</td>\n",
              "      <td>0.008391</td>\n",
              "    </tr>\n",
              "    <tr>\n",
              "      <th>1407</th>\n",
              "      <td>0.373333</td>\n",
              "      <td>0.817980</td>\n",
              "      <td>0.004989</td>\n",
              "      <td>0.318442</td>\n",
              "      <td>0.018364</td>\n",
              "      <td>0.222222</td>\n",
              "      <td>0.008783</td>\n",
              "    </tr>\n",
              "  </tbody>\n",
              "</table>\n",
              "<p>1408 rows × 7 columns</p>\n",
              "</div>"
            ],
            "text/plain": [
              "            DO        PH  Conductivity       BOD        NI   Fec_col   Tot_col\n",
              "0     0.560000  0.832408      0.010503  0.233312  0.009091  0.004647  0.000407\n",
              "1     0.560000  0.710322      0.004486  0.168831  0.009091  0.907055  0.051716\n",
              "2     0.640000  0.776915      0.012910  0.181818  0.018182  0.462611  0.036953\n",
              "3     0.640000  0.776915      0.009683  0.116883  0.009091  0.543304  0.045916\n",
              "4     0.640000  0.743618      0.007276  0.181818  0.009091  0.819603  0.045976\n",
              "...        ...       ...           ...       ...       ...       ...       ...\n",
              "1403  0.546667  0.866815      0.032396  0.334416  0.023909  0.016899  0.002877\n",
              "1404  0.546667  0.831299      0.030662  0.258571  0.023273  0.063794  0.004113\n",
              "1405  0.386667  0.794673      0.003545  0.258701  0.046909  0.170680  0.007728\n",
              "1406  0.386667  0.817980      0.005131  0.221039  0.019545  0.192649  0.008391\n",
              "1407  0.373333  0.817980      0.004989  0.318442  0.018364  0.222222  0.008783\n",
              "\n",
              "[1408 rows x 7 columns]"
            ]
          },
          "metadata": {},
          "execution_count": 73
        }
      ]
    },
    {
      "cell_type": "code",
      "metadata": {
        "colab": {
          "base_uri": "https://localhost:8080/",
          "height": 1000
        },
        "id": "eih4u8_HFEJl",
        "outputId": "77d7970d-97e7-420a-9cb5-f03f03b15f79"
      },
      "source": [
        "# KDE plots after removal of outliers\n",
        "plot_kde(X.select_dtypes(exclude=\"object\"))"
      ],
      "execution_count": null,
      "outputs": [
        {
          "output_type": "display_data",
          "data": {
            "image/png": "[encoded data removed]",
            "text/plain": [
              "<Figure size 504x360 with 1 Axes>"
            ]
          },
          "metadata": {
            "needs_background": "light"
          }
        },
        {
          "output_type": "display_data",
          "data": {
            "image/png": "[encoded data removed]",
            "text/plain": [
              "<Figure size 504x360 with 1 Axes>"
            ]
          },
          "metadata": {
            "needs_background": "light"
          }
        },
        {
          "output_type": "display_data",
          "data": {
            "image/png": "[encoded data removed]",
            "text/plain": [
              "<Figure size 504x360 with 1 Axes>"
            ]
          },
          "metadata": {
            "needs_background": "light"
          }
        },
        {
          "output_type": "display_data",
          "data": {
            "image/png": "[encoded data removed]",
            "text/plain": [
              "<Figure size 504x360 with 1 Axes>"
            ]
          },
          "metadata": {
            "needs_background": "light"
          }
        },
        {
          "output_type": "display_data",
          "data": {
            "image/png": "[encoded data removed]",
            "text/plain": [
              "<Figure size 504x360 with 1 Axes>"
            ]
          },
          "metadata": {
            "needs_background": "light"
          }
        },
        {
          "output_type": "display_data",
          "data": {
            "image/png": "[encoded data removed]",
            "text/plain": [
              "<Figure size 504x360 with 1 Axes>"
            ]
          },
          "metadata": {
            "needs_background": "light"
          }
        },
        {
          "output_type": "display_data",
          "data": {
            "image/png": "[encoded data removed]",
            "text/plain": [
              "<Figure size 504x360 with 1 Axes>"
            ]
          },
          "metadata": {
            "needs_background": "light"
          }
        }
      ]
    },
    {
      "cell_type": "code",
      "metadata": {
        "colab": {
          "base_uri": "https://localhost:8080/",
          "height": 297
        },
        "id": "IcEMAnOtL38f",
        "outputId": "7551a185-4d77-4f6d-fbbe-f6abb440ab55"
      },
      "source": [
        "X.describe()"
      ],
      "execution_count": null,
      "outputs": [
        {
          "output_type": "execute_result",
          "data": {
            "text/html": [
              "<div>\n",
              "<style scoped>\n",
              "    .dataframe tbody tr th:only-of-type {\n",
              "        vertical-align: middle;\n",
              "    }\n",
              "\n",
              "    .dataframe tbody tr th {\n",
              "        vertical-align: top;\n",
              "    }\n",
              "\n",
              "    .dataframe thead th {\n",
              "        text-align: right;\n",
              "    }\n",
              "</style>\n",
              "<table border=\"1\" class=\"dataframe\">\n",
              "  <thead>\n",
              "    <tr style=\"text-align: right;\">\n",
              "      <th></th>\n",
              "      <th>DO</th>\n",
              "      <th>PH</th>\n",
              "      <th>Conductivity</th>\n",
              "      <th>BOD</th>\n",
              "      <th>NI</th>\n",
              "      <th>Fec_col</th>\n",
              "      <th>Tot_col</th>\n",
              "    </tr>\n",
              "  </thead>\n",
              "  <tbody>\n",
              "    <tr>\n",
              "      <th>count</th>\n",
              "      <td>1408.000000</td>\n",
              "      <td>1408.000000</td>\n",
              "      <td>1408.000000</td>\n",
              "      <td>1408.000000</td>\n",
              "      <td>1408.000000</td>\n",
              "      <td>1408.000000</td>\n",
              "      <td>1408.000000</td>\n",
              "    </tr>\n",
              "    <tr>\n",
              "      <th>mean</th>\n",
              "      <td>0.559038</td>\n",
              "      <td>0.795832</td>\n",
              "      <td>0.047789</td>\n",
              "      <td>0.236744</td>\n",
              "      <td>0.075413</td>\n",
              "      <td>0.127144</td>\n",
              "      <td>0.011061</td>\n",
              "    </tr>\n",
              "    <tr>\n",
              "      <th>std</th>\n",
              "      <td>0.125847</td>\n",
              "      <td>0.076161</td>\n",
              "      <td>0.143784</td>\n",
              "      <td>0.160367</td>\n",
              "      <td>0.103130</td>\n",
              "      <td>0.177070</td>\n",
              "      <td>0.031820</td>\n",
              "    </tr>\n",
              "    <tr>\n",
              "      <th>min</th>\n",
              "      <td>0.000000</td>\n",
              "      <td>0.000000</td>\n",
              "      <td>0.000000</td>\n",
              "      <td>0.000000</td>\n",
              "      <td>0.000000</td>\n",
              "      <td>0.000000</td>\n",
              "      <td>0.000000</td>\n",
              "    </tr>\n",
              "    <tr>\n",
              "      <th>25%</th>\n",
              "      <td>0.506667</td>\n",
              "      <td>0.762819</td>\n",
              "      <td>0.003501</td>\n",
              "      <td>0.116883</td>\n",
              "      <td>0.021818</td>\n",
              "      <td>0.011829</td>\n",
              "      <td>0.001160</td>\n",
              "    </tr>\n",
              "    <tr>\n",
              "      <th>50%</th>\n",
              "      <td>0.573333</td>\n",
              "      <td>0.799112</td>\n",
              "      <td>0.007221</td>\n",
              "      <td>0.194805</td>\n",
              "      <td>0.045455</td>\n",
              "      <td>0.089776</td>\n",
              "      <td>0.005062</td>\n",
              "    </tr>\n",
              "    <tr>\n",
              "      <th>75%</th>\n",
              "      <td>0.626667</td>\n",
              "      <td>0.843507</td>\n",
              "      <td>0.016685</td>\n",
              "      <td>0.298701</td>\n",
              "      <td>0.074773</td>\n",
              "      <td>0.128010</td>\n",
              "      <td>0.011675</td>\n",
              "    </tr>\n",
              "    <tr>\n",
              "      <th>max</th>\n",
              "      <td>1.000000</td>\n",
              "      <td>1.000000</td>\n",
              "      <td>1.000000</td>\n",
              "      <td>1.000000</td>\n",
              "      <td>1.000000</td>\n",
              "      <td>1.000000</td>\n",
              "      <td>1.000000</td>\n",
              "    </tr>\n",
              "  </tbody>\n",
              "</table>\n",
              "</div>"
            ],
            "text/plain": [
              "                DO           PH  ...      Fec_col      Tot_col\n",
              "count  1408.000000  1408.000000  ...  1408.000000  1408.000000\n",
              "mean      0.559038     0.795832  ...     0.127144     0.011061\n",
              "std       0.125847     0.076161  ...     0.177070     0.031820\n",
              "min       0.000000     0.000000  ...     0.000000     0.000000\n",
              "25%       0.506667     0.762819  ...     0.011829     0.001160\n",
              "50%       0.573333     0.799112  ...     0.089776     0.005062\n",
              "75%       0.626667     0.843507  ...     0.128010     0.011675\n",
              "max       1.000000     1.000000  ...     1.000000     1.000000\n",
              "\n",
              "[8 rows x 7 columns]"
            ]
          },
          "metadata": {},
          "execution_count": 75
        }
      ]
    },
    {
      "cell_type": "code",
      "metadata": {
        "colab": {
          "base_uri": "https://localhost:8080/",
          "height": 609
        },
        "id": "0kONlrGpKapj",
        "outputId": "4b1c9381-b1df-416d-c3a0-bb2a35d5dc3a"
      },
      "source": [
        "X.boxplot(figsize=(10,10))"
      ],
      "execution_count": null,
      "outputs": [
        {
          "output_type": "execute_result",
          "data": {
            "text/plain": [
              "<matplotlib.axes._subplots.AxesSubplot at 0x7fba45e808d0>"
            ]
          },
          "metadata": {},
          "execution_count": 76
        },
        {
          "output_type": "display_data",
          "data": {
            "image/png": "[encoded data removed]",
            "text/plain": [
              "<Figure size 720x720 with 1 Axes>"
            ]
          },
          "metadata": {
            "needs_background": "light"
          }
        }
      ]
    },
    {
      "cell_type": "code",
      "metadata": {
        "colab": {
          "base_uri": "https://localhost:8080/"
        },
        "id": "_zhOFfb_LHAv",
        "outputId": "66b76782-b8cd-4bbd-e0ca-03875987da9c"
      },
      "source": [
        "#split data into Training and Test\n",
        "X_train, X_test, y_train, y_test = train_test_split(X, df_wqi['Is_Potable'], test_size = 0.3, random_state = 100)\n",
        "print(len(X_train))\n",
        "print(len(X_test))\n",
        "print(len(y_train))\n",
        "print(len(y_test))"
      ],
      "execution_count": null,
      "outputs": [
        {
          "output_type": "stream",
          "name": "stdout",
          "text": [
            "985\n",
            "423\n",
            "985\n",
            "423\n"
          ]
        }
      ]
    },
    {
      "cell_type": "code",
      "metadata": {
        "colab": {
          "base_uri": "https://localhost:8080/"
        },
        "id": "5KB92q9AhMeQ",
        "outputId": "7efd02a7-f193-47f1-a5bd-1d96ea7275a3"
      },
      "source": [
        "# import library\n",
        "from imblearn.over_sampling import SMOTE\n",
        "over = SMOTE()\n",
        "\n",
        "# fit predictor and target variable\n",
        "x_smote, y_smote = over.fit_resample(X_train, y_train)"
      ],
      "execution_count": null,
      "outputs": [
        {
          "output_type": "stream",
          "name": "stderr",
          "text": [
            "/usr/local/lib/python3.7/dist-packages/sklearn/externals/six.py:31: FutureWarning: The module is deprecated in version 0.21 and will be removed in version 0.23 since we've dropped support for Python 2.7. Please rely on the official version of six (https://pypi.org/project/six/).\n",
            "  \"(https://pypi.org/project/six/).\", FutureWarning)\n",
            "/usr/local/lib/python3.7/dist-packages/sklearn/utils/deprecation.py:144: FutureWarning: The sklearn.neighbors.base module is  deprecated in version 0.22 and will be removed in version 0.24. The corresponding classes / functions should instead be imported from sklearn.neighbors. Anything that cannot be imported from sklearn.neighbors is now part of the private API.\n",
            "  warnings.warn(message, FutureWarning)\n",
            "/usr/local/lib/python3.7/dist-packages/sklearn/utils/deprecation.py:87: FutureWarning: Function safe_indexing is deprecated; safe_indexing is deprecated in version 0.22 and will be removed in version 0.24.\n",
            "  warnings.warn(msg, category=FutureWarning)\n"
          ]
        }
      ]
    },
    {
      "cell_type": "code",
      "metadata": {
        "colab": {
          "base_uri": "https://localhost:8080/"
        },
        "id": "YqVDps5YhpCB",
        "outputId": "0d14c9c7-373f-470d-e7ae-ff9eac5d42d4"
      },
      "source": [
        "print(x_smote.shape)\n",
        "print(y_smote.shape)"
      ],
      "execution_count": null,
      "outputs": [
        {
          "output_type": "stream",
          "name": "stdout",
          "text": [
            "(1592, 7)\n",
            "(1592,)\n"
          ]
        }
      ]
    },
    {
      "cell_type": "code",
      "metadata": {
        "colab": {
          "base_uri": "https://localhost:8080/"
        },
        "id": "JgFGNUjINlUE",
        "outputId": "3cd915c8-0ffd-4102-ecd0-3aa5d93466d4"
      },
      "source": [
        "from collections import Counter\n",
        "\n",
        "print(Counter(y_smote))"
      ],
      "execution_count": null,
      "outputs": [
        {
          "output_type": "stream",
          "name": "stdout",
          "text": [
            "Counter({0: 796, 1: 796})\n"
          ]
        }
      ]
    },
    {
      "cell_type": "markdown",
      "metadata": {
        "id": "2dDGQoBeyiAD"
      },
      "source": [
        "# **Model Building**"
      ]
    },
    {
      "cell_type": "code",
      "metadata": {
        "colab": {
          "base_uri": "https://localhost:8080/"
        },
        "id": "7klaXzr9S4_a",
        "outputId": "bb088182-f312-4a21-d6f0-0c539754c9eb"
      },
      "source": [
        "SVM = svm.SVC()\n",
        "SVM_pred = SVM.fit(x_smote, y_smote).predict(X_test)\n",
        "SVM_Report = classification_report(y_test, SVM_pred, digits=4)\n",
        "print(SVM_Report)"
      ],
      "execution_count": null,
      "outputs": [
        {
          "output_type": "stream",
          "name": "stdout",
          "text": [
            "              precision    recall  f1-score   support\n",
            "\n",
            "           0     0.9620    0.9157    0.9383       332\n",
            "           1     0.7383    0.8681    0.7980        91\n",
            "\n",
            "    accuracy                         0.9054       423\n",
            "   macro avg     0.8502    0.8919    0.8681       423\n",
            "weighted avg     0.9139    0.9054    0.9081       423\n",
            "\n"
          ]
        }
      ]
    },
    {
      "cell_type": "code",
      "metadata": {
        "colab": {
          "base_uri": "https://localhost:8080/"
        },
        "id": "BMXpqkgWva86",
        "outputId": "b4929047-4110-4d10-f39d-10e0445ae35f"
      },
      "source": [
        "model = Sequential()\n",
        "model.add(Embedding(7, 128))\n",
        "model.add(LSTM(128))\n",
        "model.add(Dropout(0.2))\n",
        "model.add(Dense(1))\n",
        "model.add(Activation('sigmoid'))\n",
        "\n",
        "\n",
        "model.compile(loss='binary_crossentropy', optimizer='adam', metrics=['accuracy'])\n",
        "\n",
        "model.fit(x_smote, y_smote, epochs=50, validation_data=(X_test, y_test))\n"
      ],
      "execution_count": null,
      "outputs": [
        {
          "output_type": "stream",
          "name": "stdout",
          "text": [
            "Epoch 1/50\n",
            "50/50 [==============================] - 3s 22ms/step - loss: 0.6942 - accuracy: 0.4969 - val_loss: 0.7228 - val_accuracy: 0.2151\n",
            "Epoch 2/50\n",
            "50/50 [==============================] - 1s 13ms/step - loss: 0.6939 - accuracy: 0.4899 - val_loss: 0.6921 - val_accuracy: 0.7872\n",
            "Epoch 3/50\n",
            "50/50 [==============================] - 1s 13ms/step - loss: 0.6939 - accuracy: 0.5044 - val_loss: 0.6933 - val_accuracy: 0.2151\n",
            "Epoch 4/50\n",
            "50/50 [==============================] - 1s 13ms/step - loss: 0.6943 - accuracy: 0.4711 - val_loss: 0.6893 - val_accuracy: 0.7872\n",
            "Epoch 5/50\n",
            "50/50 [==============================] - 1s 14ms/step - loss: 0.6940 - accuracy: 0.4730 - val_loss: 0.6916 - val_accuracy: 0.7872\n",
            "Epoch 6/50\n",
            "50/50 [==============================] - 1s 13ms/step - loss: 0.6935 - accuracy: 0.4981 - val_loss: 0.6881 - val_accuracy: 0.7872\n",
            "Epoch 7/50\n",
            "50/50 [==============================] - 1s 13ms/step - loss: 0.6934 - accuracy: 0.4856 - val_loss: 0.6932 - val_accuracy: 0.2151\n",
            "Epoch 8/50\n",
            "50/50 [==============================] - 1s 13ms/step - loss: 0.6935 - accuracy: 0.5094 - val_loss: 0.7025 - val_accuracy: 0.2151\n",
            "Epoch 9/50\n",
            "50/50 [==============================] - 1s 14ms/step - loss: 0.6937 - accuracy: 0.4799 - val_loss: 0.6990 - val_accuracy: 0.2151\n",
            "Epoch 10/50\n",
            "50/50 [==============================] - 1s 13ms/step - loss: 0.6935 - accuracy: 0.4793 - val_loss: 0.6949 - val_accuracy: 0.2151\n",
            "Epoch 11/50\n",
            "50/50 [==============================] - 1s 13ms/step - loss: 0.6932 - accuracy: 0.4943 - val_loss: 0.6948 - val_accuracy: 0.2151\n",
            "Epoch 12/50\n",
            "50/50 [==============================] - 1s 13ms/step - loss: 0.6937 - accuracy: 0.4818 - val_loss: 0.6893 - val_accuracy: 0.7872\n",
            "Epoch 13/50\n",
            "50/50 [==============================] - 1s 13ms/step - loss: 0.6929 - accuracy: 0.5101 - val_loss: 0.6976 - val_accuracy: 0.2151\n",
            "Epoch 14/50\n",
            "50/50 [==============================] - 1s 13ms/step - loss: 0.6932 - accuracy: 0.4943 - val_loss: 0.6986 - val_accuracy: 0.2151\n",
            "Epoch 15/50\n",
            "50/50 [==============================] - 1s 13ms/step - loss: 0.6939 - accuracy: 0.4793 - val_loss: 0.6988 - val_accuracy: 0.2151\n",
            "Epoch 16/50\n",
            "50/50 [==============================] - 1s 13ms/step - loss: 0.6935 - accuracy: 0.5044 - val_loss: 0.6951 - val_accuracy: 0.2151\n",
            "Epoch 17/50\n",
            "50/50 [==============================] - 1s 13ms/step - loss: 0.6935 - accuracy: 0.4849 - val_loss: 0.6933 - val_accuracy: 0.2151\n",
            "Epoch 18/50\n",
            "50/50 [==============================] - 1s 13ms/step - loss: 0.6938 - accuracy: 0.4862 - val_loss: 0.7021 - val_accuracy: 0.2151\n",
            "Epoch 19/50\n",
            "50/50 [==============================] - 1s 13ms/step - loss: 0.6935 - accuracy: 0.4830 - val_loss: 0.6949 - val_accuracy: 0.2151\n",
            "Epoch 20/50\n",
            "50/50 [==============================] - 1s 13ms/step - loss: 0.6932 - accuracy: 0.4818 - val_loss: 0.6944 - val_accuracy: 0.2151\n",
            "Epoch 21/50\n",
            "50/50 [==============================] - 1s 13ms/step - loss: 0.6933 - accuracy: 0.4962 - val_loss: 0.6938 - val_accuracy: 0.2151\n",
            "Epoch 22/50\n",
            "50/50 [==============================] - 1s 13ms/step - loss: 0.6934 - accuracy: 0.4868 - val_loss: 0.6992 - val_accuracy: 0.2151\n",
            "Epoch 23/50\n",
            "50/50 [==============================] - 1s 12ms/step - loss: 0.6936 - accuracy: 0.4711 - val_loss: 0.6924 - val_accuracy: 0.7872\n",
            "Epoch 24/50\n",
            "50/50 [==============================] - 1s 12ms/step - loss: 0.6938 - accuracy: 0.5000 - val_loss: 0.6989 - val_accuracy: 0.2151\n",
            "Epoch 25/50\n",
            "50/50 [==============================] - 1s 12ms/step - loss: 0.6935 - accuracy: 0.4780 - val_loss: 0.6980 - val_accuracy: 0.2128\n",
            "Epoch 26/50\n",
            "50/50 [==============================] - 1s 12ms/step - loss: 0.6935 - accuracy: 0.4705 - val_loss: 0.6930 - val_accuracy: 0.7849\n",
            "Epoch 27/50\n",
            "50/50 [==============================] - 1s 13ms/step - loss: 0.6931 - accuracy: 0.4899 - val_loss: 0.6932 - val_accuracy: 0.7849\n",
            "Epoch 28/50\n",
            "50/50 [==============================] - 1s 12ms/step - loss: 0.6935 - accuracy: 0.4830 - val_loss: 0.6939 - val_accuracy: 0.2128\n",
            "Epoch 29/50\n",
            "50/50 [==============================] - 1s 12ms/step - loss: 0.6929 - accuracy: 0.5000 - val_loss: 0.6927 - val_accuracy: 0.7849\n",
            "Epoch 30/50\n",
            "50/50 [==============================] - 1s 12ms/step - loss: 0.6932 - accuracy: 0.5006 - val_loss: 0.6927 - val_accuracy: 0.7849\n",
            "Epoch 31/50\n",
            "50/50 [==============================] - 1s 12ms/step - loss: 0.6930 - accuracy: 0.5057 - val_loss: 0.6874 - val_accuracy: 0.7849\n",
            "Epoch 32/50\n",
            "50/50 [==============================] - 1s 12ms/step - loss: 0.6931 - accuracy: 0.5000 - val_loss: 0.6931 - val_accuracy: 0.7849\n",
            "Epoch 33/50\n",
            "50/50 [==============================] - 1s 12ms/step - loss: 0.6935 - accuracy: 0.4881 - val_loss: 0.6914 - val_accuracy: 0.7849\n",
            "Epoch 34/50\n",
            "50/50 [==============================] - 1s 12ms/step - loss: 0.6930 - accuracy: 0.4881 - val_loss: 0.6930 - val_accuracy: 0.7849\n",
            "Epoch 35/50\n",
            "50/50 [==============================] - 1s 12ms/step - loss: 0.6934 - accuracy: 0.4824 - val_loss: 0.6863 - val_accuracy: 0.7849\n",
            "Epoch 36/50\n",
            "50/50 [==============================] - 1s 12ms/step - loss: 0.6932 - accuracy: 0.4881 - val_loss: 0.6927 - val_accuracy: 0.7849\n",
            "Epoch 37/50\n",
            "50/50 [==============================] - 1s 12ms/step - loss: 0.6930 - accuracy: 0.4937 - val_loss: 0.6959 - val_accuracy: 0.2128\n",
            "Epoch 38/50\n",
            "50/50 [==============================] - 1s 12ms/step - loss: 0.6933 - accuracy: 0.4824 - val_loss: 0.6893 - val_accuracy: 0.7849\n",
            "Epoch 39/50\n",
            "50/50 [==============================] - 1s 12ms/step - loss: 0.6929 - accuracy: 0.4962 - val_loss: 0.6928 - val_accuracy: 0.7849\n",
            "Epoch 40/50\n",
            "50/50 [==============================] - 1s 12ms/step - loss: 0.6931 - accuracy: 0.4830 - val_loss: 0.6940 - val_accuracy: 0.2128\n",
            "Epoch 41/50\n",
            "50/50 [==============================] - 1s 12ms/step - loss: 0.6926 - accuracy: 0.5144 - val_loss: 0.7011 - val_accuracy: 0.2128\n",
            "Epoch 42/50\n",
            "50/50 [==============================] - 1s 12ms/step - loss: 0.6931 - accuracy: 0.4893 - val_loss: 0.6935 - val_accuracy: 0.7849\n",
            "Epoch 43/50\n",
            "50/50 [==============================] - 1s 12ms/step - loss: 0.6935 - accuracy: 0.4717 - val_loss: 0.6932 - val_accuracy: 0.7849\n",
            "Epoch 44/50\n",
            "50/50 [==============================] - 1s 12ms/step - loss: 0.6930 - accuracy: 0.4849 - val_loss: 0.6968 - val_accuracy: 0.2128\n",
            "Epoch 45/50\n",
            "50/50 [==============================] - 1s 12ms/step - loss: 0.6927 - accuracy: 0.5038 - val_loss: 0.6946 - val_accuracy: 0.2128\n",
            "Epoch 46/50\n",
            "50/50 [==============================] - 1s 12ms/step - loss: 0.6932 - accuracy: 0.4943 - val_loss: 0.6904 - val_accuracy: 0.7849\n",
            "Epoch 47/50\n",
            "50/50 [==============================] - 1s 13ms/step - loss: 0.6929 - accuracy: 0.4987 - val_loss: 0.6961 - val_accuracy: 0.2128\n",
            "Epoch 48/50\n",
            "50/50 [==============================] - 1s 12ms/step - loss: 0.6926 - accuracy: 0.5057 - val_loss: 0.6877 - val_accuracy: 0.7849\n",
            "Epoch 49/50\n",
            "50/50 [==============================] - 1s 12ms/step - loss: 0.6922 - accuracy: 0.5094 - val_loss: 0.7018 - val_accuracy: 0.2128\n",
            "Epoch 50/50\n",
            "50/50 [==============================] - 1s 12ms/step - loss: 0.6937 - accuracy: 0.4887 - val_loss: 0.6923 - val_accuracy: 0.7849\n"
          ]
        },
        {
          "output_type": "execute_result",
          "data": {
            "text/plain": [
              "<keras.callbacks.History at 0x7fba41960b90>"
            ]
          },
          "metadata": {},
          "execution_count": 82
        }
      ]
    },
    {
      "cell_type": "code",
      "metadata": {
        "id": "B-oAlmks1YFE"
      },
      "source": [
        "y_pred = model.predict(X_test)\n",
        "y_pred = (y_pred > 0.5)"
      ],
      "execution_count": null,
      "outputs": []
    },
    {
      "cell_type": "code",
      "metadata": {
        "colab": {
          "base_uri": "https://localhost:8080/"
        },
        "id": "d1UaGF6Y1Z6T",
        "outputId": "d0c0debe-5a04-4242-904b-423d4a18cd7f"
      },
      "source": [
        "# Evaluation \n",
        "from sklearn import metrics\n",
        "from sklearn.metrics import mean_squared_error, r2_score, accuracy_score, confusion_matrix, classification_report \n",
        "\n",
        "print('Mean Squared Error:', metrics.mean_squared_error(y_test, y_pred))\n",
        "print('R square:', r2_score(y_test, y_pred))\n",
        "\n",
        "report = classification_report(y_test, y_pred, digits = 4)\n",
        "print(report)"
      ],
      "execution_count": null,
      "outputs": [
        {
          "output_type": "stream",
          "name": "stdout",
          "text": [
            "Mean Squared Error: 0.21513002364066194\n",
            "R square: -0.27409638554216853\n",
            "              precision    recall  f1-score   support\n",
            "\n",
            "           0     0.7862    0.9970    0.8792       332\n",
            "           1     0.5000    0.0110    0.0215        91\n",
            "\n",
            "    accuracy                         0.7849       423\n",
            "   macro avg     0.6431    0.5040    0.4503       423\n",
            "weighted avg     0.7246    0.7849    0.6946       423\n",
            "\n"
          ]
        }
      ]
    },
    {
      "cell_type": "markdown",
      "metadata": {
        "id": "wQoDYs9DLZDV"
      },
      "source": [
        "# **Optimised Models**"
      ]
    },
    {
      "cell_type": "markdown",
      "metadata": {
        "id": "jGDAPZUDLt7A"
      },
      "source": [
        "### Support Vector Machine"
      ]
    },
    {
      "cell_type": "code",
      "metadata": {
        "colab": {
          "base_uri": "https://localhost:8080/"
        },
        "id": "ELhm5WWaZAaD",
        "outputId": "48553ba4-6a6a-45e2-c1e2-b6fc4223aab6"
      },
      "source": [
        "from sklearn.model_selection import GridSearchCV\n",
        "SVM_hyp2 = [{'kernel': ['rbf', 'linear', 'sigmoid'], 'gamma': [1, 0.1, 0.01, 0.001, 0.0001], 'C': [1, 10, 100, 1000]}]\n",
        "grid = GridSearchCV(SVC(), SVM_hyp2, verbose = 3)\n",
        "grid.fit(x_smote, y_smote)"
      ],
      "execution_count": null,
      "outputs": [
        {
          "output_type": "stream",
          "name": "stdout",
          "text": [
            "Fitting 5 folds for each of 60 candidates, totalling 300 fits\n",
            "[CV] C=1, gamma=1, kernel=rbf ........................................\n",
            "[CV] ............ C=1, gamma=1, kernel=rbf, score=0.828, total=   0.0s\n",
            "[CV] C=1, gamma=1, kernel=rbf ........................................\n",
            "[CV] ............ C=1, gamma=1, kernel=rbf, score=0.821, total=   0.0s\n",
            "[CV] C=1, gamma=1, kernel=rbf ........................................\n",
            "[CV] ............ C=1, gamma=1, kernel=rbf, score=0.881, total=   0.1s\n",
            "[CV] C=1, gamma=1, kernel=rbf ........................................\n"
          ]
        },
        {
          "output_type": "stream",
          "name": "stderr",
          "text": [
            "[Parallel(n_jobs=1)]: Using backend SequentialBackend with 1 concurrent workers.\n",
            "[Parallel(n_jobs=1)]: Done   1 out of   1 | elapsed:    0.0s remaining:    0.0s\n",
            "[Parallel(n_jobs=1)]: Done   2 out of   2 | elapsed:    0.1s remaining:    0.0s\n"
          ]
        },
        {
          "output_type": "stream",
          "name": "stdout",
          "text": [
            "[CV] ............ C=1, gamma=1, kernel=rbf, score=0.824, total=   0.1s\n",
            "[CV] C=1, gamma=1, kernel=rbf ........................................\n",
            "[CV] ............ C=1, gamma=1, kernel=rbf, score=0.862, total=   0.1s\n",
            "[CV] C=1, gamma=1, kernel=linear .....................................\n",
            "[CV] ......... C=1, gamma=1, kernel=linear, score=0.812, total=   0.0s\n",
            "[CV] C=1, gamma=1, kernel=linear .....................................\n",
            "[CV] ......... C=1, gamma=1, kernel=linear, score=0.809, total=   0.0s\n",
            "[CV] C=1, gamma=1, kernel=linear .....................................\n",
            "[CV] ......... C=1, gamma=1, kernel=linear, score=0.865, total=   0.0s\n",
            "[CV] C=1, gamma=1, kernel=linear .....................................\n",
            "[CV] ......... C=1, gamma=1, kernel=linear, score=0.802, total=   0.0s\n",
            "[CV] C=1, gamma=1, kernel=linear .....................................\n",
            "[CV] ......... C=1, gamma=1, kernel=linear, score=0.840, total=   0.0s\n",
            "[CV] C=1, gamma=1, kernel=sigmoid ....................................\n",
            "[CV] ........ C=1, gamma=1, kernel=sigmoid, score=0.665, total=   0.1s\n",
            "[CV] C=1, gamma=1, kernel=sigmoid ....................................\n",
            "[CV] ........ C=1, gamma=1, kernel=sigmoid, score=0.699, total=   0.1s\n",
            "[CV] C=1, gamma=1, kernel=sigmoid ....................................\n",
            "[CV] ........ C=1, gamma=1, kernel=sigmoid, score=0.720, total=   0.1s\n",
            "[CV] C=1, gamma=1, kernel=sigmoid ....................................\n",
            "[CV] ........ C=1, gamma=1, kernel=sigmoid, score=0.667, total=   0.1s\n",
            "[CV] C=1, gamma=1, kernel=sigmoid ....................................\n",
            "[CV] ........ C=1, gamma=1, kernel=sigmoid, score=0.682, total=   0.1s\n",
            "[CV] C=1, gamma=0.1, kernel=rbf ......................................\n",
            "[CV] .......... C=1, gamma=0.1, kernel=rbf, score=0.815, total=   0.1s\n",
            "[CV] C=1, gamma=0.1, kernel=rbf ......................................\n",
            "[CV] .......... C=1, gamma=0.1, kernel=rbf, score=0.818, total=   0.1s\n",
            "[CV] C=1, gamma=0.1, kernel=rbf ......................................\n",
            "[CV] .......... C=1, gamma=0.1, kernel=rbf, score=0.865, total=   0.1s\n",
            "[CV] C=1, gamma=0.1, kernel=rbf ......................................\n",
            "[CV] .......... C=1, gamma=0.1, kernel=rbf, score=0.805, total=   0.1s\n",
            "[CV] C=1, gamma=0.1, kernel=rbf ......................................\n",
            "[CV] .......... C=1, gamma=0.1, kernel=rbf, score=0.836, total=   0.1s\n",
            "[CV] C=1, gamma=0.1, kernel=linear ...................................\n",
            "[CV] ....... C=1, gamma=0.1, kernel=linear, score=0.812, total=   0.0s\n",
            "[CV] C=1, gamma=0.1, kernel=linear ...................................\n",
            "[CV] ....... C=1, gamma=0.1, kernel=linear, score=0.809, total=   0.0s\n",
            "[CV] C=1, gamma=0.1, kernel=linear ...................................\n",
            "[CV] ....... C=1, gamma=0.1, kernel=linear, score=0.865, total=   0.0s\n",
            "[CV] C=1, gamma=0.1, kernel=linear ...................................\n",
            "[CV] ....... C=1, gamma=0.1, kernel=linear, score=0.802, total=   0.0s\n",
            "[CV] C=1, gamma=0.1, kernel=linear ...................................\n",
            "[CV] ....... C=1, gamma=0.1, kernel=linear, score=0.840, total=   0.0s\n",
            "[CV] C=1, gamma=0.1, kernel=sigmoid ..................................\n",
            "[CV] ...... C=1, gamma=0.1, kernel=sigmoid, score=0.806, total=   0.1s\n",
            "[CV] C=1, gamma=0.1, kernel=sigmoid ..................................\n",
            "[CV] ...... C=1, gamma=0.1, kernel=sigmoid, score=0.803, total=   0.1s\n",
            "[CV] C=1, gamma=0.1, kernel=sigmoid ..................................\n",
            "[CV] ...... C=1, gamma=0.1, kernel=sigmoid, score=0.846, total=   0.1s\n",
            "[CV] C=1, gamma=0.1, kernel=sigmoid ..................................\n",
            "[CV] ...... C=1, gamma=0.1, kernel=sigmoid, score=0.805, total=   0.1s\n",
            "[CV] C=1, gamma=0.1, kernel=sigmoid ..................................\n",
            "[CV] ...... C=1, gamma=0.1, kernel=sigmoid, score=0.833, total=   0.1s\n",
            "[CV] C=1, gamma=0.01, kernel=rbf .....................................\n",
            "[CV] ......... C=1, gamma=0.01, kernel=rbf, score=0.843, total=   0.1s\n",
            "[CV] C=1, gamma=0.01, kernel=rbf .....................................\n",
            "[CV] ......... C=1, gamma=0.01, kernel=rbf, score=0.834, total=   0.1s\n",
            "[CV] C=1, gamma=0.01, kernel=rbf .....................................\n",
            "[CV] ......... C=1, gamma=0.01, kernel=rbf, score=0.877, total=   0.1s\n",
            "[CV] C=1, gamma=0.01, kernel=rbf .....................................\n",
            "[CV] ......... C=1, gamma=0.01, kernel=rbf, score=0.840, total=   0.1s\n",
            "[CV] C=1, gamma=0.01, kernel=rbf .....................................\n",
            "[CV] ......... C=1, gamma=0.01, kernel=rbf, score=0.871, total=   0.1s\n",
            "[CV] C=1, gamma=0.01, kernel=linear ..................................\n",
            "[CV] ...... C=1, gamma=0.01, kernel=linear, score=0.812, total=   0.0s\n",
            "[CV] C=1, gamma=0.01, kernel=linear ..................................\n",
            "[CV] ...... C=1, gamma=0.01, kernel=linear, score=0.809, total=   0.0s\n",
            "[CV] C=1, gamma=0.01, kernel=linear ..................................\n",
            "[CV] ...... C=1, gamma=0.01, kernel=linear, score=0.865, total=   0.0s\n",
            "[CV] C=1, gamma=0.01, kernel=linear ..................................\n",
            "[CV] ...... C=1, gamma=0.01, kernel=linear, score=0.802, total=   0.0s\n",
            "[CV] C=1, gamma=0.01, kernel=linear ..................................\n",
            "[CV] ...... C=1, gamma=0.01, kernel=linear, score=0.840, total=   0.0s\n",
            "[CV] C=1, gamma=0.01, kernel=sigmoid .................................\n",
            "[CV] ..... C=1, gamma=0.01, kernel=sigmoid, score=0.498, total=   0.1s\n",
            "[CV] C=1, gamma=0.01, kernel=sigmoid .................................\n",
            "[CV] ..... C=1, gamma=0.01, kernel=sigmoid, score=0.498, total=   0.1s\n",
            "[CV] C=1, gamma=0.01, kernel=sigmoid .................................\n",
            "[CV] ..... C=1, gamma=0.01, kernel=sigmoid, score=0.877, total=   0.1s\n",
            "[CV] C=1, gamma=0.01, kernel=sigmoid .................................\n",
            "[CV] ..... C=1, gamma=0.01, kernel=sigmoid, score=0.827, total=   0.1s\n",
            "[CV] C=1, gamma=0.01, kernel=sigmoid .................................\n",
            "[CV] ..... C=1, gamma=0.01, kernel=sigmoid, score=0.871, total=   0.1s\n",
            "[CV] C=1, gamma=0.001, kernel=rbf ....................................\n",
            "[CV] ........ C=1, gamma=0.001, kernel=rbf, score=0.498, total=   0.1s\n",
            "[CV] C=1, gamma=0.001, kernel=rbf ....................................\n",
            "[CV] ........ C=1, gamma=0.001, kernel=rbf, score=0.498, total=   0.1s\n",
            "[CV] C=1, gamma=0.001, kernel=rbf ....................................\n",
            "[CV] ........ C=1, gamma=0.001, kernel=rbf, score=0.877, total=   0.1s\n",
            "[CV] C=1, gamma=0.001, kernel=rbf ....................................\n",
            "[CV] ........ C=1, gamma=0.001, kernel=rbf, score=0.827, total=   0.1s\n",
            "[CV] C=1, gamma=0.001, kernel=rbf ....................................\n",
            "[CV] ........ C=1, gamma=0.001, kernel=rbf, score=0.871, total=   0.1s\n",
            "[CV] C=1, gamma=0.001, kernel=linear .................................\n",
            "[CV] ..... C=1, gamma=0.001, kernel=linear, score=0.812, total=   0.0s\n",
            "[CV] C=1, gamma=0.001, kernel=linear .................................\n",
            "[CV] ..... C=1, gamma=0.001, kernel=linear, score=0.809, total=   0.0s\n",
            "[CV] C=1, gamma=0.001, kernel=linear .................................\n",
            "[CV] ..... C=1, gamma=0.001, kernel=linear, score=0.865, total=   0.0s\n",
            "[CV] C=1, gamma=0.001, kernel=linear .................................\n",
            "[CV] ..... C=1, gamma=0.001, kernel=linear, score=0.802, total=   0.0s\n",
            "[CV] C=1, gamma=0.001, kernel=linear .................................\n",
            "[CV] ..... C=1, gamma=0.001, kernel=linear, score=0.840, total=   0.0s\n",
            "[CV] C=1, gamma=0.001, kernel=sigmoid ................................\n",
            "[CV] .... C=1, gamma=0.001, kernel=sigmoid, score=0.498, total=   0.1s\n",
            "[CV] C=1, gamma=0.001, kernel=sigmoid ................................\n",
            "[CV] .... C=1, gamma=0.001, kernel=sigmoid, score=0.498, total=   0.1s\n",
            "[CV] C=1, gamma=0.001, kernel=sigmoid ................................\n",
            "[CV] .... C=1, gamma=0.001, kernel=sigmoid, score=0.877, total=   0.1s\n",
            "[CV] C=1, gamma=0.001, kernel=sigmoid ................................\n",
            "[CV] .... C=1, gamma=0.001, kernel=sigmoid, score=0.827, total=   0.1s\n",
            "[CV] C=1, gamma=0.001, kernel=sigmoid ................................\n",
            "[CV] .... C=1, gamma=0.001, kernel=sigmoid, score=0.871, total=   0.1s\n",
            "[CV] C=1, gamma=0.0001, kernel=rbf ...................................\n",
            "[CV] ....... C=1, gamma=0.0001, kernel=rbf, score=0.498, total=   0.1s\n",
            "[CV] C=1, gamma=0.0001, kernel=rbf ...................................\n",
            "[CV] ....... C=1, gamma=0.0001, kernel=rbf, score=0.498, total=   0.1s\n",
            "[CV] C=1, gamma=0.0001, kernel=rbf ...................................\n",
            "[CV] ....... C=1, gamma=0.0001, kernel=rbf, score=0.877, total=   0.1s\n",
            "[CV] C=1, gamma=0.0001, kernel=rbf ...................................\n",
            "[CV] ....... C=1, gamma=0.0001, kernel=rbf, score=0.827, total=   0.1s\n",
            "[CV] C=1, gamma=0.0001, kernel=rbf ...................................\n",
            "[CV] ....... C=1, gamma=0.0001, kernel=rbf, score=0.871, total=   0.1s\n",
            "[CV] C=1, gamma=0.0001, kernel=linear ................................\n",
            "[CV] .... C=1, gamma=0.0001, kernel=linear, score=0.812, total=   0.0s\n",
            "[CV] C=1, gamma=0.0001, kernel=linear ................................\n",
            "[CV] .... C=1, gamma=0.0001, kernel=linear, score=0.809, total=   0.0s\n",
            "[CV] C=1, gamma=0.0001, kernel=linear ................................\n",
            "[CV] .... C=1, gamma=0.0001, kernel=linear, score=0.865, total=   0.0s\n",
            "[CV] C=1, gamma=0.0001, kernel=linear ................................\n",
            "[CV] .... C=1, gamma=0.0001, kernel=linear, score=0.802, total=   0.0s\n",
            "[CV] C=1, gamma=0.0001, kernel=linear ................................\n",
            "[CV] .... C=1, gamma=0.0001, kernel=linear, score=0.840, total=   0.0s\n",
            "[CV] C=1, gamma=0.0001, kernel=sigmoid ...............................\n",
            "[CV] ... C=1, gamma=0.0001, kernel=sigmoid, score=0.498, total=   0.1s\n",
            "[CV] C=1, gamma=0.0001, kernel=sigmoid ...............................\n",
            "[CV] ... C=1, gamma=0.0001, kernel=sigmoid, score=0.498, total=   0.1s\n",
            "[CV] C=1, gamma=0.0001, kernel=sigmoid ...............................\n",
            "[CV] ... C=1, gamma=0.0001, kernel=sigmoid, score=0.877, total=   0.1s\n",
            "[CV] C=1, gamma=0.0001, kernel=sigmoid ...............................\n",
            "[CV] ... C=1, gamma=0.0001, kernel=sigmoid, score=0.827, total=   0.1s\n",
            "[CV] C=1, gamma=0.0001, kernel=sigmoid ...............................\n",
            "[CV] ... C=1, gamma=0.0001, kernel=sigmoid, score=0.871, total=   0.1s\n",
            "[CV] C=10, gamma=1, kernel=rbf .......................................\n",
            "[CV] ........... C=10, gamma=1, kernel=rbf, score=0.846, total=   0.0s\n",
            "[CV] C=10, gamma=1, kernel=rbf .......................................\n",
            "[CV] ........... C=10, gamma=1, kernel=rbf, score=0.853, total=   0.0s\n",
            "[CV] C=10, gamma=1, kernel=rbf .......................................\n",
            "[CV] ........... C=10, gamma=1, kernel=rbf, score=0.890, total=   0.0s\n",
            "[CV] C=10, gamma=1, kernel=rbf .......................................\n",
            "[CV] ........... C=10, gamma=1, kernel=rbf, score=0.836, total=   0.0s\n",
            "[CV] C=10, gamma=1, kernel=rbf .......................................\n",
            "[CV] ........... C=10, gamma=1, kernel=rbf, score=0.877, total=   0.1s\n",
            "[CV] C=10, gamma=1, kernel=linear ....................................\n",
            "[CV] ........ C=10, gamma=1, kernel=linear, score=0.809, total=   0.0s\n",
            "[CV] C=10, gamma=1, kernel=linear ....................................\n",
            "[CV] ........ C=10, gamma=1, kernel=linear, score=0.809, total=   0.0s\n",
            "[CV] C=10, gamma=1, kernel=linear ....................................\n",
            "[CV] ........ C=10, gamma=1, kernel=linear, score=0.865, total=   0.0s\n",
            "[CV] C=10, gamma=1, kernel=linear ....................................\n",
            "[CV] ........ C=10, gamma=1, kernel=linear, score=0.802, total=   0.0s\n",
            "[CV] C=10, gamma=1, kernel=linear ....................................\n",
            "[CV] ........ C=10, gamma=1, kernel=linear, score=0.840, total=   0.0s\n",
            "[CV] C=10, gamma=1, kernel=sigmoid ...................................\n",
            "[CV] ....... C=10, gamma=1, kernel=sigmoid, score=0.567, total=   0.1s\n",
            "[CV] C=10, gamma=1, kernel=sigmoid ...................................\n",
            "[CV] ....... C=10, gamma=1, kernel=sigmoid, score=0.630, total=   0.1s\n",
            "[CV] C=10, gamma=1, kernel=sigmoid ...................................\n",
            "[CV] ....... C=10, gamma=1, kernel=sigmoid, score=0.563, total=   0.1s\n",
            "[CV] C=10, gamma=1, kernel=sigmoid ...................................\n",
            "[CV] ....... C=10, gamma=1, kernel=sigmoid, score=0.557, total=   0.1s\n",
            "[CV] C=10, gamma=1, kernel=sigmoid ...................................\n",
            "[CV] ....... C=10, gamma=1, kernel=sigmoid, score=0.575, total=   0.1s\n",
            "[CV] C=10, gamma=0.1, kernel=rbf .....................................\n",
            "[CV] ......... C=10, gamma=0.1, kernel=rbf, score=0.815, total=   0.0s\n",
            "[CV] C=10, gamma=0.1, kernel=rbf .....................................\n",
            "[CV] ......... C=10, gamma=0.1, kernel=rbf, score=0.812, total=   0.1s\n",
            "[CV] C=10, gamma=0.1, kernel=rbf .....................................\n",
            "[CV] ......... C=10, gamma=0.1, kernel=rbf, score=0.865, total=   0.1s\n",
            "[CV] C=10, gamma=0.1, kernel=rbf .....................................\n",
            "[CV] ......... C=10, gamma=0.1, kernel=rbf, score=0.805, total=   0.0s\n",
            "[CV] C=10, gamma=0.1, kernel=rbf .....................................\n",
            "[CV] ......... C=10, gamma=0.1, kernel=rbf, score=0.843, total=   0.0s\n",
            "[CV] C=10, gamma=0.1, kernel=linear ..................................\n",
            "[CV] ...... C=10, gamma=0.1, kernel=linear, score=0.809, total=   0.0s\n",
            "[CV] C=10, gamma=0.1, kernel=linear ..................................\n",
            "[CV] ...... C=10, gamma=0.1, kernel=linear, score=0.809, total=   0.0s\n",
            "[CV] C=10, gamma=0.1, kernel=linear ..................................\n",
            "[CV] ...... C=10, gamma=0.1, kernel=linear, score=0.865, total=   0.0s\n",
            "[CV] C=10, gamma=0.1, kernel=linear ..................................\n",
            "[CV] ...... C=10, gamma=0.1, kernel=linear, score=0.802, total=   0.0s\n",
            "[CV] C=10, gamma=0.1, kernel=linear ..................................\n",
            "[CV] ...... C=10, gamma=0.1, kernel=linear, score=0.840, total=   0.0s\n",
            "[CV] C=10, gamma=0.1, kernel=sigmoid .................................\n",
            "[CV] ..... C=10, gamma=0.1, kernel=sigmoid, score=0.809, total=   0.0s\n",
            "[CV] C=10, gamma=0.1, kernel=sigmoid .................................\n",
            "[CV] ..... C=10, gamma=0.1, kernel=sigmoid, score=0.806, total=   0.0s\n",
            "[CV] C=10, gamma=0.1, kernel=sigmoid .................................\n",
            "[CV] ..... C=10, gamma=0.1, kernel=sigmoid, score=0.862, total=   0.0s\n",
            "[CV] C=10, gamma=0.1, kernel=sigmoid .................................\n",
            "[CV] ..... C=10, gamma=0.1, kernel=sigmoid, score=0.802, total=   0.1s\n",
            "[CV] C=10, gamma=0.1, kernel=sigmoid .................................\n",
            "[CV] ..... C=10, gamma=0.1, kernel=sigmoid, score=0.840, total=   0.0s\n",
            "[CV] C=10, gamma=0.01, kernel=rbf ....................................\n",
            "[CV] ........ C=10, gamma=0.01, kernel=rbf, score=0.815, total=   0.1s\n",
            "[CV] C=10, gamma=0.01, kernel=rbf ....................................\n",
            "[CV] ........ C=10, gamma=0.01, kernel=rbf, score=0.806, total=   0.1s\n",
            "[CV] C=10, gamma=0.01, kernel=rbf ....................................\n",
            "[CV] ........ C=10, gamma=0.01, kernel=rbf, score=0.865, total=   0.1s\n",
            "[CV] C=10, gamma=0.01, kernel=rbf ....................................\n",
            "[CV] ........ C=10, gamma=0.01, kernel=rbf, score=0.805, total=   0.1s\n",
            "[CV] C=10, gamma=0.01, kernel=rbf ....................................\n",
            "[CV] ........ C=10, gamma=0.01, kernel=rbf, score=0.836, total=   0.1s\n",
            "[CV] C=10, gamma=0.01, kernel=linear .................................\n",
            "[CV] ..... C=10, gamma=0.01, kernel=linear, score=0.809, total=   0.0s\n",
            "[CV] C=10, gamma=0.01, kernel=linear .................................\n",
            "[CV] ..... C=10, gamma=0.01, kernel=linear, score=0.809, total=   0.0s\n",
            "[CV] C=10, gamma=0.01, kernel=linear .................................\n",
            "[CV] ..... C=10, gamma=0.01, kernel=linear, score=0.865, total=   0.0s\n",
            "[CV] C=10, gamma=0.01, kernel=linear .................................\n",
            "[CV] ..... C=10, gamma=0.01, kernel=linear, score=0.802, total=   0.0s\n",
            "[CV] C=10, gamma=0.01, kernel=linear .................................\n",
            "[CV] ..... C=10, gamma=0.01, kernel=linear, score=0.840, total=   0.0s\n",
            "[CV] C=10, gamma=0.01, kernel=sigmoid ................................\n",
            "[CV] .... C=10, gamma=0.01, kernel=sigmoid, score=0.806, total=   0.1s\n",
            "[CV] C=10, gamma=0.01, kernel=sigmoid ................................\n",
            "[CV] .... C=10, gamma=0.01, kernel=sigmoid, score=0.806, total=   0.1s\n",
            "[CV] C=10, gamma=0.01, kernel=sigmoid ................................\n",
            "[CV] .... C=10, gamma=0.01, kernel=sigmoid, score=0.855, total=   0.1s\n",
            "[CV] C=10, gamma=0.01, kernel=sigmoid ................................\n",
            "[CV] .... C=10, gamma=0.01, kernel=sigmoid, score=0.805, total=   0.1s\n",
            "[CV] C=10, gamma=0.01, kernel=sigmoid ................................\n",
            "[CV] .... C=10, gamma=0.01, kernel=sigmoid, score=0.833, total=   0.1s\n",
            "[CV] C=10, gamma=0.001, kernel=rbf ...................................\n",
            "[CV] ....... C=10, gamma=0.001, kernel=rbf, score=0.843, total=   0.1s\n",
            "[CV] C=10, gamma=0.001, kernel=rbf ...................................\n",
            "[CV] ....... C=10, gamma=0.001, kernel=rbf, score=0.834, total=   0.1s\n",
            "[CV] C=10, gamma=0.001, kernel=rbf ...................................\n",
            "[CV] ....... C=10, gamma=0.001, kernel=rbf, score=0.877, total=   0.1s\n",
            "[CV] C=10, gamma=0.001, kernel=rbf ...................................\n",
            "[CV] ....... C=10, gamma=0.001, kernel=rbf, score=0.840, total=   0.1s\n",
            "[CV] C=10, gamma=0.001, kernel=rbf ...................................\n",
            "[CV] ....... C=10, gamma=0.001, kernel=rbf, score=0.871, total=   0.1s\n",
            "[CV] C=10, gamma=0.001, kernel=linear ................................\n",
            "[CV] .... C=10, gamma=0.001, kernel=linear, score=0.809, total=   0.0s\n",
            "[CV] C=10, gamma=0.001, kernel=linear ................................\n",
            "[CV] .... C=10, gamma=0.001, kernel=linear, score=0.809, total=   0.0s\n",
            "[CV] C=10, gamma=0.001, kernel=linear ................................\n",
            "[CV] .... C=10, gamma=0.001, kernel=linear, score=0.865, total=   0.0s\n",
            "[CV] C=10, gamma=0.001, kernel=linear ................................\n",
            "[CV] .... C=10, gamma=0.001, kernel=linear, score=0.802, total=   0.0s\n",
            "[CV] C=10, gamma=0.001, kernel=linear ................................\n",
            "[CV] .... C=10, gamma=0.001, kernel=linear, score=0.840, total=   0.0s\n",
            "[CV] C=10, gamma=0.001, kernel=sigmoid ...............................\n",
            "[CV] ... C=10, gamma=0.001, kernel=sigmoid, score=0.498, total=   0.1s\n",
            "[CV] C=10, gamma=0.001, kernel=sigmoid ...............................\n",
            "[CV] ... C=10, gamma=0.001, kernel=sigmoid, score=0.498, total=   0.1s\n",
            "[CV] C=10, gamma=0.001, kernel=sigmoid ...............................\n",
            "[CV] ... C=10, gamma=0.001, kernel=sigmoid, score=0.877, total=   0.1s\n",
            "[CV] C=10, gamma=0.001, kernel=sigmoid ...............................\n",
            "[CV] ... C=10, gamma=0.001, kernel=sigmoid, score=0.827, total=   0.1s\n",
            "[CV] C=10, gamma=0.001, kernel=sigmoid ...............................\n",
            "[CV] ... C=10, gamma=0.001, kernel=sigmoid, score=0.871, total=   0.1s\n",
            "[CV] C=10, gamma=0.0001, kernel=rbf ..................................\n",
            "[CV] ...... C=10, gamma=0.0001, kernel=rbf, score=0.498, total=   0.1s\n",
            "[CV] C=10, gamma=0.0001, kernel=rbf ..................................\n",
            "[CV] ...... C=10, gamma=0.0001, kernel=rbf, score=0.498, total=   0.1s\n",
            "[CV] C=10, gamma=0.0001, kernel=rbf ..................................\n",
            "[CV] ...... C=10, gamma=0.0001, kernel=rbf, score=0.877, total=   0.1s\n",
            "[CV] C=10, gamma=0.0001, kernel=rbf ..................................\n",
            "[CV] ...... C=10, gamma=0.0001, kernel=rbf, score=0.827, total=   0.1s\n",
            "[CV] C=10, gamma=0.0001, kernel=rbf ..................................\n",
            "[CV] ...... C=10, gamma=0.0001, kernel=rbf, score=0.871, total=   0.1s\n",
            "[CV] C=10, gamma=0.0001, kernel=linear ...............................\n",
            "[CV] ... C=10, gamma=0.0001, kernel=linear, score=0.809, total=   0.0s\n",
            "[CV] C=10, gamma=0.0001, kernel=linear ...............................\n",
            "[CV] ... C=10, gamma=0.0001, kernel=linear, score=0.809, total=   0.0s\n",
            "[CV] C=10, gamma=0.0001, kernel=linear ...............................\n",
            "[CV] ... C=10, gamma=0.0001, kernel=linear, score=0.865, total=   0.0s\n",
            "[CV] C=10, gamma=0.0001, kernel=linear ...............................\n",
            "[CV] ... C=10, gamma=0.0001, kernel=linear, score=0.802, total=   0.0s\n",
            "[CV] C=10, gamma=0.0001, kernel=linear ...............................\n",
            "[CV] ... C=10, gamma=0.0001, kernel=linear, score=0.840, total=   0.0s\n",
            "[CV] C=10, gamma=0.0001, kernel=sigmoid ..............................\n",
            "[CV] .. C=10, gamma=0.0001, kernel=sigmoid, score=0.498, total=   0.1s\n",
            "[CV] C=10, gamma=0.0001, kernel=sigmoid ..............................\n",
            "[CV] .. C=10, gamma=0.0001, kernel=sigmoid, score=0.498, total=   0.1s\n",
            "[CV] C=10, gamma=0.0001, kernel=sigmoid ..............................\n",
            "[CV] .. C=10, gamma=0.0001, kernel=sigmoid, score=0.877, total=   0.1s\n",
            "[CV] C=10, gamma=0.0001, kernel=sigmoid ..............................\n",
            "[CV] .. C=10, gamma=0.0001, kernel=sigmoid, score=0.827, total=   0.1s\n",
            "[CV] C=10, gamma=0.0001, kernel=sigmoid ..............................\n",
            "[CV] .. C=10, gamma=0.0001, kernel=sigmoid, score=0.871, total=   0.1s\n",
            "[CV] C=100, gamma=1, kernel=rbf ......................................\n",
            "[CV] .......... C=100, gamma=1, kernel=rbf, score=0.859, total=   0.1s\n",
            "[CV] C=100, gamma=1, kernel=rbf ......................................\n",
            "[CV] .......... C=100, gamma=1, kernel=rbf, score=0.859, total=   0.1s\n",
            "[CV] C=100, gamma=1, kernel=rbf ......................................\n",
            "[CV] .......... C=100, gamma=1, kernel=rbf, score=0.903, total=   0.1s\n",
            "[CV] C=100, gamma=1, kernel=rbf ......................................\n",
            "[CV] .......... C=100, gamma=1, kernel=rbf, score=0.846, total=   0.1s\n",
            "[CV] C=100, gamma=1, kernel=rbf ......................................\n",
            "[CV] .......... C=100, gamma=1, kernel=rbf, score=0.881, total=   0.1s\n",
            "[CV] C=100, gamma=1, kernel=linear ...................................\n",
            "[CV] ....... C=100, gamma=1, kernel=linear, score=0.815, total=   0.1s\n",
            "[CV] C=100, gamma=1, kernel=linear ...................................\n",
            "[CV] ....... C=100, gamma=1, kernel=linear, score=0.815, total=   0.1s\n",
            "[CV] C=100, gamma=1, kernel=linear ...................................\n",
            "[CV] ....... C=100, gamma=1, kernel=linear, score=0.865, total=   0.1s\n",
            "[CV] C=100, gamma=1, kernel=linear ...................................\n",
            "[CV] ....... C=100, gamma=1, kernel=linear, score=0.805, total=   0.0s\n",
            "[CV] C=100, gamma=1, kernel=linear ...................................\n",
            "[CV] ....... C=100, gamma=1, kernel=linear, score=0.840, total=   0.0s\n",
            "[CV] C=100, gamma=1, kernel=sigmoid ..................................\n",
            "[CV] ...... C=100, gamma=1, kernel=sigmoid, score=0.552, total=   0.1s\n",
            "[CV] C=100, gamma=1, kernel=sigmoid ..................................\n",
            "[CV] ...... C=100, gamma=1, kernel=sigmoid, score=0.608, total=   0.1s\n",
            "[CV] C=100, gamma=1, kernel=sigmoid ..................................\n",
            "[CV] ...... C=100, gamma=1, kernel=sigmoid, score=0.560, total=   0.1s\n",
            "[CV] C=100, gamma=1, kernel=sigmoid ..................................\n",
            "[CV] ...... C=100, gamma=1, kernel=sigmoid, score=0.544, total=   0.1s\n",
            "[CV] C=100, gamma=1, kernel=sigmoid ..................................\n",
            "[CV] ...... C=100, gamma=1, kernel=sigmoid, score=0.563, total=   0.1s\n",
            "[CV] C=100, gamma=0.1, kernel=rbf ....................................\n",
            "[CV] ........ C=100, gamma=0.1, kernel=rbf, score=0.828, total=   0.1s\n",
            "[CV] C=100, gamma=0.1, kernel=rbf ....................................\n",
            "[CV] ........ C=100, gamma=0.1, kernel=rbf, score=0.834, total=   0.1s\n",
            "[CV] C=100, gamma=0.1, kernel=rbf ....................................\n",
            "[CV] ........ C=100, gamma=0.1, kernel=rbf, score=0.877, total=   0.1s\n",
            "[CV] C=100, gamma=0.1, kernel=rbf ....................................\n",
            "[CV] ........ C=100, gamma=0.1, kernel=rbf, score=0.830, total=   0.1s\n",
            "[CV] C=100, gamma=0.1, kernel=rbf ....................................\n",
            "[CV] ........ C=100, gamma=0.1, kernel=rbf, score=0.865, total=   0.1s\n",
            "[CV] C=100, gamma=0.1, kernel=linear .................................\n",
            "[CV] ..... C=100, gamma=0.1, kernel=linear, score=0.815, total=   0.1s\n",
            "[CV] C=100, gamma=0.1, kernel=linear .................................\n",
            "[CV] ..... C=100, gamma=0.1, kernel=linear, score=0.815, total=   0.1s\n",
            "[CV] C=100, gamma=0.1, kernel=linear .................................\n",
            "[CV] ..... C=100, gamma=0.1, kernel=linear, score=0.865, total=   0.1s\n",
            "[CV] C=100, gamma=0.1, kernel=linear .................................\n",
            "[CV] ..... C=100, gamma=0.1, kernel=linear, score=0.805, total=   0.1s\n",
            "[CV] C=100, gamma=0.1, kernel=linear .................................\n",
            "[CV] ..... C=100, gamma=0.1, kernel=linear, score=0.840, total=   0.1s\n",
            "[CV] C=100, gamma=0.1, kernel=sigmoid ................................\n",
            "[CV] .... C=100, gamma=0.1, kernel=sigmoid, score=0.803, total=   0.0s\n",
            "[CV] C=100, gamma=0.1, kernel=sigmoid ................................\n",
            "[CV] .... C=100, gamma=0.1, kernel=sigmoid, score=0.812, total=   0.0s\n",
            "[CV] C=100, gamma=0.1, kernel=sigmoid ................................\n",
            "[CV] .... C=100, gamma=0.1, kernel=sigmoid, score=0.862, total=   0.1s\n",
            "[CV] C=100, gamma=0.1, kernel=sigmoid ................................\n",
            "[CV] .... C=100, gamma=0.1, kernel=sigmoid, score=0.802, total=   0.1s\n",
            "[CV] C=100, gamma=0.1, kernel=sigmoid ................................\n",
            "[CV] .... C=100, gamma=0.1, kernel=sigmoid, score=0.843, total=   0.1s\n",
            "[CV] C=100, gamma=0.01, kernel=rbf ...................................\n",
            "[CV] ....... C=100, gamma=0.01, kernel=rbf, score=0.809, total=   0.0s\n",
            "[CV] C=100, gamma=0.01, kernel=rbf ...................................\n",
            "[CV] ....... C=100, gamma=0.01, kernel=rbf, score=0.809, total=   0.0s\n",
            "[CV] C=100, gamma=0.01, kernel=rbf ...................................\n",
            "[CV] ....... C=100, gamma=0.01, kernel=rbf, score=0.865, total=   0.0s\n",
            "[CV] C=100, gamma=0.01, kernel=rbf ...................................\n",
            "[CV] ....... C=100, gamma=0.01, kernel=rbf, score=0.802, total=   0.0s\n",
            "[CV] C=100, gamma=0.01, kernel=rbf ...................................\n",
            "[CV] ....... C=100, gamma=0.01, kernel=rbf, score=0.840, total=   0.0s\n",
            "[CV] C=100, gamma=0.01, kernel=linear ................................\n",
            "[CV] .... C=100, gamma=0.01, kernel=linear, score=0.815, total=   0.1s\n",
            "[CV] C=100, gamma=0.01, kernel=linear ................................\n",
            "[CV] .... C=100, gamma=0.01, kernel=linear, score=0.815, total=   0.1s\n",
            "[CV] C=100, gamma=0.01, kernel=linear ................................\n",
            "[CV] .... C=100, gamma=0.01, kernel=linear, score=0.865, total=   0.1s\n",
            "[CV] C=100, gamma=0.01, kernel=linear ................................\n",
            "[CV] .... C=100, gamma=0.01, kernel=linear, score=0.805, total=   0.0s\n",
            "[CV] C=100, gamma=0.01, kernel=linear ................................\n",
            "[CV] .... C=100, gamma=0.01, kernel=linear, score=0.840, total=   0.1s\n",
            "[CV] C=100, gamma=0.01, kernel=sigmoid ...............................\n",
            "[CV] ... C=100, gamma=0.01, kernel=sigmoid, score=0.812, total=   0.0s\n",
            "[CV] C=100, gamma=0.01, kernel=sigmoid ...............................\n",
            "[CV] ... C=100, gamma=0.01, kernel=sigmoid, score=0.809, total=   0.0s\n",
            "[CV] C=100, gamma=0.01, kernel=sigmoid ...............................\n",
            "[CV] ... C=100, gamma=0.01, kernel=sigmoid, score=0.865, total=   0.0s\n",
            "[CV] C=100, gamma=0.01, kernel=sigmoid ...............................\n",
            "[CV] ... C=100, gamma=0.01, kernel=sigmoid, score=0.802, total=   0.0s\n",
            "[CV] C=100, gamma=0.01, kernel=sigmoid ...............................\n",
            "[CV] ... C=100, gamma=0.01, kernel=sigmoid, score=0.840, total=   0.1s\n",
            "[CV] C=100, gamma=0.001, kernel=rbf ..................................\n",
            "[CV] ...... C=100, gamma=0.001, kernel=rbf, score=0.815, total=   0.1s\n",
            "[CV] C=100, gamma=0.001, kernel=rbf ..................................\n",
            "[CV] ...... C=100, gamma=0.001, kernel=rbf, score=0.806, total=   0.1s\n",
            "[CV] C=100, gamma=0.001, kernel=rbf ..................................\n",
            "[CV] ...... C=100, gamma=0.001, kernel=rbf, score=0.865, total=   0.1s\n",
            "[CV] C=100, gamma=0.001, kernel=rbf ..................................\n",
            "[CV] ...... C=100, gamma=0.001, kernel=rbf, score=0.805, total=   0.1s\n",
            "[CV] C=100, gamma=0.001, kernel=rbf ..................................\n",
            "[CV] ...... C=100, gamma=0.001, kernel=rbf, score=0.836, total=   0.1s\n",
            "[CV] C=100, gamma=0.001, kernel=linear ...............................\n",
            "[CV] ... C=100, gamma=0.001, kernel=linear, score=0.815, total=   0.1s\n",
            "[CV] C=100, gamma=0.001, kernel=linear ...............................\n",
            "[CV] ... C=100, gamma=0.001, kernel=linear, score=0.815, total=   0.1s\n",
            "[CV] C=100, gamma=0.001, kernel=linear ...............................\n",
            "[CV] ... C=100, gamma=0.001, kernel=linear, score=0.865, total=   0.1s\n",
            "[CV] C=100, gamma=0.001, kernel=linear ...............................\n",
            "[CV] ... C=100, gamma=0.001, kernel=linear, score=0.805, total=   0.1s\n",
            "[CV] C=100, gamma=0.001, kernel=linear ...............................\n",
            "[CV] ... C=100, gamma=0.001, kernel=linear, score=0.840, total=   0.0s\n",
            "[CV] C=100, gamma=0.001, kernel=sigmoid ..............................\n",
            "[CV] .. C=100, gamma=0.001, kernel=sigmoid, score=0.806, total=   0.1s\n",
            "[CV] C=100, gamma=0.001, kernel=sigmoid ..............................\n",
            "[CV] .. C=100, gamma=0.001, kernel=sigmoid, score=0.806, total=   0.1s\n",
            "[CV] C=100, gamma=0.001, kernel=sigmoid ..............................\n",
            "[CV] .. C=100, gamma=0.001, kernel=sigmoid, score=0.855, total=   0.1s\n",
            "[CV] C=100, gamma=0.001, kernel=sigmoid ..............................\n",
            "[CV] .. C=100, gamma=0.001, kernel=sigmoid, score=0.805, total=   0.1s\n",
            "[CV] C=100, gamma=0.001, kernel=sigmoid ..............................\n",
            "[CV] .. C=100, gamma=0.001, kernel=sigmoid, score=0.833, total=   0.1s\n",
            "[CV] C=100, gamma=0.0001, kernel=rbf .................................\n",
            "[CV] ..... C=100, gamma=0.0001, kernel=rbf, score=0.843, total=   0.1s\n",
            "[CV] C=100, gamma=0.0001, kernel=rbf .................................\n",
            "[CV] ..... C=100, gamma=0.0001, kernel=rbf, score=0.834, total=   0.1s\n",
            "[CV] C=100, gamma=0.0001, kernel=rbf .................................\n",
            "[CV] ..... C=100, gamma=0.0001, kernel=rbf, score=0.877, total=   0.1s\n",
            "[CV] C=100, gamma=0.0001, kernel=rbf .................................\n",
            "[CV] ..... C=100, gamma=0.0001, kernel=rbf, score=0.840, total=   0.1s\n",
            "[CV] C=100, gamma=0.0001, kernel=rbf .................................\n",
            "[CV] ..... C=100, gamma=0.0001, kernel=rbf, score=0.871, total=   0.1s\n",
            "[CV] C=100, gamma=0.0001, kernel=linear ..............................\n",
            "[CV] .. C=100, gamma=0.0001, kernel=linear, score=0.815, total=   0.1s\n",
            "[CV] C=100, gamma=0.0001, kernel=linear ..............................\n",
            "[CV] .. C=100, gamma=0.0001, kernel=linear, score=0.815, total=   0.1s\n",
            "[CV] C=100, gamma=0.0001, kernel=linear ..............................\n",
            "[CV] .. C=100, gamma=0.0001, kernel=linear, score=0.865, total=   0.1s\n",
            "[CV] C=100, gamma=0.0001, kernel=linear ..............................\n",
            "[CV] .. C=100, gamma=0.0001, kernel=linear, score=0.805, total=   0.1s\n",
            "[CV] C=100, gamma=0.0001, kernel=linear ..............................\n",
            "[CV] .. C=100, gamma=0.0001, kernel=linear, score=0.840, total=   0.1s\n",
            "[CV] C=100, gamma=0.0001, kernel=sigmoid .............................\n",
            "[CV] . C=100, gamma=0.0001, kernel=sigmoid, score=0.498, total=   0.1s\n",
            "[CV] C=100, gamma=0.0001, kernel=sigmoid .............................\n",
            "[CV] . C=100, gamma=0.0001, kernel=sigmoid, score=0.498, total=   0.1s\n",
            "[CV] C=100, gamma=0.0001, kernel=sigmoid .............................\n",
            "[CV] . C=100, gamma=0.0001, kernel=sigmoid, score=0.877, total=   0.1s\n",
            "[CV] C=100, gamma=0.0001, kernel=sigmoid .............................\n",
            "[CV] . C=100, gamma=0.0001, kernel=sigmoid, score=0.827, total=   0.1s\n",
            "[CV] C=100, gamma=0.0001, kernel=sigmoid .............................\n",
            "[CV] . C=100, gamma=0.0001, kernel=sigmoid, score=0.871, total=   0.1s\n",
            "[CV] C=1000, gamma=1, kernel=rbf .....................................\n",
            "[CV] ......... C=1000, gamma=1, kernel=rbf, score=0.871, total=   0.2s\n",
            "[CV] C=1000, gamma=1, kernel=rbf .....................................\n",
            "[CV] ......... C=1000, gamma=1, kernel=rbf, score=0.881, total=   0.1s\n",
            "[CV] C=1000, gamma=1, kernel=rbf .....................................\n",
            "[CV] ......... C=1000, gamma=1, kernel=rbf, score=0.912, total=   0.1s\n",
            "[CV] C=1000, gamma=1, kernel=rbf .....................................\n",
            "[CV] ......... C=1000, gamma=1, kernel=rbf, score=0.858, total=   0.1s\n",
            "[CV] C=1000, gamma=1, kernel=rbf .....................................\n",
            "[CV] ......... C=1000, gamma=1, kernel=rbf, score=0.903, total=   0.1s\n",
            "[CV] C=1000, gamma=1, kernel=linear ..................................\n",
            "[CV] ...... C=1000, gamma=1, kernel=linear, score=0.812, total=   0.2s\n",
            "[CV] C=1000, gamma=1, kernel=linear ..................................\n",
            "[CV] ...... C=1000, gamma=1, kernel=linear, score=0.815, total=   0.2s\n",
            "[CV] C=1000, gamma=1, kernel=linear ..................................\n",
            "[CV] ...... C=1000, gamma=1, kernel=linear, score=0.865, total=   0.2s\n",
            "[CV] C=1000, gamma=1, kernel=linear ..................................\n",
            "[CV] ...... C=1000, gamma=1, kernel=linear, score=0.805, total=   0.2s\n",
            "[CV] C=1000, gamma=1, kernel=linear ..................................\n",
            "[CV] ...... C=1000, gamma=1, kernel=linear, score=0.840, total=   0.2s\n",
            "[CV] C=1000, gamma=1, kernel=sigmoid .................................\n",
            "[CV] ..... C=1000, gamma=1, kernel=sigmoid, score=0.552, total=   0.1s\n",
            "[CV] C=1000, gamma=1, kernel=sigmoid .................................\n",
            "[CV] ..... C=1000, gamma=1, kernel=sigmoid, score=0.608, total=   0.1s\n",
            "[CV] C=1000, gamma=1, kernel=sigmoid .................................\n",
            "[CV] ..... C=1000, gamma=1, kernel=sigmoid, score=0.560, total=   0.1s\n",
            "[CV] C=1000, gamma=1, kernel=sigmoid .................................\n",
            "[CV] ..... C=1000, gamma=1, kernel=sigmoid, score=0.544, total=   0.1s\n",
            "[CV] C=1000, gamma=1, kernel=sigmoid .................................\n",
            "[CV] ..... C=1000, gamma=1, kernel=sigmoid, score=0.560, total=   0.1s\n",
            "[CV] C=1000, gamma=0.1, kernel=rbf ...................................\n",
            "[CV] ....... C=1000, gamma=0.1, kernel=rbf, score=0.846, total=   0.1s\n",
            "[CV] C=1000, gamma=0.1, kernel=rbf ...................................\n",
            "[CV] ....... C=1000, gamma=0.1, kernel=rbf, score=0.850, total=   0.1s\n",
            "[CV] C=1000, gamma=0.1, kernel=rbf ...................................\n",
            "[CV] ....... C=1000, gamma=0.1, kernel=rbf, score=0.887, total=   0.1s\n",
            "[CV] C=1000, gamma=0.1, kernel=rbf ...................................\n",
            "[CV] ....... C=1000, gamma=0.1, kernel=rbf, score=0.836, total=   0.1s\n",
            "[CV] C=1000, gamma=0.1, kernel=rbf ...................................\n",
            "[CV] ....... C=1000, gamma=0.1, kernel=rbf, score=0.877, total=   0.1s\n",
            "[CV] C=1000, gamma=0.1, kernel=linear ................................\n",
            "[CV] .... C=1000, gamma=0.1, kernel=linear, score=0.812, total=   0.2s\n",
            "[CV] C=1000, gamma=0.1, kernel=linear ................................\n",
            "[CV] .... C=1000, gamma=0.1, kernel=linear, score=0.815, total=   0.2s\n",
            "[CV] C=1000, gamma=0.1, kernel=linear ................................\n",
            "[CV] .... C=1000, gamma=0.1, kernel=linear, score=0.865, total=   0.2s\n",
            "[CV] C=1000, gamma=0.1, kernel=linear ................................\n",
            "[CV] .... C=1000, gamma=0.1, kernel=linear, score=0.805, total=   0.2s\n",
            "[CV] C=1000, gamma=0.1, kernel=linear ................................\n",
            "[CV] .... C=1000, gamma=0.1, kernel=linear, score=0.840, total=   0.2s\n",
            "[CV] C=1000, gamma=0.1, kernel=sigmoid ...............................\n",
            "[CV] ... C=1000, gamma=0.1, kernel=sigmoid, score=0.762, total=   0.1s\n",
            "[CV] C=1000, gamma=0.1, kernel=sigmoid ...............................\n",
            "[CV] ... C=1000, gamma=0.1, kernel=sigmoid, score=0.759, total=   0.1s\n",
            "[CV] C=1000, gamma=0.1, kernel=sigmoid ...............................\n",
            "[CV] ... C=1000, gamma=0.1, kernel=sigmoid, score=0.789, total=   0.1s\n",
            "[CV] C=1000, gamma=0.1, kernel=sigmoid ...............................\n",
            "[CV] ... C=1000, gamma=0.1, kernel=sigmoid, score=0.704, total=   0.1s\n",
            "[CV] C=1000, gamma=0.1, kernel=sigmoid ...............................\n",
            "[CV] ... C=1000, gamma=0.1, kernel=sigmoid, score=0.786, total=   0.1s\n",
            "[CV] C=1000, gamma=0.01, kernel=rbf ..................................\n",
            "[CV] ...... C=1000, gamma=0.01, kernel=rbf, score=0.815, total=   0.1s\n",
            "[CV] C=1000, gamma=0.01, kernel=rbf ..................................\n",
            "[CV] ...... C=1000, gamma=0.01, kernel=rbf, score=0.815, total=   0.1s\n",
            "[CV] C=1000, gamma=0.01, kernel=rbf ..................................\n",
            "[CV] ...... C=1000, gamma=0.01, kernel=rbf, score=0.865, total=   0.1s\n",
            "[CV] C=1000, gamma=0.01, kernel=rbf ..................................\n",
            "[CV] ...... C=1000, gamma=0.01, kernel=rbf, score=0.808, total=   0.1s\n",
            "[CV] C=1000, gamma=0.01, kernel=rbf ..................................\n",
            "[CV] ...... C=1000, gamma=0.01, kernel=rbf, score=0.843, total=   0.1s\n",
            "[CV] C=1000, gamma=0.01, kernel=linear ...............................\n",
            "[CV] ... C=1000, gamma=0.01, kernel=linear, score=0.812, total=   0.2s\n",
            "[CV] C=1000, gamma=0.01, kernel=linear ...............................\n",
            "[CV] ... C=1000, gamma=0.01, kernel=linear, score=0.815, total=   0.2s\n",
            "[CV] C=1000, gamma=0.01, kernel=linear ...............................\n",
            "[CV] ... C=1000, gamma=0.01, kernel=linear, score=0.865, total=   0.2s\n",
            "[CV] C=1000, gamma=0.01, kernel=linear ...............................\n",
            "[CV] ... C=1000, gamma=0.01, kernel=linear, score=0.805, total=   0.2s\n",
            "[CV] C=1000, gamma=0.01, kernel=linear ...............................\n",
            "[CV] ... C=1000, gamma=0.01, kernel=linear, score=0.840, total=   0.2s\n",
            "[CV] C=1000, gamma=0.01, kernel=sigmoid ..............................\n",
            "[CV] .. C=1000, gamma=0.01, kernel=sigmoid, score=0.809, total=   0.0s\n",
            "[CV] C=1000, gamma=0.01, kernel=sigmoid ..............................\n",
            "[CV] .. C=1000, gamma=0.01, kernel=sigmoid, score=0.809, total=   0.0s\n",
            "[CV] C=1000, gamma=0.01, kernel=sigmoid ..............................\n",
            "[CV] .. C=1000, gamma=0.01, kernel=sigmoid, score=0.865, total=   0.1s\n",
            "[CV] C=1000, gamma=0.01, kernel=sigmoid ..............................\n",
            "[CV] .. C=1000, gamma=0.01, kernel=sigmoid, score=0.802, total=   0.0s\n",
            "[CV] C=1000, gamma=0.01, kernel=sigmoid ..............................\n",
            "[CV] .. C=1000, gamma=0.01, kernel=sigmoid, score=0.840, total=   0.1s\n",
            "[CV] C=1000, gamma=0.001, kernel=rbf .................................\n",
            "[CV] ..... C=1000, gamma=0.001, kernel=rbf, score=0.806, total=   0.0s\n",
            "[CV] C=1000, gamma=0.001, kernel=rbf .................................\n",
            "[CV] ..... C=1000, gamma=0.001, kernel=rbf, score=0.806, total=   0.0s\n",
            "[CV] C=1000, gamma=0.001, kernel=rbf .................................\n",
            "[CV] ..... C=1000, gamma=0.001, kernel=rbf, score=0.862, total=   0.0s\n",
            "[CV] C=1000, gamma=0.001, kernel=rbf .................................\n",
            "[CV] ..... C=1000, gamma=0.001, kernel=rbf, score=0.802, total=   0.0s\n",
            "[CV] C=1000, gamma=0.001, kernel=rbf .................................\n",
            "[CV] ..... C=1000, gamma=0.001, kernel=rbf, score=0.840, total=   0.1s\n",
            "[CV] C=1000, gamma=0.001, kernel=linear ..............................\n",
            "[CV] .. C=1000, gamma=0.001, kernel=linear, score=0.812, total=   0.2s\n",
            "[CV] C=1000, gamma=0.001, kernel=linear ..............................\n",
            "[CV] .. C=1000, gamma=0.001, kernel=linear, score=0.815, total=   0.2s\n",
            "[CV] C=1000, gamma=0.001, kernel=linear ..............................\n",
            "[CV] .. C=1000, gamma=0.001, kernel=linear, score=0.865, total=   0.2s\n",
            "[CV] C=1000, gamma=0.001, kernel=linear ..............................\n",
            "[CV] .. C=1000, gamma=0.001, kernel=linear, score=0.805, total=   0.2s\n",
            "[CV] C=1000, gamma=0.001, kernel=linear ..............................\n",
            "[CV] .. C=1000, gamma=0.001, kernel=linear, score=0.840, total=   0.2s\n",
            "[CV] C=1000, gamma=0.001, kernel=sigmoid .............................\n",
            "[CV] . C=1000, gamma=0.001, kernel=sigmoid, score=0.812, total=   0.0s\n",
            "[CV] C=1000, gamma=0.001, kernel=sigmoid .............................\n",
            "[CV] . C=1000, gamma=0.001, kernel=sigmoid, score=0.809, total=   0.0s\n",
            "[CV] C=1000, gamma=0.001, kernel=sigmoid .............................\n",
            "[CV] . C=1000, gamma=0.001, kernel=sigmoid, score=0.865, total=   0.0s\n",
            "[CV] C=1000, gamma=0.001, kernel=sigmoid .............................\n",
            "[CV] . C=1000, gamma=0.001, kernel=sigmoid, score=0.802, total=   0.0s\n",
            "[CV] C=1000, gamma=0.001, kernel=sigmoid .............................\n",
            "[CV] . C=1000, gamma=0.001, kernel=sigmoid, score=0.840, total=   0.1s\n",
            "[CV] C=1000, gamma=0.0001, kernel=rbf ................................\n",
            "[CV] .... C=1000, gamma=0.0001, kernel=rbf, score=0.815, total=   0.1s\n",
            "[CV] C=1000, gamma=0.0001, kernel=rbf ................................\n",
            "[CV] .... C=1000, gamma=0.0001, kernel=rbf, score=0.806, total=   0.1s\n",
            "[CV] C=1000, gamma=0.0001, kernel=rbf ................................\n",
            "[CV] .... C=1000, gamma=0.0001, kernel=rbf, score=0.865, total=   0.1s\n",
            "[CV] C=1000, gamma=0.0001, kernel=rbf ................................\n",
            "[CV] .... C=1000, gamma=0.0001, kernel=rbf, score=0.805, total=   0.1s\n",
            "[CV] C=1000, gamma=0.0001, kernel=rbf ................................\n",
            "[CV] .... C=1000, gamma=0.0001, kernel=rbf, score=0.836, total=   0.1s\n",
            "[CV] C=1000, gamma=0.0001, kernel=linear .............................\n",
            "[CV] . C=1000, gamma=0.0001, kernel=linear, score=0.812, total=   0.2s\n",
            "[CV] C=1000, gamma=0.0001, kernel=linear .............................\n",
            "[CV] . C=1000, gamma=0.0001, kernel=linear, score=0.815, total=   0.2s\n",
            "[CV] C=1000, gamma=0.0001, kernel=linear .............................\n",
            "[CV] . C=1000, gamma=0.0001, kernel=linear, score=0.865, total=   0.2s\n",
            "[CV] C=1000, gamma=0.0001, kernel=linear .............................\n",
            "[CV] . C=1000, gamma=0.0001, kernel=linear, score=0.805, total=   0.2s\n",
            "[CV] C=1000, gamma=0.0001, kernel=linear .............................\n",
            "[CV] . C=1000, gamma=0.0001, kernel=linear, score=0.840, total=   0.2s\n",
            "[CV] C=1000, gamma=0.0001, kernel=sigmoid ............................\n",
            "[CV]  C=1000, gamma=0.0001, kernel=sigmoid, score=0.809, total=   0.1s\n",
            "[CV] C=1000, gamma=0.0001, kernel=sigmoid ............................\n",
            "[CV]  C=1000, gamma=0.0001, kernel=sigmoid, score=0.806, total=   0.1s\n",
            "[CV] C=1000, gamma=0.0001, kernel=sigmoid ............................\n",
            "[CV]  C=1000, gamma=0.0001, kernel=sigmoid, score=0.855, total=   0.1s\n",
            "[CV] C=1000, gamma=0.0001, kernel=sigmoid ............................\n",
            "[CV]  C=1000, gamma=0.0001, kernel=sigmoid, score=0.805, total=   0.1s\n",
            "[CV] C=1000, gamma=0.0001, kernel=sigmoid ............................\n",
            "[CV]  C=1000, gamma=0.0001, kernel=sigmoid, score=0.833, total=   0.1s\n"
          ]
        },
        {
          "output_type": "stream",
          "name": "stderr",
          "text": [
            "[Parallel(n_jobs=1)]: Done 300 out of 300 | elapsed:   21.2s finished\n"
          ]
        },
        {
          "output_type": "execute_result",
          "data": {
            "text/plain": [
              "GridSearchCV(cv=None, error_score=nan,\n",
              "             estimator=SVC(C=1.0, break_ties=False, cache_size=200,\n",
              "                           class_weight=None, coef0=0.0,\n",
              "                           decision_function_shape='ovr', degree=3,\n",
              "                           gamma='scale', kernel='rbf', max_iter=-1,\n",
              "                           probability=False, random_state=None, shrinking=True,\n",
              "                           tol=0.001, verbose=False),\n",
              "             iid='deprecated', n_jobs=None,\n",
              "             param_grid=[{'C': [1, 10, 100, 1000],\n",
              "                          'gamma': [1, 0.1, 0.01, 0.001, 0.0001],\n",
              "                          'kernel': ['rbf', 'linear', 'sigmoid']}],\n",
              "             pre_dispatch='2*n_jobs', refit=True, return_train_score=False,\n",
              "             scoring=None, verbose=3)"
            ]
          },
          "metadata": {},
          "execution_count": 85
        }
      ]
    },
    {
      "cell_type": "code",
      "metadata": {
        "colab": {
          "base_uri": "https://localhost:8080/"
        },
        "id": "wUxM6Q0QQ7Sa",
        "outputId": "4bbb0b1c-8703-49d6-d47e-58fe8b7ab89c"
      },
      "source": [
        "print(grid.best_params_)"
      ],
      "execution_count": null,
      "outputs": [
        {
          "output_type": "stream",
          "name": "stdout",
          "text": [
            "{'C': 1000, 'gamma': 1, 'kernel': 'rbf'}\n"
          ]
        }
      ]
    },
    {
      "cell_type": "code",
      "metadata": {
        "colab": {
          "base_uri": "https://localhost:8080/"
        },
        "id": "nbM_v1adSPuj",
        "outputId": "0256373f-df26-4c0e-93c4-b648f6f29f26"
      },
      "source": [
        "model_optimise = svm.SVC(C = 1000, gamma = 1, kernel = 'rbf', probability=True)\n",
        "model_optimise.fit(x_smote, y_smote)\n",
        "\n",
        "y_pred_optimised = model_optimise.predict(X_test)\n",
        "print(classification_report(y_test, y_pred_optimised, digits=4)) "
      ],
      "execution_count": null,
      "outputs": [
        {
          "output_type": "stream",
          "name": "stdout",
          "text": [
            "              precision    recall  f1-score   support\n",
            "\n",
            "           0     0.9610    0.9639    0.9624       332\n",
            "           1     0.8667    0.8571    0.8619        91\n",
            "\n",
            "    accuracy                         0.9409       423\n",
            "   macro avg     0.9138    0.9105    0.9121       423\n",
            "weighted avg     0.9407    0.9409    0.9408       423\n",
            "\n"
          ]
        }
      ]
    },
    {
      "cell_type": "code",
      "metadata": {
        "id": "lE-bbDpbg-9z"
      },
      "source": [
        "#Save Optimised SVM Model\n",
        "import pickle\n",
        "pickle.dump(model_optimise, open('best_model.pkl', 'wb'))"
      ],
      "execution_count": null,
      "outputs": []
    },
    {
      "cell_type": "code",
      "metadata": {
        "id": "1m0UeeAkSLhv",
        "colab": {
          "base_uri": "https://localhost:8080/"
        },
        "outputId": "c6fb05e8-8b5f-4c69-c757-a142b973196b"
      },
      "source": [
        "#Model Testing\n",
        "DO = 6.7\n",
        "PH = 6.4\n",
        "cond = 93\n",
        "bod = 1.4\n",
        "ni = 0.1\n",
        "fec_col = 2147\n",
        "tot_col = 3433\n",
        "\n",
        "\n",
        "DO_trans = (DO - 2.5) / (10 - 2.5)\n",
        "PH_trans = (PH - 0) / (9.01 - 0)\n",
        "cond_trans = (cond - 11) / (18291 - 11)\n",
        "bod_trans = (bod - 0.1) / (7.8 - 0.1)\n",
        "ni_trans = (ni - 0) / (11 - 0)\n",
        "fec_col_trans = (fec_col - 0) / (2367 - 0)\n",
        "tot_col_trans = (tot_col - 0) / (\t66382 - 0)\n",
        "\n",
        "input = [[DO_trans, PH_trans, cond_trans, bod_trans, ni_trans, fec_col_trans, tot_col_trans]]\n",
        "#output = scaler.fit_transform(input)\n",
        "#print (output[0][0])\n",
        "print (input)\n",
        "test = model_optimise.fit(x_smote, y_smote)\n",
        "\n",
        "output =  test.predict(input)\n",
        "print (output[0])\n"
      ],
      "execution_count": null,
      "outputs": [
        {
          "output_type": "stream",
          "name": "stdout",
          "text": [
            "[[0.56, 0.7103218645948947, 0.004485776805251641, 0.1688311688311688, 0.009090909090909092, 0.9070553443177017, 0.05171582657949444]]\n",
            "1\n"
          ]
        }
      ]
    }
  ]
}